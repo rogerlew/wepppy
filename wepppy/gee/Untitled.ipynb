{
 "cells": [
  {
   "cell_type": "code",
   "execution_count": 1,
   "metadata": {},
   "outputs": [],
   "source": [
    "import json\n",
    "import math\n",
    "\n",
    "from os.path import join as _join\n",
    "from subprocess import Popen, PIPE\n",
    "\n",
    "from wepppy.all_your_base.geo import GeoTransformer, wgs84_proj4\n",
    "\n",
    "import ee\n",
    "import numpy as np\n",
    "import geetools\n",
    "\n",
    "geodata_dir = '/geodata/'\n",
    "\n",
    "\n",
    "def safe_float_parse(x):\n",
    "    \"\"\"\n",
    "    Tries to parse {x} as a float. Returns None if it fails.\n",
    "    \"\"\"\n",
    "    try:\n",
    "        return float(x)\n",
    "    except:\n",
    "        return None\n",
    "\n",
    "\n",
    "def safe_int_parse(x):\n",
    "    \"\"\"\n",
    "    Tries to parse {x} as a int. Returns None if it fails.\n",
    "    \"\"\"\n",
    "    try:\n",
    "        return int(x)\n",
    "    except:\n",
    "        return None\n"
   ]
  },
  {
   "cell_type": "code",
   "execution_count": 2,
   "metadata": {},
   "outputs": [],
   "source": [
    "ee.Initialize()"
   ]
  },
  {
   "cell_type": "code",
   "execution_count": 3,
   "metadata": {},
   "outputs": [
    {
     "name": "stdout",
     "output_type": "stream",
     "text": [
      "--2022-04-26 12:15:45--  https://palouseresidue.nkn.uidaho.edu/boundaries/whitman_huc12_wgs84.geojson\r\n",
      "Resolving palouseresidue.nkn.uidaho.edu (palouseresidue.nkn.uidaho.edu)... 129.101.202.243\r\n",
      "Connecting to palouseresidue.nkn.uidaho.edu (palouseresidue.nkn.uidaho.edu)|129.101.202.243|:443... connected.\r\n",
      "HTTP request sent, awaiting response... 200 OK\r\n",
      "Length: 3675606 (3.5M)\r\n",
      "Saving to: ‘whitman_huc12_wgs84.geojson.3’\r\n",
      "\r\n",
      "\r",
      "          whitman_h   0%[                    ]       0  --.-KB/s               \r",
      "whitman_huc12_wgs84 100%[===================>]   3.50M  --.-KB/s    in 0.02s   \r\n",
      "\r\n",
      "2022-04-26 12:15:45 (211 MB/s) - ‘whitman_huc12_wgs84.geojson.3’ saved [3675606/3675606]\r\n",
      "\r\n"
     ]
    }
   ],
   "source": [
    "!wget https://palouseresidue.nkn.uidaho.edu/boundaries/whitman_huc12_wgs84.geojson"
   ]
  },
  {
   "cell_type": "code",
   "execution_count": 4,
   "metadata": {},
   "outputs": [
    {
     "name": "stdout",
     "output_type": "stream",
     "text": [
      "INFO: Open of `whitman_huc12_wgs84.geojson'\r\n",
      "      using driver `GeoJSON' successful.\r\n",
      "1: whitman_huc12_wgs84_2 (Multi Polygon)\r\n"
     ]
    }
   ],
   "source": [
    "!ogrinfo whitman_huc12_wgs84.geojson"
   ]
  },
  {
   "cell_type": "code",
   "execution_count": 5,
   "metadata": {},
   "outputs": [
    {
     "name": "stderr",
     "output_type": "stream",
     "text": [
      "/usr/lib/python3/dist-packages/ipykernel_launcher.py:9: VisibleDeprecationWarning: Creating an ndarray from ragged nested sequences (which is a list-or-tuple of lists-or-tuples-or ndarrays with different lengths or shapes) is deprecated. If you meant to do this, you must specify 'dtype=object' when creating the ndarray\n",
      "  if __name__ == '__main__':\n"
     ]
    },
    {
     "data": {
      "text/plain": [
       "(-118.249404, 47.260029, -117.039413, 46.417051)"
      ]
     },
     "execution_count": 5,
     "metadata": {},
     "output_type": "execute_result"
    }
   ],
   "source": [
    "def geojson_bbox(geojson_fn):\n",
    "    with open(geojson_fn) as fp:\n",
    "        geojson = json.load(fp)\n",
    "\n",
    "    coords = []\n",
    "    for feature in geojson['features']:\n",
    "        coordinates = feature['geometry']['coordinates']\n",
    "        try:\n",
    "            coords.append(np.array(coordinates)[0,0,:,:])\n",
    "        except:\n",
    "            pass\n",
    "\n",
    "    coords = np.concatenate(coords)\n",
    "    coords.shape\n",
    "\n",
    "    bbox = np.min(coords[:, 0]), np.max(coords[:, 1]), \\\n",
    "           np.max(coords[:, 0]), np.min(coords[:, 1])\n",
    "        \n",
    "    return bbox\n",
    "            \n",
    "bbox = geojson_bbox('whitman_huc12_wgs84.geojson')\n",
    "bbox"
   ]
  },
  {
   "cell_type": "code",
   "execution_count": 6,
   "metadata": {},
   "outputs": [],
   "source": [
    "ee_bbox = ee.Geometry.BBox(west=bbox[0], north=bbox[1], east=bbox[2], south=bbox[3])"
   ]
  },
  {
   "cell_type": "code",
   "execution_count": 7,
   "metadata": {},
   "outputs": [
    {
     "data": {
      "text/plain": [
       "{'coordinates': [[[-118.249404, 47.260029],\n",
       "   [-118.249404, 46.417051],\n",
       "   [-117.039413, 46.417051],\n",
       "   [-117.039413, 47.260029]]],\n",
       " 'geodesic': False,\n",
       " 'type': 'Polygon'}"
      ]
     },
     "execution_count": 7,
     "metadata": {},
     "output_type": "execute_result"
    }
   ],
   "source": [
    "ee_bbox.toGeoJSON()"
   ]
  },
  {
   "cell_type": "code",
   "execution_count": null,
   "metadata": {},
   "outputs": [],
   "source": []
  },
  {
   "cell_type": "code",
   "execution_count": 8,
   "metadata": {},
   "outputs": [
    {
     "name": "stdout",
     "output_type": "stream",
     "text": [
      "exporting L8SR_07Apr2013_232-89 to folder 'MYFOLDER' in GDrive\n",
      "exporting L8SR_21Apr2013_232-89 to folder 'MYFOLDER' in GDrive\n",
      "exporting L8SR_23May2013_232-89 to folder 'MYFOLDER' in GDrive\n"
     ]
    }
   ],
   "source": [
    "# ## Define an ImageCollection\n",
    "site = ee.Geometry.Point([-72, -42]).buffer(1000)\n",
    "collection = ee.ImageCollection(\"LANDSAT/LC08/C01/T1_SR\").filterBounds(site).limit(3)\n",
    "\n",
    "# Set parameters\n",
    "bands = ['B2', 'B3', 'B4']\n",
    "scale = 30\n",
    "name_pattern = '{sat}_{system_date}_{WRS_PATH:%d}-{WRS_ROW:%d}'\n",
    "## the keywords between curly brackets can be {system_date} for the date of the\n",
    "## image (formatted using `date_pattern` arg), {id} for the id of the image\n",
    "## and/or any image property. You can also pass extra keywords using the `extra`\n",
    "## argument. Also, numeric values can be formatted using a format string (as\n",
    "## shown in {WRS_PATH:%d} (%d means it will be converted to integer)\n",
    "date_pattern = 'ddMMMy' # dd: day, MMM: month (JAN), y: year\n",
    "folder = 'MYFOLDER'\n",
    "data_type = 'uint32'\n",
    "extra = dict(sat='L8SR')\n",
    "region = site\n",
    "\n",
    "# ## Export\n",
    "tasks = geetools.batch.Export.imagecollection.toDrive(\n",
    "            collection=collection,\n",
    "            folder=folder,\n",
    "            region=site,\n",
    "            namePattern=name_pattern,\n",
    "            scale=scale,\n",
    "            dataType=data_type,\n",
    "            datePattern=date_pattern,\n",
    "            extra=extra,\n",
    "            verbose=True,\n",
    "            maxPixels=int(1e13)\n",
    "        )"
   ]
  },
  {
   "cell_type": "code",
   "execution_count": 9,
   "metadata": {},
   "outputs": [],
   "source": [
    "year = 2016\n",
    "\n",
    "dataset = ee.ImageCollection('LANDSAT/LC08/C02/T1_L2') \\\n",
    "            .filterDate(f'{year}-01-01', f'{year}-12-31') \\\n",
    "            .filterBounds(geometry=ee_bbox)\n",
    "            \n"
   ]
  },
  {
   "cell_type": "code",
   "execution_count": 10,
   "metadata": {},
   "outputs": [
    {
     "data": {
      "text/plain": [
       "['SR_B1',\n",
       " 'SR_B2',\n",
       " 'SR_B3',\n",
       " 'SR_B4',\n",
       " 'SR_B5',\n",
       " 'SR_B6',\n",
       " 'SR_B7',\n",
       " 'SR_QA_AEROSOL',\n",
       " 'ST_B10',\n",
       " 'ST_ATRAN',\n",
       " 'ST_CDIST',\n",
       " 'ST_DRAD',\n",
       " 'ST_EMIS',\n",
       " 'ST_EMSD',\n",
       " 'ST_QA',\n",
       " 'ST_TRAD',\n",
       " 'ST_URAD',\n",
       " 'QA_PIXEL',\n",
       " 'QA_RADSAT']"
      ]
     },
     "execution_count": 10,
     "metadata": {},
     "output_type": "execute_result"
    }
   ],
   "source": [
    "median = dataset.median()\n",
    "band_names = median.bandNames()\n",
    "bands = band_names.getInfo()\n",
    "bands"
   ]
  },
  {
   "cell_type": "code",
   "execution_count": 11,
   "metadata": {},
   "outputs": [],
   "source": [
    "scale = 90\n",
    "name_pattern = '{sat}_{system_date}_{WRS_PATH:%d}-{WRS_ROW:%d}'\n",
    "date_pattern = 'ddMMMy' # dd: day, MMM: month (JAN), y: year\n",
    "folder = 'MYFOLDER'\n",
    "data_type = 'uint32'\n",
    "extra = dict(sat='L8SR')\n",
    "region = ee_bbox"
   ]
  },
  {
   "cell_type": "code",
   "execution_count": 12,
   "metadata": {},
   "outputs": [],
   "source": [
    "from geetools import tools\n",
    "from geetools.batch import utils as tool_utils\n",
    "\n",
    "def toLocal(image, name=None, path=None, scale=None, region=None,\n",
    "            dimensions=None, toFolder=True, bands=None):\n",
    "    \"\"\" Download an Image to your hard drive\n",
    "    :param image: the image to download\n",
    "    :type image: ee.Image\n",
    "    :param path: the path to download the image. If None, it will be\n",
    "        downloaded to the same folder as the script is\n",
    "    :type path: str\n",
    "    :param name: name of the file\n",
    "    :type name: str\n",
    "    :param scale: scale of the image to download. If None, tries to get it.\n",
    "    :type scale: int\n",
    "    :param region: region to from where to download the image. If None,\n",
    "        will be the image region\n",
    "    :type region: ee.Geometry\n",
    "    :param\n",
    "    \"\"\"\n",
    "    # TODO: checkExist\n",
    "    try:\n",
    "        import zipfile\n",
    "    except:\n",
    "        raise ValueError(\n",
    "            'zipfile module not found, install it using '\n",
    "            '`pip install zipfile`')\n",
    "\n",
    "    name = name if name else image.id().getInfo()\n",
    "\n",
    "    scale = scale if scale else int(tools.image.minscale(image).getInfo())\n",
    "\n",
    "    if region:\n",
    "        region = tools.geometry.getRegion(region)\n",
    "    else:\n",
    "        region = tools.geometry.getRegion(image)\n",
    "\n",
    "    params = {'region': region,\n",
    "              'scale': scale}\n",
    "\n",
    "    if dimensions:\n",
    "        params.update({'dimensions': dimensions})\n",
    "        \n",
    "    if bands:\n",
    "        params.update({'bands': bands})\n",
    "\n",
    "    print(params)\n",
    "    url = image.getDownloadURL(params)\n",
    "\n",
    "    ext = 'zip'\n",
    "\n",
    "    tool_utils.downloadFile(url, name, ext)\n",
    "\n",
    "    filename = '{}.{}'.format(name, ext)\n",
    "\n",
    "    original_filepath = os.path.join(os.getcwd(), filename)\n",
    "\n",
    "    if path:\n",
    "        filepath = os.path.join(path, filename)\n",
    "        os.rename(original_filepath, filepath)\n",
    "    else:\n",
    "        path = os.getcwd()\n",
    "        filepath = os.path.join(path, filename)\n",
    "\n",
    "    try:\n",
    "        zip_ref = zipfile.ZipFile(filepath, 'r')\n",
    "\n",
    "        if toFolder:\n",
    "            finalpath = os.path.join(path, name)\n",
    "        else:\n",
    "            finalpath = path\n",
    "\n",
    "        zip_ref.extractall(finalpath)\n",
    "        zip_ref.close()\n",
    "    except:\n",
    "        raise\n"
   ]
  },
  {
   "cell_type": "code",
   "execution_count": 13,
   "metadata": {},
   "outputs": [
    {
     "data": {
      "text/plain": [
       "'/workdir/wepppy/wepppy/gee'"
      ]
     },
     "execution_count": 13,
     "metadata": {},
     "output_type": "execute_result"
    }
   ],
   "source": [
    "import os\n",
    "path = os.getcwd()\n",
    "path"
   ]
  },
  {
   "cell_type": "code",
   "execution_count": 15,
   "metadata": {},
   "outputs": [
    {
     "name": "stdout",
     "output_type": "stream",
     "text": [
      "{'region': [[[-118.249404, 46.417051], [-117.039413, 46.417051], [-117.039413, 47.260029], [-118.249404, 47.260029], [-118.249404, 46.417051]]], 'scale': 90, 'bands': ['SR_B1']}\n",
      "path /workdir/wepppy/wepppy/gee\n"
     ]
    }
   ],
   "source": [
    "toLocal(\n",
    "            image=median,\n",
    "            name=f'{year}_sr8_median',\n",
    "            scale=scale,\n",
    "            region=region,\n",
    "            bands=[bands[0]]\n",
    "        )"
   ]
  },
  {
   "cell_type": "code",
   "execution_count": null,
   "metadata": {},
   "outputs": [],
   "source": [
    "!ls"
   ]
  },
  {
   "cell_type": "code",
   "execution_count": 64,
   "metadata": {},
   "outputs": [
    {
     "ename": "EEException",
     "evalue": "Total request size (2402949969 bytes) must be less than or equal to 50331648 bytes.",
     "output_type": "error",
     "traceback": [
      "\u001b[0;31m---------------------------------------------------------------------------\u001b[0m",
      "\u001b[0;31mHttpError\u001b[0m                                 Traceback (most recent call last)",
      "\u001b[0;32m/usr/local/lib/python3.6/dist-packages/ee/data.py\u001b[0m in \u001b[0;36m_execute_cloud_call\u001b[0;34m(call, num_retries)\u001b[0m\n\u001b[1;32m    329\u001b[0m   \u001b[0;32mtry\u001b[0m\u001b[0;34m:\u001b[0m\u001b[0;34m\u001b[0m\u001b[0;34m\u001b[0m\u001b[0m\n\u001b[0;32m--> 330\u001b[0;31m     \u001b[0;32mreturn\u001b[0m \u001b[0mcall\u001b[0m\u001b[0;34m.\u001b[0m\u001b[0mexecute\u001b[0m\u001b[0;34m(\u001b[0m\u001b[0mnum_retries\u001b[0m\u001b[0;34m=\u001b[0m\u001b[0mnum_retries\u001b[0m\u001b[0;34m)\u001b[0m\u001b[0;34m\u001b[0m\u001b[0;34m\u001b[0m\u001b[0m\n\u001b[0m\u001b[1;32m    331\u001b[0m   \u001b[0;32mexcept\u001b[0m \u001b[0mgoogleapiclient\u001b[0m\u001b[0;34m.\u001b[0m\u001b[0merrors\u001b[0m\u001b[0;34m.\u001b[0m\u001b[0mHttpError\u001b[0m \u001b[0;32mas\u001b[0m \u001b[0me\u001b[0m\u001b[0;34m:\u001b[0m\u001b[0;34m\u001b[0m\u001b[0;34m\u001b[0m\u001b[0m\n",
      "\u001b[0;32m/usr/local/lib/python3.6/dist-packages/googleapiclient/_helpers.py\u001b[0m in \u001b[0;36mpositional_wrapper\u001b[0;34m(*args, **kwargs)\u001b[0m\n\u001b[1;32m    133\u001b[0m                     \u001b[0mlogger\u001b[0m\u001b[0;34m.\u001b[0m\u001b[0mwarning\u001b[0m\u001b[0;34m(\u001b[0m\u001b[0mmessage\u001b[0m\u001b[0;34m)\u001b[0m\u001b[0;34m\u001b[0m\u001b[0;34m\u001b[0m\u001b[0m\n\u001b[0;32m--> 134\u001b[0;31m             \u001b[0;32mreturn\u001b[0m \u001b[0mwrapped\u001b[0m\u001b[0;34m(\u001b[0m\u001b[0;34m*\u001b[0m\u001b[0margs\u001b[0m\u001b[0;34m,\u001b[0m \u001b[0;34m**\u001b[0m\u001b[0mkwargs\u001b[0m\u001b[0;34m)\u001b[0m\u001b[0;34m\u001b[0m\u001b[0;34m\u001b[0m\u001b[0m\n\u001b[0m\u001b[1;32m    135\u001b[0m \u001b[0;34m\u001b[0m\u001b[0m\n",
      "\u001b[0;32m/usr/local/lib/python3.6/dist-packages/googleapiclient/http.py\u001b[0m in \u001b[0;36mexecute\u001b[0;34m(self, http, num_retries)\u001b[0m\n\u001b[1;32m    914\u001b[0m         \u001b[0;32mif\u001b[0m \u001b[0mresp\u001b[0m\u001b[0;34m.\u001b[0m\u001b[0mstatus\u001b[0m \u001b[0;34m>=\u001b[0m \u001b[0;36m300\u001b[0m\u001b[0;34m:\u001b[0m\u001b[0;34m\u001b[0m\u001b[0;34m\u001b[0m\u001b[0m\n\u001b[0;32m--> 915\u001b[0;31m             \u001b[0;32mraise\u001b[0m \u001b[0mHttpError\u001b[0m\u001b[0;34m(\u001b[0m\u001b[0mresp\u001b[0m\u001b[0;34m,\u001b[0m \u001b[0mcontent\u001b[0m\u001b[0;34m,\u001b[0m \u001b[0muri\u001b[0m\u001b[0;34m=\u001b[0m\u001b[0mself\u001b[0m\u001b[0;34m.\u001b[0m\u001b[0muri\u001b[0m\u001b[0;34m)\u001b[0m\u001b[0;34m\u001b[0m\u001b[0;34m\u001b[0m\u001b[0m\n\u001b[0m\u001b[1;32m    916\u001b[0m         \u001b[0;32mreturn\u001b[0m \u001b[0mself\u001b[0m\u001b[0;34m.\u001b[0m\u001b[0mpostproc\u001b[0m\u001b[0;34m(\u001b[0m\u001b[0mresp\u001b[0m\u001b[0;34m,\u001b[0m \u001b[0mcontent\u001b[0m\u001b[0;34m)\u001b[0m\u001b[0;34m\u001b[0m\u001b[0;34m\u001b[0m\u001b[0m\n",
      "\u001b[0;31mHttpError\u001b[0m: <HttpError 400 when requesting https://earthengine.googleapis.com/v1alpha/projects/earthengine-legacy/thumbnails?fields=name&alt=json returned \"Total request size (2402949969 bytes) must be less than or equal to 50331648 bytes.\". Details: \"Total request size (2402949969 bytes) must be less than or equal to 50331648 bytes.\">",
      "\nDuring handling of the above exception, another exception occurred:\n",
      "\u001b[0;31mEEException\u001b[0m                               Traceback (most recent call last)",
      "\u001b[0;32m<ipython-input-64-f13b2e55eed5>\u001b[0m in \u001b[0;36m<module>\u001b[0;34m()\u001b[0m\n\u001b[1;32m      2\u001b[0m             \u001b[0mimage\u001b[0m\u001b[0;34m=\u001b[0m\u001b[0mmedian\u001b[0m\u001b[0;34m,\u001b[0m\u001b[0;34m\u001b[0m\u001b[0;34m\u001b[0m\u001b[0m\n\u001b[1;32m      3\u001b[0m             \u001b[0mscale\u001b[0m\u001b[0;34m=\u001b[0m\u001b[0mscale\u001b[0m\u001b[0;34m,\u001b[0m\u001b[0;34m\u001b[0m\u001b[0;34m\u001b[0m\u001b[0m\n\u001b[0;32m----> 4\u001b[0;31m             \u001b[0mregion\u001b[0m\u001b[0;34m=\u001b[0m\u001b[0mregion\u001b[0m\u001b[0;34m\u001b[0m\u001b[0;34m\u001b[0m\u001b[0m\n\u001b[0m\u001b[1;32m      5\u001b[0m         )\n\u001b[1;32m      6\u001b[0m \u001b[0;34m\u001b[0m\u001b[0m\n",
      "\u001b[0;32m/home/roger/gee_tools/geetools/batch/image.py\u001b[0m in \u001b[0;36mtoLocal\u001b[0;34m(image, name, path, scale, region, dimensions, toFolder)\u001b[0m\n\u001b[1;32m     48\u001b[0m         \u001b[0mparams\u001b[0m \u001b[0;34m=\u001b[0m \u001b[0mparams\u001b[0m\u001b[0;34m.\u001b[0m\u001b[0mupdate\u001b[0m\u001b[0;34m(\u001b[0m\u001b[0;34m{\u001b[0m\u001b[0;34m'dimensions'\u001b[0m\u001b[0;34m:\u001b[0m \u001b[0mdimensions\u001b[0m\u001b[0;34m}\u001b[0m\u001b[0;34m)\u001b[0m\u001b[0;34m\u001b[0m\u001b[0;34m\u001b[0m\u001b[0m\n\u001b[1;32m     49\u001b[0m \u001b[0;34m\u001b[0m\u001b[0m\n\u001b[0;32m---> 50\u001b[0;31m     \u001b[0murl\u001b[0m \u001b[0;34m=\u001b[0m \u001b[0mimage\u001b[0m\u001b[0;34m.\u001b[0m\u001b[0mgetDownloadURL\u001b[0m\u001b[0;34m(\u001b[0m\u001b[0mparams\u001b[0m\u001b[0;34m)\u001b[0m\u001b[0;34m\u001b[0m\u001b[0;34m\u001b[0m\u001b[0m\n\u001b[0m\u001b[1;32m     51\u001b[0m \u001b[0;34m\u001b[0m\u001b[0m\n\u001b[1;32m     52\u001b[0m     \u001b[0mext\u001b[0m \u001b[0;34m=\u001b[0m \u001b[0;34m'zip'\u001b[0m\u001b[0;34m\u001b[0m\u001b[0;34m\u001b[0m\u001b[0m\n",
      "\u001b[0;32m/usr/local/lib/python3.6/dist-packages/ee/image.py\u001b[0m in \u001b[0;36mgetDownloadURL\u001b[0;34m(self, params)\u001b[0m\n\u001b[1;32m    467\u001b[0m     \u001b[0mrequest\u001b[0m \u001b[0;34m=\u001b[0m \u001b[0mparams\u001b[0m \u001b[0;32mor\u001b[0m \u001b[0;34m{\u001b[0m\u001b[0;34m}\u001b[0m\u001b[0;34m\u001b[0m\u001b[0;34m\u001b[0m\u001b[0m\n\u001b[1;32m    468\u001b[0m     \u001b[0mrequest\u001b[0m\u001b[0;34m[\u001b[0m\u001b[0;34m'image'\u001b[0m\u001b[0;34m]\u001b[0m \u001b[0;34m=\u001b[0m \u001b[0mself\u001b[0m\u001b[0;34m\u001b[0m\u001b[0;34m\u001b[0m\u001b[0m\n\u001b[0;32m--> 469\u001b[0;31m     \u001b[0;32mreturn\u001b[0m \u001b[0mdata\u001b[0m\u001b[0;34m.\u001b[0m\u001b[0mmakeDownloadUrl\u001b[0m\u001b[0;34m(\u001b[0m\u001b[0mdata\u001b[0m\u001b[0;34m.\u001b[0m\u001b[0mgetDownloadId\u001b[0m\u001b[0;34m(\u001b[0m\u001b[0mrequest\u001b[0m\u001b[0;34m)\u001b[0m\u001b[0;34m)\u001b[0m\u001b[0;34m\u001b[0m\u001b[0;34m\u001b[0m\u001b[0m\n\u001b[0m\u001b[1;32m    470\u001b[0m \u001b[0;34m\u001b[0m\u001b[0m\n\u001b[1;32m    471\u001b[0m   \u001b[0;32mdef\u001b[0m \u001b[0mgetThumbId\u001b[0m\u001b[0;34m(\u001b[0m\u001b[0mself\u001b[0m\u001b[0;34m,\u001b[0m \u001b[0mparams\u001b[0m\u001b[0;34m)\u001b[0m\u001b[0;34m:\u001b[0m\u001b[0;34m\u001b[0m\u001b[0;34m\u001b[0m\u001b[0m\n",
      "\u001b[0;32m/usr/local/lib/python3.6/dist-packages/ee/data.py\u001b[0m in \u001b[0;36mgetDownloadId\u001b[0;34m(params)\u001b[0m\n\u001b[1;32m    966\u001b[0m   result = _execute_cloud_call(\n\u001b[1;32m    967\u001b[0m       _get_cloud_api_resource().projects().thumbnails().create(\n\u001b[0;32m--> 968\u001b[0;31m           parent=_get_projects_path(), fields='name', body=request))\n\u001b[0m\u001b[1;32m    969\u001b[0m   \u001b[0;32mreturn\u001b[0m \u001b[0;34m{\u001b[0m\u001b[0;34m'docid'\u001b[0m\u001b[0;34m:\u001b[0m \u001b[0mresult\u001b[0m\u001b[0;34m[\u001b[0m\u001b[0;34m'name'\u001b[0m\u001b[0;34m]\u001b[0m\u001b[0;34m,\u001b[0m \u001b[0;34m'token'\u001b[0m\u001b[0;34m:\u001b[0m \u001b[0;34m''\u001b[0m\u001b[0;34m}\u001b[0m\u001b[0;34m\u001b[0m\u001b[0;34m\u001b[0m\u001b[0m\n\u001b[1;32m    970\u001b[0m \u001b[0;34m\u001b[0m\u001b[0m\n",
      "\u001b[0;32m/usr/local/lib/python3.6/dist-packages/ee/data.py\u001b[0m in \u001b[0;36m_execute_cloud_call\u001b[0;34m(call, num_retries)\u001b[0m\n\u001b[1;32m    330\u001b[0m     \u001b[0;32mreturn\u001b[0m \u001b[0mcall\u001b[0m\u001b[0;34m.\u001b[0m\u001b[0mexecute\u001b[0m\u001b[0;34m(\u001b[0m\u001b[0mnum_retries\u001b[0m\u001b[0;34m=\u001b[0m\u001b[0mnum_retries\u001b[0m\u001b[0;34m)\u001b[0m\u001b[0;34m\u001b[0m\u001b[0;34m\u001b[0m\u001b[0m\n\u001b[1;32m    331\u001b[0m   \u001b[0;32mexcept\u001b[0m \u001b[0mgoogleapiclient\u001b[0m\u001b[0;34m.\u001b[0m\u001b[0merrors\u001b[0m\u001b[0;34m.\u001b[0m\u001b[0mHttpError\u001b[0m \u001b[0;32mas\u001b[0m \u001b[0me\u001b[0m\u001b[0;34m:\u001b[0m\u001b[0;34m\u001b[0m\u001b[0;34m\u001b[0m\u001b[0m\n\u001b[0;32m--> 332\u001b[0;31m     \u001b[0;32mraise\u001b[0m \u001b[0m_translate_cloud_exception\u001b[0m\u001b[0;34m(\u001b[0m\u001b[0me\u001b[0m\u001b[0;34m)\u001b[0m\u001b[0;34m\u001b[0m\u001b[0;34m\u001b[0m\u001b[0m\n\u001b[0m\u001b[1;32m    333\u001b[0m \u001b[0;34m\u001b[0m\u001b[0m\n\u001b[1;32m    334\u001b[0m \u001b[0;34m\u001b[0m\u001b[0m\n",
      "\u001b[0;31mEEException\u001b[0m: Total request size (2402949969 bytes) must be less than or equal to 50331648 bytes."
     ]
    }
   ],
   "source": [
    "tasks = geetools.batch.image.toLocal(\n",
    "            image=median,\n",
    "            scale=scale,\n",
    "            region=region\n",
    "        )\n",
    "\n"
   ]
  },
  {
   "cell_type": "code",
   "execution_count": 16,
   "metadata": {},
   "outputs": [
    {
     "ename": "ModuleNotFoundError",
     "evalue": "No module named 'geetools.collection'",
     "output_type": "error",
     "traceback": [
      "\u001b[0;31m---------------------------------------------------------------------------\u001b[0m",
      "\u001b[0;31mModuleNotFoundError\u001b[0m                       Traceback (most recent call last)",
      "\u001b[0;32m<ipython-input-16-c3484be03647>\u001b[0m in \u001b[0;36m<module>\u001b[0;34m()\u001b[0m\n\u001b[1;32m      1\u001b[0m \u001b[0;34m\u001b[0m\u001b[0m\n\u001b[0;32m----> 2\u001b[0;31m \u001b[0;32mimport\u001b[0m \u001b[0mgeebap\u001b[0m\u001b[0;34m\u001b[0m\u001b[0;34m\u001b[0m\u001b[0m\n\u001b[0m\u001b[1;32m      3\u001b[0m \u001b[0;32mfrom\u001b[0m \u001b[0mgeetools\u001b[0m \u001b[0;32mimport\u001b[0m \u001b[0mtools\u001b[0m\u001b[0;34m\u001b[0m\u001b[0;34m\u001b[0m\u001b[0m\n\u001b[1;32m      4\u001b[0m \u001b[0;34m\u001b[0m\u001b[0m\n\u001b[1;32m      5\u001b[0m \u001b[0;32mimport\u001b[0m \u001b[0mpprint\u001b[0m\u001b[0;34m\u001b[0m\u001b[0;34m\u001b[0m\u001b[0m\n",
      "\u001b[0;32m/usr/local/lib/python3.6/dist-packages/geebap/__init__.py\u001b[0m in \u001b[0;36m<module>\u001b[0;34m()\u001b[0m\n\u001b[1;32m     21\u001b[0m \u001b[0m__copyright__\u001b[0m \u001b[0;34m=\u001b[0m \u001b[0;34m\"Rodrigo E. Principe\"\u001b[0m\u001b[0;34m\u001b[0m\u001b[0;34m\u001b[0m\u001b[0m\n\u001b[1;32m     22\u001b[0m \u001b[0;34m\u001b[0m\u001b[0m\n\u001b[0;32m---> 23\u001b[0;31m \u001b[0;32mfrom\u001b[0m \u001b[0;34m.\u001b[0m \u001b[0;32mimport\u001b[0m \u001b[0mbap\u001b[0m\u001b[0;34m,\u001b[0m \u001b[0mdate\u001b[0m\u001b[0;34m,\u001b[0m \u001b[0mexpgen\u001b[0m\u001b[0;34m,\u001b[0m \u001b[0mexpressions\u001b[0m\u001b[0;34m,\u001b[0m \u001b[0mfilters\u001b[0m\u001b[0;34m,\u001b[0m \u001b[0mfunctions\u001b[0m\u001b[0;34m,\u001b[0m\u001b[0;31m\\\u001b[0m\u001b[0;34m\u001b[0m\u001b[0;34m\u001b[0m\u001b[0m\n\u001b[0m\u001b[1;32m     24\u001b[0m     \u001b[0mipytools\u001b[0m\u001b[0;34m,\u001b[0m \u001b[0mmasks\u001b[0m\u001b[0;34m,\u001b[0m \u001b[0mregdec\u001b[0m\u001b[0;34m,\u001b[0m \u001b[0mscores\u001b[0m\u001b[0;34m,\u001b[0m \u001b[0mseason\u001b[0m\u001b[0;34m,\u001b[0m \u001b[0msites\u001b[0m\u001b[0;34m\u001b[0m\u001b[0;34m\u001b[0m\u001b[0m\n\u001b[1;32m     25\u001b[0m \u001b[0;34m\u001b[0m\u001b[0m\n",
      "\u001b[0;32m/usr/local/lib/python3.6/dist-packages/geebap/bap.py\u001b[0m in \u001b[0;36m<module>\u001b[0;34m()\u001b[0m\n\u001b[1;32m      3\u001b[0m \u001b[0;34m\u001b[0m\u001b[0m\n\u001b[1;32m      4\u001b[0m \u001b[0;32mfrom\u001b[0m \u001b[0mgeetools\u001b[0m \u001b[0;32mimport\u001b[0m \u001b[0mtools\u001b[0m\u001b[0;34m\u001b[0m\u001b[0;34m\u001b[0m\u001b[0m\n\u001b[0;32m----> 5\u001b[0;31m \u001b[0;32mfrom\u001b[0m \u001b[0;34m.\u001b[0m \u001b[0;32mimport\u001b[0m \u001b[0mscores\u001b[0m\u001b[0;34m,\u001b[0m \u001b[0mpriority\u001b[0m\u001b[0;34m,\u001b[0m \u001b[0mfunctions\u001b[0m\u001b[0;34m,\u001b[0m \u001b[0mutils\u001b[0m\u001b[0;34m,\u001b[0m \u001b[0m__version__\u001b[0m\u001b[0;34m\u001b[0m\u001b[0;34m\u001b[0m\u001b[0m\n\u001b[0m\u001b[1;32m      6\u001b[0m \u001b[0;32mimport\u001b[0m \u001b[0mee\u001b[0m\u001b[0;34m\u001b[0m\u001b[0;34m\u001b[0m\u001b[0m\n\u001b[1;32m      7\u001b[0m \u001b[0;32mimport\u001b[0m \u001b[0mjson\u001b[0m\u001b[0;34m\u001b[0m\u001b[0;34m\u001b[0m\u001b[0m\n",
      "\u001b[0;32m/usr/local/lib/python3.6/dist-packages/geebap/scores.py\u001b[0m in \u001b[0;36m<module>\u001b[0;34m()\u001b[0m\n\u001b[1;32m     31\u001b[0m \u001b[0;32mimport\u001b[0m \u001b[0mee\u001b[0m\u001b[0;34m\u001b[0m\u001b[0;34m\u001b[0m\u001b[0m\n\u001b[1;32m     32\u001b[0m \u001b[0;34m\u001b[0m\u001b[0m\n\u001b[0;32m---> 33\u001b[0;31m \u001b[0;32mfrom\u001b[0m \u001b[0;34m.\u001b[0m \u001b[0;32mimport\u001b[0m \u001b[0mpriority\u001b[0m\u001b[0;34m\u001b[0m\u001b[0;34m\u001b[0m\u001b[0m\n\u001b[0m\u001b[1;32m     34\u001b[0m \u001b[0;32mfrom\u001b[0m \u001b[0;34m.\u001b[0m \u001b[0;32mimport\u001b[0m \u001b[0mseason\u001b[0m \u001b[0;32mas\u001b[0m \u001b[0mseason_module\u001b[0m\u001b[0;34m\u001b[0m\u001b[0;34m\u001b[0m\u001b[0m\n\u001b[1;32m     35\u001b[0m \u001b[0;32mfrom\u001b[0m \u001b[0mgeetools\u001b[0m \u001b[0;32mimport\u001b[0m \u001b[0mtools\u001b[0m\u001b[0;34m,\u001b[0m \u001b[0mcomposite\u001b[0m\u001b[0;34m\u001b[0m\u001b[0;34m\u001b[0m\u001b[0m\n",
      "\u001b[0;32m/usr/local/lib/python3.6/dist-packages/geebap/priority.py\u001b[0m in \u001b[0;36m<module>\u001b[0;34m()\u001b[0m\n\u001b[1;32m      2\u001b[0m \u001b[0;32mimport\u001b[0m \u001b[0mee\u001b[0m\u001b[0;34m\u001b[0m\u001b[0;34m\u001b[0m\u001b[0m\n\u001b[1;32m      3\u001b[0m \u001b[0;32mfrom\u001b[0m \u001b[0mdatetime\u001b[0m \u001b[0;32mimport\u001b[0m \u001b[0mdate\u001b[0m\u001b[0;34m\u001b[0m\u001b[0;34m\u001b[0m\u001b[0m\n\u001b[0;32m----> 4\u001b[0;31m \u001b[0;32mfrom\u001b[0m \u001b[0mgeetools\u001b[0m\u001b[0;34m.\u001b[0m\u001b[0mcollection\u001b[0m\u001b[0;34m.\u001b[0m\u001b[0mgroup\u001b[0m \u001b[0;32mimport\u001b[0m \u001b[0mCollectionGroup\u001b[0m\u001b[0;34m\u001b[0m\u001b[0;34m\u001b[0m\u001b[0m\n\u001b[0m\u001b[1;32m      5\u001b[0m \u001b[0;34m\u001b[0m\u001b[0m\n\u001b[1;32m      6\u001b[0m \u001b[0;31m# IDS\u001b[0m\u001b[0;34m\u001b[0m\u001b[0;34m\u001b[0m\u001b[0;34m\u001b[0m\u001b[0m\n",
      "\u001b[0;31mModuleNotFoundError\u001b[0m: No module named 'geetools.collection'"
     ]
    }
   ],
   "source": [
    "\n",
    "import geebap\n",
    "from geetools import tools\n",
    "\n",
    "import pprint\n",
    "pp = pprint.PrettyPrinter(indent=2)\n",
    "\n",
    "# SEASON\n",
    "a_season = geebap.season.Season('11-15', '03-15')\n",
    "\n",
    "# MASKS\n",
    "cld_mask = geebap.masks.Mask()\n",
    "\n",
    "# Combine masks in a tuple\n",
    "masks = (cld_mask,)\n",
    "\n",
    "# FILTERS\n",
    "filt_cld = geebap.filters.CloudCover()\n",
    "# filt_mask = geebap.filters.MaskCover() # Doesn't work\n",
    "\n",
    "# Combine filters in a tuple\n",
    "filters = (filt_cld,)#, filt_mask)\n",
    "\n",
    "# SCORES\n",
    "best_doy = geebap.scores.Doy('01-15', a_season)\n",
    "sat = geebap.scores.Satellite()\n",
    "out = geebap.scores.Outliers((\"ndvi\",))\n",
    "ind = geebap.scores.Index(\"ndvi\")\n",
    "maskpercent = geebap.scores.MaskPercentKernel()\n",
    "dist = geebap.scores.CloudDist()\n",
    "\n",
    "# Combine scores in a tuple\n",
    "scores = (\n",
    "    best_doy,\n",
    "    sat,\n",
    "    out,\n",
    "    ind,\n",
    "    maskpercent,\n",
    "    dist\n",
    ")\n",
    "\n",
    "# BAP OBJECT\n",
    "BAP = geebap.Bap(range=(0, 0),\n",
    "                 season=a_season,\n",
    "                 masks=masks,\n",
    "                 scores=scores,\n",
    "                 filters=filters)\n",
    "\n",
    "# SITE\n",
    "site = ee.Geometry.Polygon([[-71.5,-42.5],\n",
    "                            [-71.5,-43],\n",
    "                            [-72,-43],\n",
    "                            [-72,-42.5]])\n",
    "\n",
    "# COMPOSITE\n",
    "composite = BAP.build_composite_best(2019, site=site, indices=(\"ndvi\",))\n",
    "\n",
    "# `composite` is a ee.Image object, so you can do anything\n",
    "# from here..\n",
    "one_value = tools.image.getValue(composite,\n",
    "                                 site.centroid(),\n",
    "                                 30, 'client')\n",
    "pp.pprint(one_value)"
   ]
  },
  {
   "cell_type": "code",
   "execution_count": null,
   "metadata": {},
   "outputs": [],
   "source": []
  }
 ],
 "metadata": {
  "kernelspec": {
   "display_name": "Python 3",
   "language": "python",
   "name": "python3"
  },
  "language_info": {
   "codemirror_mode": {
    "name": "ipython",
    "version": 3
   },
   "file_extension": ".py",
   "mimetype": "text/x-python",
   "name": "python",
   "nbconvert_exporter": "python",
   "pygments_lexer": "ipython3",
   "version": "3.6.9"
  }
 },
 "nbformat": 4,
 "nbformat_minor": 2
}
