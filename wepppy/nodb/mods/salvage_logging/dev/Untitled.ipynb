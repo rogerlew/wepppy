{
 "cells": [
  {
   "cell_type": "code",
   "execution_count": 1,
   "metadata": {},
   "outputs": [],
   "source": [
    "import wepppy\n",
    "from os.path import join as _join\n",
    "from os.path import exists as _exists\n",
    "from os.path import split as _split\n"
   ]
  },
  {
   "cell_type": "code",
   "execution_count": 2,
   "metadata": {},
   "outputs": [],
   "source": [
    "from ipyleaflet import *"
   ]
  },
  {
   "cell_type": "code",
   "execution_count": 3,
   "metadata": {},
   "outputs": [],
   "source": [
    "wd = '/geodata/weppcloud_runs/rlew-speechless-coastline/'"
   ]
  },
  {
   "cell_type": "code",
   "execution_count": 4,
   "metadata": {},
   "outputs": [
    {
     "name": "stdout",
     "output_type": "stream",
     "text": [
      "<enum 'DelineationBackend'>\n"
     ]
    }
   ],
   "source": [
    "watershed = wepppy.nodb.Watershed.getInstance(wd)"
   ]
  },
  {
   "cell_type": "code",
   "execution_count": 5,
   "metadata": {},
   "outputs": [
    {
     "name": "stdout",
     "output_type": "stream",
     "text": [
      "Driver: GTiff/GeoTIFF\r\n",
      "Files: /geodata/weppcloud_runs/rlew-speechless-coastline/dem/dem.tif\r\n",
      "       /geodata/weppcloud_runs/rlew-speechless-coastline/dem/dem.tif.aux.xml\r\n",
      "Size is 542, 568\r\n",
      "Coordinate System is:\r\n",
      "PROJCS[\"WGS 84 / UTM zone 11N\",\r\n",
      "    GEOGCS[\"WGS 84\",\r\n",
      "        DATUM[\"WGS_1984\",\r\n",
      "            SPHEROID[\"WGS 84\",6378137,298.257223563,\r\n",
      "                AUTHORITY[\"EPSG\",\"7030\"]],\r\n",
      "            AUTHORITY[\"EPSG\",\"6326\"]],\r\n",
      "        PRIMEM[\"Greenwich\",0,\r\n",
      "            AUTHORITY[\"EPSG\",\"8901\"]],\r\n",
      "        UNIT[\"degree\",0.0174532925199433,\r\n",
      "            AUTHORITY[\"EPSG\",\"9122\"]],\r\n",
      "        AUTHORITY[\"EPSG\",\"4326\"]],\r\n",
      "    PROJECTION[\"Transverse_Mercator\"],\r\n",
      "    PARAMETER[\"latitude_of_origin\",0],\r\n",
      "    PARAMETER[\"central_meridian\",-117],\r\n",
      "    PARAMETER[\"scale_factor\",0.9996],\r\n",
      "    PARAMETER[\"false_easting\",500000],\r\n",
      "    PARAMETER[\"false_northing\",0],\r\n",
      "    UNIT[\"metre\",1,\r\n",
      "        AUTHORITY[\"EPSG\",\"9001\"]],\r\n",
      "    AXIS[\"Easting\",EAST],\r\n",
      "    AXIS[\"Northing\",NORTH],\r\n",
      "    AUTHORITY[\"EPSG\",\"32611\"]]\r\n",
      "Origin = (360901.782061120029539,5364698.706137352623045)\r\n",
      "Pixel Size = (2.000000000000000,-2.000000000000000)\r\n",
      "Metadata:\r\n",
      "  AREA_OR_POINT=Area\r\n",
      "Image Structure Metadata:\r\n",
      "  INTERLEAVE=BAND\r\n",
      "Corner Coordinates:\r\n",
      "Upper Left  (  360901.782, 5364698.706) (118d52'48.19\"W, 48d25'12.26\"N)\r\n",
      "Lower Left  (  360901.782, 5363562.706) (118d52'46.83\"W, 48d24'35.49\"N)\r\n",
      "Upper Right (  361985.782, 5364698.706) (118d51'55.47\"W, 48d25'13.12\"N)\r\n",
      "Lower Right (  361985.782, 5363562.706) (118d51'54.13\"W, 48d24'36.35\"N)\r\n",
      "Center      (  361443.782, 5364130.706) (118d52'21.16\"W, 48d24'54.31\"N)\r\n",
      "Band 1 Block=542x3 Type=Float32, ColorInterp=Gray\r\n",
      "  Min=842.295 Max=1214.597 \r\n",
      "  Minimum=842.295, Maximum=1214.597, Mean=1042.357, StdDev=69.665\r\n",
      "  NoData Value=-3.40282299999999995e+38\r\n",
      "  Metadata:\r\n",
      "    STATISTICS_APPROXIMATE=YES\r\n",
      "    STATISTICS_MAXIMUM=1214.5972900391\r\n",
      "    STATISTICS_MEAN=1042.3571767917\r\n",
      "    STATISTICS_MINIMUM=842.29486083984\r\n",
      "    STATISTICS_STDDEV=69.664606224072\r\n",
      "    STATISTICS_VALID_PERCENT=100\r\n"
     ]
    }
   ],
   "source": [
    "!gdalinfo {watershed.dem_fn}"
   ]
  },
  {
   "cell_type": "code",
   "execution_count": 6,
   "metadata": {},
   "outputs": [],
   "source": [
    "\n",
    "\n",
    "center = watershed.centroid\n",
    "\n",
    "m = Map(center=center, zoom=15)"
   ]
  },
  {
   "cell_type": "code",
   "execution_count": 8,
   "metadata": {},
   "outputs": [
    {
     "data": {
      "application/vnd.jupyter.widget-view+json": {
       "model_id": "ed4c83c388864971bc219a66b2dff61c",
       "version_major": 2,
       "version_minor": 0
      },
      "text/plain": [
       "Map(center=[-118.872755277585, 48.4150484361413], controls=(ZoomControl(options=['position', 'zoom_in_text', '…"
      ]
     },
     "metadata": {},
     "output_type": "display_data"
    }
   ],
   "source": [
    "m"
   ]
  },
  {
   "cell_type": "code",
   "execution_count": null,
   "metadata": {},
   "outputs": [],
   "source": []
  }
 ],
 "metadata": {
  "kernelspec": {
   "display_name": "Python 3",
   "language": "python",
   "name": "python3"
  },
  "language_info": {
   "codemirror_mode": {
    "name": "ipython",
    "version": 3
   },
   "file_extension": ".py",
   "mimetype": "text/x-python",
   "name": "python",
   "nbconvert_exporter": "python",
   "pygments_lexer": "ipython3",
   "version": "3.6.9"
  }
 },
 "nbformat": 4,
 "nbformat_minor": 2
}
