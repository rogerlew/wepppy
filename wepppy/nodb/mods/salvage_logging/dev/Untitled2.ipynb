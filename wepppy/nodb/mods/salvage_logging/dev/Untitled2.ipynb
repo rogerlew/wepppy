{
 "cells": [
  {
   "cell_type": "code",
   "execution_count": 1,
   "id": "d95aa9f8",
   "metadata": {},
   "outputs": [
    {
     "data": {
      "application/vnd.jupyter.widget-view+json": {
       "model_id": "5a7f1299c1454677aa8f37f22df36ac5",
       "version_major": 2,
       "version_minor": 0
      },
      "text/plain": [
       "IntSlider(value=0, description='Some slider')"
      ]
     },
     "metadata": {},
     "output_type": "display_data"
    }
   ],
   "source": [
    "from sidecar import Sidecar\n",
    "from ipywidgets import IntSlider\n",
    "\n",
    "sc = Sidecar(title='Sidecar Output')\n",
    "sl = IntSlider(description='Some slider')\n",
    "with sc:\n",
    "    display(sl)"
   ]
  },
  {
   "cell_type": "code",
   "execution_count": null,
   "id": "3e81a432",
   "metadata": {},
   "outputs": [],
   "source": []
  }
 ],
 "metadata": {
  "kernelspec": {
   "display_name": "Python 3",
   "language": "python",
   "name": "python3"
  },
  "language_info": {
   "codemirror_mode": {
    "name": "ipython",
    "version": 3
   },
   "file_extension": ".py",
   "mimetype": "text/x-python",
   "name": "python",
   "nbconvert_exporter": "python",
   "pygments_lexer": "ipython3",
   "version": "3.6.9"
  }
 },
 "nbformat": 4,
 "nbformat_minor": 5
}
