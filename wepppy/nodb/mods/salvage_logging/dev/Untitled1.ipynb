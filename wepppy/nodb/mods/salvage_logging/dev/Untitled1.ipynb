{
 "cells": [
  {
   "cell_type": "code",
   "execution_count": 29,
   "metadata": {},
   "outputs": [],
   "source": [
    "import wepppy\n",
    "from os.path import join as _join\n",
    "from os.path import exists as _exists\n",
    "from os.path import split as _split\n",
    "\n",
    "import json\n",
    "\n",
    "import numpy as np\n",
    "import cv2\n",
    "\n",
    "from osgeo import gdal, osr\n",
    "\n",
    "from subprocess import Popen, PIPE\n",
    "\n",
    "from wepppy.all_your_base.geo import read_raster\n",
    "from wepppy.all_your_base.geo import get_utm_zone, utm_srid"
   ]
  },
  {
   "cell_type": "code",
   "execution_count": 34,
   "metadata": {},
   "outputs": [],
   "source": [
    "from ipyleaflet import (\n",
    "    Map, basemaps, basemap_to_tiles, GeoJSON, LayersControl\n",
    ")\n",
    "import matplotlib.pyplot as plt\n",
    "%matplotlib inline"
   ]
  },
  {
   "cell_type": "code",
   "execution_count": 55,
   "metadata": {},
   "outputs": [
    {
     "data": {
      "text/html": [
       "<style>.container { width:100% !important; }</style>"
      ],
      "text/plain": [
       "<IPython.core.display.HTML object>"
      ]
     },
     "metadata": {},
     "output_type": "display_data"
    }
   ],
   "source": [
    "from IPython.display import display, HTML\n",
    "display(HTML(\"<style>.container { width:100% !important; }</style>\"))"
   ]
  },
  {
   "cell_type": "code",
   "execution_count": 30,
   "metadata": {},
   "outputs": [],
   "source": [
    "wd = '/geodata/weppcloud_runs/rlew-speechless-coastline/'"
   ]
  },
  {
   "cell_type": "code",
   "execution_count": 16,
   "metadata": {},
   "outputs": [
    {
     "name": "stdout",
     "output_type": "stream",
     "text": [
      "<enum 'DelineationBackend'>\n"
     ]
    }
   ],
   "source": [
    "watershed = wepppy.nodb.Watershed.getInstance(wd)"
   ]
  },
  {
   "cell_type": "code",
   "execution_count": 17,
   "metadata": {},
   "outputs": [
    {
     "name": "stdout",
     "output_type": "stream",
     "text": [
      "Driver: GTiff/GeoTIFF\r\n",
      "Files: /geodata/weppcloud_runs/rlew-speechless-coastline/dem/dem.tif\r\n",
      "       /geodata/weppcloud_runs/rlew-speechless-coastline/dem/dem.tif.aux.xml\r\n",
      "Size is 542, 568\r\n",
      "Coordinate System is:\r\n",
      "PROJCS[\"WGS 84 / UTM zone 11N\",\r\n",
      "    GEOGCS[\"WGS 84\",\r\n",
      "        DATUM[\"WGS_1984\",\r\n",
      "            SPHEROID[\"WGS 84\",6378137,298.257223563,\r\n",
      "                AUTHORITY[\"EPSG\",\"7030\"]],\r\n",
      "            AUTHORITY[\"EPSG\",\"6326\"]],\r\n",
      "        PRIMEM[\"Greenwich\",0,\r\n",
      "            AUTHORITY[\"EPSG\",\"8901\"]],\r\n",
      "        UNIT[\"degree\",0.0174532925199433,\r\n",
      "            AUTHORITY[\"EPSG\",\"9122\"]],\r\n",
      "        AUTHORITY[\"EPSG\",\"4326\"]],\r\n",
      "    PROJECTION[\"Transverse_Mercator\"],\r\n",
      "    PARAMETER[\"latitude_of_origin\",0],\r\n",
      "    PARAMETER[\"central_meridian\",-117],\r\n",
      "    PARAMETER[\"scale_factor\",0.9996],\r\n",
      "    PARAMETER[\"false_easting\",500000],\r\n",
      "    PARAMETER[\"false_northing\",0],\r\n",
      "    UNIT[\"metre\",1,\r\n",
      "        AUTHORITY[\"EPSG\",\"9001\"]],\r\n",
      "    AXIS[\"Easting\",EAST],\r\n",
      "    AXIS[\"Northing\",NORTH],\r\n",
      "    AUTHORITY[\"EPSG\",\"32611\"]]\r\n",
      "Origin = (360901.782061120029539,5364698.706137352623045)\r\n",
      "Pixel Size = (2.000000000000000,-2.000000000000000)\r\n",
      "Metadata:\r\n",
      "  AREA_OR_POINT=Area\r\n",
      "Image Structure Metadata:\r\n",
      "  INTERLEAVE=BAND\r\n",
      "Corner Coordinates:\r\n",
      "Upper Left  (  360901.782, 5364698.706) (118d52'48.19\"W, 48d25'12.26\"N)\r\n",
      "Lower Left  (  360901.782, 5363562.706) (118d52'46.83\"W, 48d24'35.49\"N)\r\n",
      "Upper Right (  361985.782, 5364698.706) (118d51'55.47\"W, 48d25'13.12\"N)\r\n",
      "Lower Right (  361985.782, 5363562.706) (118d51'54.13\"W, 48d24'36.35\"N)\r\n",
      "Center      (  361443.782, 5364130.706) (118d52'21.16\"W, 48d24'54.31\"N)\r\n",
      "Band 1 Block=542x3 Type=Float32, ColorInterp=Gray\r\n",
      "  Min=842.295 Max=1214.597 \r\n",
      "  Minimum=842.295, Maximum=1214.597, Mean=1042.357, StdDev=69.665\r\n",
      "  NoData Value=-3.40282299999999995e+38\r\n",
      "  Metadata:\r\n",
      "    STATISTICS_APPROXIMATE=YES\r\n",
      "    STATISTICS_MAXIMUM=1214.5972900391\r\n",
      "    STATISTICS_MEAN=1042.3571767917\r\n",
      "    STATISTICS_MINIMUM=842.29486083984\r\n",
      "    STATISTICS_STDDEV=69.664606224072\r\n",
      "    STATISTICS_VALID_PERCENT=100\r\n"
     ]
    }
   ],
   "source": [
    "!gdalinfo {watershed.dem_fn}"
   ]
  },
  {
   "cell_type": "code",
   "execution_count": 18,
   "metadata": {},
   "outputs": [],
   "source": [
    "ron = wepppy.nodb.Ron.getInstance(wd)"
   ]
  },
  {
   "cell_type": "code",
   "execution_count": 72,
   "metadata": {},
   "outputs": [
    {
     "data": {
      "text/plain": [
       "([-118.87254238128664, 48.415088608465155],\n",
       " 16,\n",
       " '/geodata/weppcloud_runs/rlew-speechless-coastline/dem/topaz/CHANNELS.WGS.JSON',\n",
       " '/geodata/weppcloud_runs/rlew-speechless-coastline/dem/topaz/SUBCATCHMENTS.WGS.JSON',\n",
       " '/geodata/weppcloud_runs/rlew-speechless-coastline/dem/topaz/SUBWTA.ARC',\n",
       " 215)"
      ]
     },
     "execution_count": 72,
     "metadata": {},
     "output_type": "execute_result"
    }
   ],
   "source": [
    "ron.map.center, ron.map.zoom, watershed.channels_shp, watershed.subwta_shp, watershed.subwta, watershed.sub_n"
   ]
  },
  {
   "cell_type": "code",
   "execution_count": 20,
   "metadata": {},
   "outputs": [
    {
     "name": "stdout",
     "output_type": "stream",
     "text": [
      "BOUND.ARC\t   ELVBND.TAB\tNETFUL.PRJ\t RASPRO.RPT\r\n",
      "BOUND.JSON\t   ELVCLA.OUT\tNETFUL.WGS.JSON  RELIEF.ARC\r\n",
      "BOUND.OUT\t   FILDEP.OUT\tNETW.ARC\t RELIEF.OUT\r\n",
      "BOUND.PRJ\t   FLOPAT.ARC\tNETWE.OUT\t RELIEF.PRJ\r\n",
      "BOUND.WGS.JSON\t   FLOPAT.OUT\tNETW.OUT\t SBCT.TAB\r\n",
      "CHANNELS.JSON\t   FLOPAT.PRJ\tNETW.PRJ\t SUBBDA.OUT\r\n",
      "CHANNELS.WGS.JSON  FLOVEC.ARC\tNETW.TAB\t SUBBDB.OUT\r\n",
      "CHNJNT.ARC\t   FLOVEC.OUT\tNTGCOD.OUT\t SUBCATCHMENTS.JSON\r\n",
      "CHNJNT.PRJ\t   FLOVEC.PRJ\tNTWINT.FIL\t SUBCATCHMENTS.WGS.JSON\r\n",
      "dednm\t\t   FVASPE.OUT\tOUTCAT.UNF\t SUBWTA.ARC\r\n",
      "DEDNM.INP\t   FVSLOP.ARC\tOUTCHA.UNF\t SUBWTA.JSON\r\n",
      "dednm.log\t   FVSLOP.OUT\tOUTCNT.UNF\t SUBWTA.OUT\r\n",
      "DEDNM.RPT\t   FVSLOP.PRJ\trasfor\t\t SUBWTA.PRJ\r\n",
      "DEPFLT.OUT\t   HSLOPE.OUT\tRASFOR.INP\t SUBWTB.OUT\r\n",
      "DISCHA.OUT\t   INDTAR.OUT\trasfor.log\t TASPEC.ARC\r\n",
      "DISOUT.OUT\t   INELEV.OUT\tRASFOR.RPT\t TASPEC.OUT\r\n",
      "DNMCNT.INP\t   NETFUL.ARC\traspro\t\t TASPEC.PRJ\r\n",
      "ELDCHA.OUT\t   NETFUL.JSON\tRASPRO.INP\t TSLOPE.OUT\r\n",
      "ELDOUT.OUT\t   NETFUL.OUT\traspro.log\t UPAREA.OUT\r\n"
     ]
    }
   ],
   "source": [
    "!ls /geodata/weppcloud_runs/rlew-speechless-coastline/dem/topaz/"
   ]
  },
  {
   "cell_type": "code",
   "execution_count": 56,
   "metadata": {},
   "outputs": [
    {
     "data": {
      "text/html": [
       "<script>$('div.cell.selected').next().height(100);</script>"
      ],
      "text/plain": [
       "<IPython.core.display.HTML object>"
      ]
     },
     "metadata": {},
     "output_type": "display_data"
    }
   ],
   "source": [
    "display(HTML(\"<script>$('div.cell.selected').next().height(100);</script>\"))"
   ]
  },
  {
   "cell_type": "code",
   "execution_count": 57,
   "metadata": {},
   "outputs": [
    {
     "data": {
      "application/vnd.jupyter.widget-view+json": {
       "model_id": "3926f79dc3d044dca826907b1985312d",
       "version_major": 2,
       "version_minor": 0
      },
      "text/plain": [
       "Map(center=[48.415088608465155, -118.87254238128664], controls=(ZoomControl(options=['position', 'zoom_in_text…"
      ]
     },
     "metadata": {},
     "output_type": "display_data"
    }
   ],
   "source": [
    "\n",
    "m = Map(\n",
    "    basemap=basemap_to_tiles(basemaps.Esri.WorldTopoMap),\n",
    "    center=ron.map.center[::-1],\n",
    "    zoom=ron.map.zoom\n",
    "    )\n",
    "\n",
    "\n",
    "# Skid Trials\n",
    "skid_trials_fn = '/geodata/salvage_logging/north_star/Skid_segments.wgs.geojson'\n",
    "with open(skid_trials_fn) as fp:\n",
    "    skid_trails = json.load(fp)\n",
    "    \n",
    "skid_trails_geojson = GeoJSON(\n",
    "    data=skid_trails,\n",
    "    style={\n",
    "        'opacity': 1, 'fillOpacity': 0.1, 'weight': 1, 'color': 'purple'\n",
    "    },\n",
    "    hover_style={\n",
    "        'color': 'white', 'dashArray': '0', 'fillOpacity': 0.5\n",
    "    }, name='Skid Trails'\n",
    ")\n",
    "m.add_layer(skid_trails_geojson)\n",
    "\n",
    "\n",
    "# Channels\n",
    "with open(watershed.channels_shp) as fp:\n",
    "    channels = json.load(fp)\n",
    "    \n",
    "channels_geojson = GeoJSON(\n",
    "    data=channels,\n",
    "    style={\n",
    "        'opacity': 1, 'fillOpacity': 0.1, 'weight': 1, 'color': 'blue'\n",
    "    },\n",
    "    hover_style={\n",
    "        'color': 'white', 'dashArray': '0', 'fillOpacity': 0.5\n",
    "    }, name='Channels'\n",
    ")\n",
    "m.add_layer(channels_geojson)\n",
    "\n",
    "\n",
    "# Subcatchments\n",
    "with open(watershed.subwta_shp) as fp:\n",
    "    subcatchments = json.load(fp)\n",
    "    \n",
    "subcatchments_geojson = GeoJSON(\n",
    "    data=subcatchments,\n",
    "    style={\n",
    "        'opacity': 1, 'fillOpacity': 0.1, 'weight': 1, 'color': 'orange'\n",
    "    },\n",
    "    hover_style={\n",
    "        'color': 'white', 'dashArray': '0', 'fillOpacity': 0.5\n",
    "    }, name='SubCatchments'\n",
    ")\n",
    "m.add_layer(subcatchments_geojson)\n",
    "\n",
    "# Layers Control\n",
    "control = LayersControl(position='topright')\n",
    "m.add_control(control)\n",
    "\n",
    "m"
   ]
  },
  {
   "cell_type": "code",
   "execution_count": 22,
   "metadata": {},
   "outputs": [],
   "source": [
    "xll = -9999\n",
    "yll = -9999\n",
    "cellsz = -9999\n",
    "nrows = -9999\n",
    "ncols = -9999"
   ]
  },
  {
   "cell_type": "code",
   "execution_count": 23,
   "metadata": {},
   "outputs": [],
   "source": [
    "# check if the working directory for soils exists, if not create it\n",
    "import os\n",
    "roads_dir = _join(wd, 'roads')\n",
    "\n",
    "if not _exists(roads_dir):\n",
    "    os.mkdir(roads_dir)"
   ]
  },
  {
   "cell_type": "code",
   "execution_count": 24,
   "metadata": {},
   "outputs": [
    {
     "data": {
      "text/plain": [
       "'32611'"
      ]
     },
     "execution_count": 24,
     "metadata": {},
     "output_type": "execute_result"
    }
   ],
   "source": [
    "\n",
    "dem_fn = watershed.dem_fn\n",
    "\n",
    "# open the dataset\n",
    "ds = gdal.Open(dem_fn)\n",
    "\n",
    "# read and verify the num_cols and num_rows\n",
    "num_cols = ds.RasterXSize\n",
    "num_rows = ds.RasterYSize\n",
    "\n",
    "if num_cols <= 0 or num_rows <= 0:\n",
    "    raise Exception('input is empty')\n",
    "\n",
    "# read and verify the _transform\n",
    "_transform = ds.GetGeoTransform()\n",
    "\n",
    "if abs(_transform[1]) != abs(_transform[5]):\n",
    "    raise Exception('input cells are not square')\n",
    "\n",
    "cellsize = abs(_transform[1])\n",
    "ul_x = int(round(_transform[0]))\n",
    "ul_y = int(round(_transform[3]))\n",
    "\n",
    "lr_x = ul_x + cellsize * num_cols\n",
    "lr_y = ul_y - cellsize * num_rows\n",
    "\n",
    "ll_x = int(ul_x)\n",
    "ll_y = int(lr_y)\n",
    "\n",
    "# read the projection and verify dataset is in utm\n",
    "srs = osr.SpatialReference()\n",
    "srs.ImportFromWkt(ds.GetProjectionRef())\n",
    "\n",
    "datum, utm_zone, hemisphere = get_utm_zone(srs)\n",
    "epsg = utm_srid(utm_zone, hemisphere == 'N')\n",
    "epsg"
   ]
  },
  {
   "cell_type": "code",
   "execution_count": 52,
   "metadata": {},
   "outputs": [],
   "source": [
    "\n",
    "road_utm_fn = '/geodata/salvage_logging/north_star/Skid_segments.utm.geojson'"
   ]
  },
  {
   "cell_type": "code",
   "execution_count": 54,
   "metadata": {},
   "outputs": [
    {
     "name": "stdout",
     "output_type": "stream",
     "text": [
      "{\r\n",
      "\"type\": \"FeatureCollection\",\r\n",
      "\"name\": \"Skid_segments\",\r\n",
      "\"crs\": { \"type\": \"name\", \"properties\": { \"name\": \"urn:ogc:def:crs:EPSG::32611\" } },\r\n",
      "\"features\": [\r\n",
      "{ \"type\": \"Feature\", \"properties\": { \"CFF_ID\": 0, \"NAME\": null, \"DATA_SOURC\": null, \"COLLECTION\": null, \"CFF_CODE\": 0, \"CFF_CODELI\": null, \"SUPPRESSIO\": null, \"GNIS_ID\": null, \"FCSUBTYPE\": 0, \"LOCATION\": 0, \"COMPOSITIO\": 0, \"INTERSTATE\": null, \"US_ROUTE\": null, \"STATE_ROUT\": null, \"COUNTY_ROU\": null, \"RTE_NO\": null, \"SHAPE_Leng\": 0.0 }, \"geometry\": { \"type\": \"LineString\", \"coordinates\": [ [ 361447.799922294216231, 5364591.635406527668238 ], [ 361454.139031954458915, 5364587.078069101087749 ], [ 361462.191502743517049, 5364583.396049581468105 ], [ 361471.795700396411121, 5364581.747444981709123 ], [ 361476.170358332747128, 5364572.268920351751149 ], [ 361483.322298411803786, 5364562.824920433573425 ], [ 361484.591309840558097, 5364548.113357395865023 ], [ 361485.61260922497604, 5364538.794600233435631 ] ] } },\r\n",
      "{ \"type\": \"Feature\", \"properties\": { \"CFF_ID\": 0, \"NAME\": null, \"DATA_SOURC\": null, \"COLLECTION\": null, \"CFF_CODE\": 0, \"CFF_CODELI\": null, \"SUPPRESSIO\": null, \"GNIS_ID\": null, \"FCSUBTYPE\": 0, \"LOCATION\": 0, \"COMPOSITIO\": 0, \"INTERSTATE\": null, \"US_ROUTE\": null, \"STATE_ROUT\": null, \"COUNTY_ROU\": null, \"RTE_NO\": null, \"SHAPE_Leng\": 0.0 }, \"geometry\": { \"type\": \"LineString\", \"coordinates\": [ [ 361415.804571754881181, 5364567.396504593081772 ], [ 361422.761822277738247, 5364563.695412078872323 ], [ 361434.227639447082765, 5364572.564951071515679 ], [ 361438.154430863971356, 5364571.407285436987877 ], [ 361441.811681338003837, 5364568.861348516307771 ], [ 361448.769478376198094, 5364564.487836363725364 ] ] } },\r\n",
      "{ \"type\": \"Feature\", \"properties\": { \"CFF_ID\": 0, \"NAME\": null, \"DATA_SOURC\": null, \"COLLECTION\": null, \"CFF_CODE\": 0, \"CFF_CODELI\": null, \"SUPPRESSIO\": null, \"GNIS_ID\": null, \"FCSUBTYPE\": 0, \"LOCATION\": 0, \"COMPOSITIO\": 0, \"INTERSTATE\": null, \"US_ROUTE\": null, \"STATE_ROUT\": null, \"COUNTY_ROU\": null, \"RTE_NO\": null, \"SHAPE_Leng\": 0.0 }, \"geometry\": { \"type\": \"LineString\", \"coordinates\": [ [ 361412.895903521159198, 5364553.8227195199579 ], [ 361420.778958938084543, 5364550.007600445300341 ], [ 361429.868516216985881, 5364548.442166239023209 ], [ 361441.974402886873577, 5364549.420156602747738 ], [ 361448.159870453644544, 5364548.065400908701122 ], [ 361461.145057994057424, 5364540.592352060601115 ], [ 361471.664189338916913, 5364538.253681853413582 ], [ 361480.634954897337593, 5364537.933227236382663 ], [ 361485.612609226896893, 5364538.794600235298276 ] ] } },\r\n",
      "{ \"type\": \"Feature\", \"properties\": { \"CFF_ID\": 0, \"NAME\": null, \"DATA_SOURC\": null, \"COLLECTION\": null, \"CFF_CODE\": 0, \"CFF_CODELI\": null, \"SUPPRESSIO\": null, \"GNIS_ID\": null, \"FCSUBTYPE\": 0, \"LOCATION\": 0, \"COMPOSITIO\": 0, \"INTERSTATE\": null, \"US_ROUTE\": null, \"STATE_ROUT\": null, \"COUNTY_ROU\": null, \"RTE_NO\": null, \"SHAPE_Leng\": 0.0 }, \"geometry\": { \"type\": \"LineString\", \"coordinates\": [ [ 361423.561020371969789, 5364535.401154051534832 ], [ 361428.43044072156772, 5364531.250158042646945 ], [ 361434.362291502067819, 5364532.091542051173747 ], [ 361439.49803019646788, 5364526.869343534111977 ], [ 361447.799922300095204, 5364523.766481128521264 ], [ 361454.123417888302356, 5364521.85444657318294 ], [ 361460.544687218847685, 5364520.384826180525124 ], [ 361467.063729535439052, 5364519.357620087452233 ], [ 361473.680544001224916, 5364518.772828497923911 ], [ 361479.455497799499426, 5364519.210083800368011 ], [ 361484.643053228850476, 5364516.01003251131624 ], [ 361494.988662014424335, 5364522.996052205562592 ], [ 361501.125506543554366, 5364520.857812895439565 ] ] } },\r\n",
      "{ \"type\": \"Feature\", \"properties\": { \"CFF_ID\": 0, \"NAME\": null, \"DATA_SOURC\": null, \"COLLECTION\": null, \"CFF_CODE\": 0, \"CFF_CODELI\": null, \"SUPPRESSIO\": null, \"GNIS_ID\": null, \"FCSUBTYPE\": 0, \"LOCATION\": 0, \"COMPOSITIO\": 0, \"INTERSTATE\": null, \"US_ROUTE\": null, \"STATE_ROUT\": null, \"COUNTY_ROU\": null, \"RTE_NO\": null, \"SHAPE_Leng\": 0.0 }, \"geometry\": { \"type\": \"LineString\", \"coordinates\": [ [ 361515.668847695807926, 5364604.239635531790555 ], [ 361520.081728594261222, 5364594.134554453194141 ], [ 361527.920871040900238, 5364586.109305561520159 ], [ 361530.150144821091089, 5364573.711502174846828 ], [ 361534.426693995948881, 5364564.501646190881729 ], [ 361534.485179944487754, 5364549.146157452836633 ], [ 361540.533097516454291, 5364541.396847686730325 ], [ 361541.136803725152276, 5364532.486305626109242 ], [ 361545.253387117816601, 5364522.890006341040134 ], [ 361547.957933092722669, 5364514.593938780017197 ], [ 361549.87844906229293, 5364504.66738445032388 ], [ 361550.553352012066171, 5364491.946356028318405 ], [ 361548.22659034881508, 5364487.365564855746925 ], [ 361549.603310399223119, 5364481.106013731099665 ] ] } },\r\n",
      "{ \"type\": \"Feature\", \"properties\": { \"CFF_ID\": 0, \"NAME\": null, \"DATA_SOURC\": null, \"COLLECTION\": null, \"CFF_CODE\": 0, \"CFF_CODELI\": null, \"SUPPRESSIO\": null, \"GNIS_ID\": null, \"FCSUBTYPE\": 0, \"LOCATION\": 0, \"COMPOSITIO\": 0, \"INTERSTATE\": null, \"US_ROUTE\": null, \"STATE_ROUT\": null, \"COUNTY_ROU\": null, \"RTE_NO\": null, \"SHAPE_Leng\": 0.0 }, \"geometry\": { \"type\": \"LineString\", \"coordinates\": [ [ 361541.84686177840922, 5364602.300523373298347 ], [ 361544.699611119925976, 5364595.067701691761613 ], [ 361555.017333820112981, 5364590.538354987278581 ], [ 361559.969035408226773, 5364581.387482882477343 ], [ 361569.907513968879357, 5364570.271843110211194 ], [ 361571.043319367221557, 5364561.472556631080806 ], [ 361566.473458758089691, 5364554.566972116008401 ], [ 361569.963988016417716, 5364548.005383050069213 ], [ 361570.814565976907033, 5364537.717272715643048 ], [ 361576.750880553037859, 5364534.431597971357405 ], [ 361579.100574933574535, 5364517.772384691983461 ], [ 361588.811445608793292, 5364506.980438224039972 ], [ 361590.650039325351827, 5364491.286898331716657 ], [ 361594.545274006319232, 5364483.638190743513405 ], [ 361603.088846575818025, 5364476.381471783854067 ], [ 361607.424120016512461, 5364468.971673172898591 ], [ 361611.654899336863309, 5364460.745336114428937 ], [ 361607.746483049879316, 5364453.716607737354934 ], [ 361599.97914433706319, 5364441.128700193017721 ], [ 361597.957693939795718, 5364429.705563650466502 ], [ 361599.539856253308244, 5364423.179480532184243 ] ] } },\r\n",
      "{ \"type\": \"Feature\", \"properties\": { \"CFF_ID\": 0, \"NAME\": null, \"DATA_SOURC\": null, \"COLLECTION\": null, \"CFF_CODE\": 0, \"CFF_CODELI\": null, \"SUPPRESSIO\": null, \"GNIS_ID\": null, \"FCSUBTYPE\": 0, \"LOCATION\": 0, \"COMPOSITIO\": 0, \"INTERSTATE\": null, \"US_ROUTE\": null, \"STATE_ROUT\": null, \"COUNTY_ROU\": null, \"RTE_NO\": null, \"SHAPE_Leng\": 0.0 }, \"geometry\": { \"type\": \"LineString\", \"coordinates\": [ [ 361544.755530011490919, 5364563.51828028075397 ], [ 361552.133778711140621, 5364562.280085106380284 ], [ 361559.919234714761842, 5364558.595451103523374 ], [ 361566.473458756110631, 5364554.566972115077078 ], [ 361569.963988014613278, 5364548.00538304913789 ] ] } },\r\n",
      "{ \"type\": \"Feature\", \"properties\": { \"CFF_ID\": 0, \"NAME\": null, \"DATA_SOURC\": null, \"COLLECTION\": null, \"CFF_CODE\": 0, \"CFF_CODELI\": null, \"SUPPRESSIO\": null, \"GNIS_ID\": null, \"FCSUBTYPE\": 0, \"LOCATION\": 0, \"COMPOSITIO\": 0, \"INTERSTATE\": null, \"US_ROUTE\": null, \"STATE_ROUT\": null, \"COUNTY_ROU\": null, \"RTE_NO\": null, \"SHAPE_Leng\": 0.0 }, \"geometry\": { \"type\": \"LineString\", \"coordinates\": [ [ 361558.329315085196868, 5364538.30982228461653 ], [ 361570.814565974986181, 5364537.717272714711726 ], [ 361576.750880551058799, 5364534.43159796949476 ] ] } },\r\n",
      "{ \"type\": \"Feature\", \"properties\": { \"CFF_ID\": 0, \"NAME\": null, \"DATA_SOURC\": null, \"COLLECTION\": null, \"CFF_CODE\": 0, \"CFF_CODELI\": null, \"SUPPRESSIO\": null, \"GNIS_ID\": null, \"FCSUBTYPE\": 0, \"LOCATION\": 0, \"COMPOSITIO\": 0, \"INTERSTATE\": null, \"US_ROUTE\": null, \"STATE_ROUT\": null, \"COUNTY_ROU\": null, \"RTE_NO\": null, \"SHAPE_Leng\": 0.0 }, \"geometry\": { \"type\": \"LineString\", \"coordinates\": [ [ 361643.650249878119212, 5364529.583817588165402 ], [ 361646.783899163419846, 5364518.761277478188276 ], [ 361655.636806636641268, 5364509.587599043734372 ], [ 361659.588954094913788, 5364500.703454826958477 ], [ 361661.558740605367348, 5364488.758900488726795 ], [ 361660.974822196061723, 5364475.981365804560483 ], [ 361657.905340082594194, 5364463.917480245232582 ], [ 361652.669443414371926, 5364453.583489291369915 ], [ 361651.021906861104071, 5364447.853647297248244 ], [ 361653.242127891397104, 5364433.208573142997921 ] ] } },\r\n",
      "{ \"type\": \"Feature\", \"properties\": { \"CFF_ID\": 0, \"NAME\": null, \"DATA_SOURC\": null, \"COLLECTION\": null, \"CFF_CODE\": 0, \"CFF_CODELI\": null, \"SUPPRESSIO\": null, \"GNIS_ID\": null, \"FCSUBTYPE\": 0, \"LOCATION\": 0, \"COMPOSITIO\": 0, \"INTERSTATE\": null, \"US_ROUTE\": null, \"STATE_ROUT\": null, \"COUNTY_ROU\": null, \"RTE_NO\": null, \"SHAPE_Leng\": 0.0 }, \"geometry\": { \"type\": \"LineString\", \"coordinates\": [ [ 361611.654899335058872, 5364460.74533611536026 ], [ 361615.993760847835802, 5364453.662638119421899 ], [ 361621.525834417319857, 5364448.246547595597804 ], [ 361627.055256187508348, 5364445.247192679904401 ], [ 361639.510155520169064, 5364440.548767167143524 ], [ 361646.603310174599756, 5364436.0547831421718 ], [ 361653.242127891397104, 5364433.208573142997921 ] ] } },\r\n",
      "{ \"type\": \"Feature\", \"properties\": { \"CFF_ID\": 0, \"NAME\": null, \"DATA_SOURC\": null, \"COLLECTION\": null, \"CFF_CODE\": 0, \"CFF_CODELI\": null, \"SUPPRESSIO\": null, \"GNIS_ID\": null, \"FCSUBTYPE\": 0, \"LOCATION\": 0, \"COMPOSITIO\": 0, \"INTERSTATE\": null, \"US_ROUTE\": null, \"STATE_ROUT\": null, \"COUNTY_ROU\": null, \"RTE_NO\": null, \"SHAPE_Leng\": 0.0 }, \"geometry\": { \"type\": \"LineString\", \"coordinates\": [ [ 361484.643053228850476, 5364516.01003251131624 ], [ 361481.548322477145121, 5364508.819654729217291 ], [ 361481.860060996026732, 5364499.411306610330939 ], [ 361485.612609302974306, 5364484.014681964181364 ], [ 361490.41860543563962, 5364477.241881275549531 ], [ 361500.516886541387066, 5364473.44451042637229 ], [ 361505.07147863926366, 5364462.662383764050901 ], [ 361513.955397529352922, 5364463.364565351977944 ], [ 361522.730573628796265, 5364463.184919080697 ], [ 361535.174412069725804, 5364463.440126706846058 ], [ 361545.613999067107216, 5364463.114424857310951 ], [ 361552.511978630151134, 5364462.684448265470564 ], [ 361556.373925230815075, 5364462.039424978196621 ], [ 361559.298871170554776, 5364457.836667887866497 ] ] } },\r\n",
      "{ \"type\": \"Feature\", \"properties\": { \"CFF_ID\": 0, \"NAME\": null, \"DATA_SOURC\": null, \"COLLECTION\": null, \"CFF_CODE\": 0, \"CFF_CODELI\": null, \"SUPPRESSIO\": null, \"GNIS_ID\": null, \"FCSUBTYPE\": 0, \"LOCATION\": 0, \"COMPOSITIO\": 0, \"INTERSTATE\": null, \"US_ROUTE\": null, \"STATE_ROUT\": null, \"COUNTY_ROU\": null, \"RTE_NO\": null, \"SHAPE_Leng\": 0.0 }, \"geometry\": { \"type\": \"LineString\", \"coordinates\": [ [ 361404.16989882272901, 5364516.979588584974408 ], [ 361411.718868492986076, 5364516.950154962018132 ], [ 361420.10706795565784, 5364514.29065587837249 ], [ 361427.791493405937217, 5364507.830970985814929 ], [ 361435.714972540037706, 5364497.590702306479216 ], [ 361451.823614126536995, 5364496.660545192658901 ], [ 361462.408337277709506, 5364489.931812331080437 ], [ 361471.805691726622172, 5364490.921622941270471 ], [ 361477.872862569754943, 5364486.834300646558404 ], [ 361485.612609301111661, 5364484.014681961387396 ] ] } },\r\n",
      "{ \"type\": \"Feature\", \"properties\": { \"CFF_ID\": 0, \"NAME\": null, \"DATA_SOURC\": null, \"COLLECTION\": null, \"CFF_CODE\": 0, \"CFF_CODELI\": null, \"SUPPRESSIO\": null, \"GNIS_ID\": null, \"FCSUBTYPE\": 0, \"LOCATION\": 0, \"COMPOSITIO\": 0, \"INTERSTATE\": null, \"US_ROUTE\": null, \"STATE_ROUT\": null, \"COUNTY_ROU\": null, \"RTE_NO\": null, \"SHAPE_Leng\": 0.0 }, \"geometry\": { \"type\": \"LineString\", \"coordinates\": [ [ 361390.596113746752962, 5364455.897555734962225 ], [ 361396.771270295372233, 5364459.322641423903406 ], [ 361404.929230976034887, 5364462.710845835506916 ], [ 361415.740889810142107, 5364463.947830287739635 ], [ 361423.851592959836125, 5364459.453213786706328 ], [ 361427.839551341254264, 5364451.086145997047424 ], [ 361433.58477136620786, 5364450.003980204463005 ], [ 361439.222644910099916, 5364451.869586079381406 ], [ 361446.452779685379937, 5364461.400218239985406 ], [ 361451.678146607126109, 5364458.806223958730698 ] ] } },\r\n",
      "{ \"type\": \"Feature\", \"properties\": { \"CFF_ID\": 0, \"NAME\": null, \"DATA_SOURC\": null, \"COLLECTION\": null, \"CFF_CODE\": 0, \"CFF_CODELI\": null, \"SUPPRESSIO\": null, \"GNIS_ID\": null, \"FCSUBTYPE\": 0, \"LOCATION\": 0, \"COMPOSITIO\": 0, \"INTERSTATE\": null, \"US_ROUTE\": null, \"STATE_ROUT\": null, \"COUNTY_ROU\": null, \"RTE_NO\": null, \"SHAPE_Leng\": 0.0 }, \"geometry\": { \"type\": \"LineString\", \"coordinates\": [ [ 361382.839665132982191, 5364432.628209879621863 ], [ 361388.860966531792656, 5364432.574692419730127 ], [ 361394.746290805982426, 5364432.072075451724231 ], [ 361400.495638717024121, 5364431.12035861518234 ], [ 361409.488826661254279, 5364428.303852497600019 ], [ 361422.684075763914734, 5364420.694426485337317 ], [ 361431.712180632632226, 5364417.923450835980475 ], [ 361446.158471799571998, 5364417.657093870453537 ], [ 361456.158622969756834, 5364412.875884903594851 ], [ 361463.368056817329489, 5364410.834100518375635 ], [ 361479.074236313521396, 5364410.003562721423805 ], [ 361484.890462117909919, 5364409.192189800553024 ], [ 361490.664369585865643, 5364408.770431506447494 ], [ 361496.240409901249222, 5364408.497247376479208 ], [ 361502.061925726186018, 5364408.439738245680928 ], [ 361507.681363312643953, 5364408.524991739541292 ], [ 361512.618859349517152, 5364408.015507497824728 ], [ 361516.38056093105115, 5364408.416059546172619 ], [ 361526.771348329028115, 5364407.212511708959937 ], [ 361542.151818190526683, 5364407.554199161939323 ], [ 361557.893707160372287, 5364405.835748729296029 ], [ 361573.819303643889725, 5364407.322415249422193 ], [ 361580.345879419124685, 5364408.759995250031352 ], [ 361584.643197456141934, 5364410.003562721423805 ], [ 361588.39324022771325, 5364410.646349444054067 ], [ 361593.245215072587598, 5364412.758712125942111 ], [ 361602.605215511168353, 5364415.280109762214124 ] ] } },\r\n",
      "{ \"type\": \"Feature\", \"properties\": { \"CFF_ID\": 0, \"NAME\": null, \"DATA_SOURC\": null, \"COLLECTION\": null, \"CFF_CODE\": 0, \"CFF_CODELI\": null, \"SUPPRESSIO\": null, \"GNIS_ID\": null, \"FCSUBTYPE\": 0, \"LOCATION\": 0, \"COMPOSITIO\": 0, \"INTERSTATE\": null, \"US_ROUTE\": null, \"STATE_ROUT\": null, \"COUNTY_ROU\": null, \"RTE_NO\": null, \"SHAPE_Leng\": 0.0 }, \"geometry\": { \"type\": \"LineString\", \"coordinates\": [ [ 361523.425296317087486, 5364396.754635022953153 ], [ 361528.852627008571289, 5364394.564885286614299 ], [ 361535.038351503026206, 5364392.502294095233083 ], [ 361543.186425009043887, 5364389.082834269851446 ], [ 361551.575102557428181, 5364389.295417442917824 ], [ 361558.885282754665241, 5364389.378003751859069 ], [ 361565.556663446943276, 5364390.584602926857769 ], [ 361571.58924342301907, 5364392.915213032625616 ], [ 361579.34218384831911, 5364398.740420422516763 ], [ 361584.643197456141934, 5364410.003562721423805 ], [ 361588.39324022771325, 5364410.646349444054067 ], [ 361593.245215072587598, 5364412.758712125942111 ], [ 361602.605215511168353, 5364415.280109762214124 ], [ 361606.807118944940157, 5364411.297976179979742 ] ] } },\r\n",
      "{ \"type\": \"Feature\", \"properties\": { \"CFF_ID\": 0, \"NAME\": null, \"DATA_SOURC\": null, \"COLLECTION\": null, \"CFF_CODE\": 0, \"CFF_CODELI\": null, \"SUPPRESSIO\": null, \"GNIS_ID\": null, \"FCSUBTYPE\": 0, \"LOCATION\": 0, \"COMPOSITIO\": 0, \"INTERSTATE\": null, \"US_ROUTE\": null, \"STATE_ROUT\": null, \"COUNTY_ROU\": null, \"RTE_NO\": null, \"SHAPE_Leng\": 0.0 }, \"geometry\": { \"type\": \"LineString\", \"coordinates\": [ [ 361483.673497150826734, 5364381.241737791337073 ], [ 361490.654156232136302, 5364380.721911380067468 ], [ 361496.910025239980314, 5364379.345930903218687 ], [ 361503.132605108316056, 5364374.161561300978065 ], [ 361510.422980019531678, 5364370.837027415633202 ], [ 361520.649156590225175, 5364369.51084291189909 ], [ 361537.668182550871279, 5364370.229452452622354 ], [ 361543.509872015973087, 5364370.296047144569457 ], [ 361554.531387697672471, 5364368.450605605728924 ], [ 361567.996812597149983, 5364363.817657803185284 ], [ 361579.587127897015307, 5364363.260734777897596 ], [ 361585.558636953821406, 5364362.192146718502045 ], [ 361599.00129112508148, 5364355.454611572436988 ], [ 361606.807118947210256, 5364355.06372370198369 ], [ 361612.247856189031154, 5364357.516189829446375 ], [ 361618.248483805335127, 5364359.668274517171085 ], [ 361627.167796568246558, 5364363.789728400297463 ], [ 361635.123731325613335, 5364368.195237377658486 ], [ 361642.262494893046096, 5364372.529879026114941 ], [ 361645.851520349038765, 5364377.411630310118198 ] ] } },\r\n",
      "{ \"type\": \"Feature\", \"properties\": { \"CFF_ID\": 0, \"NAME\": null, \"DATA_SOURC\": null, \"COLLECTION\": null, \"CFF_CODE\": 0, \"CFF_CODELI\": null, \"SUPPRESSIO\": null, \"GNIS_ID\": null, \"FCSUBTYPE\": 0, \"LOCATION\": 0, \"COMPOSITIO\": 0, \"INTERSTATE\": null, \"US_ROUTE\": null, \"STATE_ROUT\": null, \"COUNTY_ROU\": null, \"RTE_NO\": null, \"SHAPE_Leng\": 0.0 }, \"geometry\": { \"type\": \"LineString\", \"coordinates\": [ [ 361430.347912907192949, 5364373.485289169475436 ], [ 361435.82425167504698, 5364371.568097898736596 ], [ 361443.063752555870451, 5364367.480831187218428 ], [ 361450.321830611326732, 5364360.101771561428905 ], [ 361456.389573103399016, 5364351.980358870700002 ], [ 361458.436695035663433, 5364347.297187311574817 ], [ 361464.043534193711821, 5364342.970228641293943 ], [ 361474.610136306320783, 5364337.093396365642548 ], [ 361483.158295312547125, 5364334.241805867291987 ], [ 361489.490833614778239, 5364332.763933934271336 ], [ 361497.296855940367095, 5364331.452184491790831 ], [ 361506.512843900360167, 5364330.635820215567946 ], [ 361514.639220298849978, 5364330.91043368075043 ], [ 361524.387547822087072, 5364333.353211628273129 ], [ 361535.618912039499264, 5364341.13558154925704 ], [ 361540.877305703877937, 5364344.398606862872839 ], [ 361546.013220842985902, 5364341.022082350216806 ], [ 361559.572733465000056, 5364340.035272132605314 ], [ 361567.555316878366284, 5364341.424205264076591 ], [ 361582.267906038032379, 5364349.198208702728152 ], [ 361589.900704049505293, 5364351.943066772073507 ], [ 361599.00129112508148, 5364355.454611572436988 ], [ 361606.807118947210256, 5364355.06372370198369 ] ] } },\r\n",
      "{ \"type\": \"Feature\", \"properties\": { \"CFF_ID\": 0, \"NAME\": null, \"DATA_SOURC\": null, \"COLLECTION\": null, \"CFF_CODE\": 0, \"CFF_CODELI\": null, \"SUPPRESSIO\": null, \"GNIS_ID\": null, \"FCSUBTYPE\": 0, \"LOCATION\": 0, \"COMPOSITIO\": 0, \"INTERSTATE\": null, \"US_ROUTE\": null, \"STATE_ROUT\": null, \"COUNTY_ROU\": null, \"RTE_NO\": null, \"SHAPE_Leng\": 0.0 }, \"geometry\": { \"type\": \"LineString\", \"coordinates\": [ [ 361658.677463301923126, 5364423.181628953665495 ], [ 361659.634452109108679, 5364412.908015609718859 ], [ 361666.945449712336995, 5364403.753853079862893 ], [ 361674.954898255877197, 5364396.710068427026272 ] ] } },\r\n",
      "{ \"type\": \"Feature\", \"properties\": { \"CFF_ID\": 0, \"NAME\": null, \"DATA_SOURC\": null, \"COLLECTION\": null, \"CFF_CODE\": 0, \"CFF_CODELI\": null, \"SUPPRESSIO\": null, \"GNIS_ID\": null, \"FCSUBTYPE\": 0, \"LOCATION\": 0, \"COMPOSITIO\": 0, \"INTERSTATE\": null, \"US_ROUTE\": null, \"STATE_ROUT\": null, \"COUNTY_ROU\": null, \"RTE_NO\": null, \"SHAPE_Leng\": 0.0 }, \"geometry\": { \"type\": \"LineString\", \"coordinates\": [ [ 361397.383006282616407, 5364301.738139460794628 ], [ 361405.239460423472337, 5364305.003619700670242 ], [ 361413.773477154667489, 5364307.066035051830113 ], [ 361422.350835607852787, 5364304.194847802631557 ], [ 361427.492768107971642, 5364291.552028865553439 ], [ 361433.919832026585937, 5364282.966533342376351 ], [ 361440.868469621404074, 5364277.210139686241746 ], [ 361448.769478376838379, 5364271.681901073083282 ], [ 361454.966211854713038, 5364267.874544650316238 ], [ 361461.534006192174274, 5364264.600532217882574 ], [ 361468.25695049087517, 5364261.967044210061431 ], [ 361477.002996994648129, 5364259.764408027753234 ], [ 361487.047480736160651, 5364259.641599521040916 ], [ 361493.86600793688558, 5364258.378203283064067 ], [ 361504.356105108628981, 5364251.844811152666807 ], [ 361521.219389553531073, 5364247.257828705012798 ], [ 361528.524816605029628, 5364243.196731137111783 ], [ 361539.798248497594614, 5364233.429713713936508 ], [ 361545.370701343228575, 5364229.687611209228635 ], [ 361551.542422548867762, 5364225.143209371715784 ], [ 361558.152771333581768, 5364225.741581198759377 ], [ 361567.947863473149482, 5364224.860671230591834 ], [ 361574.642133572138846, 5364225.543526451103389 ], [ 361578.293184752983507, 5364224.265691244974732 ], [ 361583.194542549492326, 5364226.564134495332837 ], [ 361587.41599745984422, 5364231.736190658994019 ] ] } },\r\n",
      "{ \"type\": \"Feature\", \"properties\": { \"CFF_ID\": 0, \"NAME\": null, \"DATA_SOURC\": null, \"COLLECTION\": null, \"CFF_CODE\": 0, \"CFF_CODELI\": null, \"SUPPRESSIO\": null, \"GNIS_ID\": null, \"FCSUBTYPE\": 0, \"LOCATION\": 0, \"COMPOSITIO\": 0, \"INTERSTATE\": null, \"US_ROUTE\": null, \"STATE_ROUT\": null, \"COUNTY_ROU\": null, \"RTE_NO\": null, \"SHAPE_Leng\": 0.0 }, \"geometry\": { \"type\": \"LineString\", \"coordinates\": [ [ 361554.451090778748039, 5364299.799027313478291 ], [ 361561.235771331295837, 5364297.459726818837225 ], [ 361566.412468894501217, 5364285.548230811953545 ], [ 361572.066989049431868, 5364283.75088576413691 ], [ 361577.720436632633209, 5364284.286130073480308 ], [ 361584.547884536150377, 5364287.711442932486534 ], [ 361592.642565121175721, 5364292.700919258408248 ], [ 361595.899612247943878, 5364301.49575028102845 ] ] } },\r\n",
      "{ \"type\": \"Feature\", \"properties\": { \"CFF_ID\": 0, \"NAME\": null, \"DATA_SOURC\": null, \"COLLECTION\": null, \"CFF_CODE\": 0, \"CFF_CODELI\": null, \"SUPPRESSIO\": null, \"GNIS_ID\": null, \"FCSUBTYPE\": 0, \"LOCATION\": 0, \"COMPOSITIO\": 0, \"INTERSTATE\": null, \"US_ROUTE\": null, \"STATE_ROUT\": null, \"COUNTY_ROU\": null, \"RTE_NO\": null, \"SHAPE_Leng\": 0.0 }, \"geometry\": { \"type\": \"LineString\", \"coordinates\": [ [ 361455.556370911188424, 5364246.473443069495261 ], [ 361461.190382721484639, 5364248.082795297726989 ], [ 361469.122868709848262, 5364249.369433642365038 ], [ 361478.835300890146755, 5364249.20596594363451 ], [ 361487.510679570725188, 5364246.787710392847657 ], [ 361494.472773803572636, 5364242.587088446132839 ], [ 361502.066978724789806, 5364235.208299320191145 ], [ 361515.969219434657134, 5364229.175752499140799 ], [ 361523.314982736366801, 5364219.990412791259587 ], [ 361529.852355582348537, 5364218.143765018321574 ], [ 361535.059969237423502, 5364214.478092519566417 ], [ 361540.186764737416524, 5364218.19944760389626 ], [ 361546.544594577280805, 5364221.034571900032461 ], [ 361551.542422546946909, 5364225.143209368921816 ] ] } },\r\n",
      "{ \"type\": \"Feature\", \"properties\": { \"CFF_ID\": 0, \"NAME\": null, \"DATA_SOURC\": null, \"COLLECTION\": null, \"CFF_CODE\": 0, \"CFF_CODELI\": null, \"SUPPRESSIO\": null, \"GNIS_ID\": null, \"FCSUBTYPE\": 0, \"LOCATION\": 0, \"COMPOSITIO\": 0, \"INTERSTATE\": null, \"US_ROUTE\": null, \"STATE_ROUT\": null, \"COUNTY_ROU\": null, \"RTE_NO\": null, \"SHAPE_Leng\": 0.0 }, \"geometry\": { \"type\": \"LineString\", \"coordinates\": [ [ 361434.226137215096969, 5364228.051877606660128 ], [ 361441.888056142488495, 5364223.468644591979682 ], [ 361449.739034451951738, 5364219.325872911140323 ], [ 361456.735209570440929, 5364216.015486389398575 ], [ 361463.478866202640347, 5364213.117998437024653 ], [ 361470.013271858915687, 5364210.61488689109683 ], [ 361476.359934591455385, 5364208.498046917840838 ], [ 361482.544209409621544, 5364206.759729480370879 ], [ 361488.566863277344964, 5364205.400464448146522 ], [ 361494.435790886287577, 5364204.418483031913638 ], [ 361502.345058211940341, 5364204.195317105390131 ], [ 361509.851511231972836, 5364201.873863523826003 ], [ 361516.077125976444222, 5364203.539248356595635 ], [ 361524.506661546591204, 5364206.553547044284642 ], [ 361530.202824046369642, 5364209.996789697557688 ], [ 361535.059969237423502, 5364214.478092519566417 ] ] } },\r\n",
      "{ \"type\": \"Feature\", \"properties\": { \"CFF_ID\": 0, \"NAME\": null, \"DATA_SOURC\": null, \"COLLECTION\": null, \"CFF_CODE\": 0, \"CFF_CODELI\": null, \"SUPPRESSIO\": null, \"GNIS_ID\": null, \"FCSUBTYPE\": 0, \"LOCATION\": 0, \"COMPOSITIO\": 0, \"INTERSTATE\": null, \"US_ROUTE\": null, \"STATE_ROUT\": null, \"COUNTY_ROU\": null, \"RTE_NO\": null, \"SHAPE_Leng\": 0.0 }, \"geometry\": { \"type\": \"LineString\", \"coordinates\": [ [ 361409.466170969069935, 5364227.643883322365582 ], [ 361411.605351374309976, 5364222.678188070654869 ], [ 361410.484857840463519, 5364217.245777036994696 ], [ 361416.726258501410484, 5364210.190236326307058 ], [ 361431.167579261469655, 5364205.07462633214891 ], [ 361438.007906927727163, 5364201.058340271934867 ], [ 361443.369548584625591, 5364195.931357902474701 ], [ 361452.728196263080463, 5364185.684294918552041 ], [ 361459.679076025611721, 5364180.449865874834359 ], [ 361467.476681884669233, 5364177.688199141062796 ], [ 361476.632275581301656, 5364176.211567054502666 ], [ 361484.068161039846018, 5364175.916415495797992 ], [ 361491.706962759897579, 5364176.452681262977421 ], [ 361501.504293121572118, 5364178.342594309709966 ], [ 361514.584921245812438, 5364183.75109283067286 ], [ 361521.646288407151587, 5364185.700424803420901 ], [ 361531.058645042241551, 5364185.720672247931361 ], [ 361545.100586122018285, 5364183.709532219916582 ], [ 361550.948373052524403, 5364181.004711429588497 ], [ 361556.39020293590147, 5364183.452298059128225 ], [ 361561.754851950332522, 5364186.277789066545665 ], [ 361567.367337370989844, 5364190.317275225184858 ], [ 361574.512076502316631, 5364198.021795726381242 ], [ 361579.451215041801333, 5364207.747064526192844 ], [ 361583.194542549492326, 5364226.564134495332837 ], [ 361587.41599745984422, 5364231.736190658994019 ] ] } },\r\n",
      "{ \"type\": \"Feature\", \"properties\": { \"CFF_ID\": 0, \"NAME\": null, \"DATA_SOURC\": null, \"COLLECTION\": null, \"CFF_CODE\": 0, \"CFF_CODELI\": null, \"SUPPRESSIO\": null, \"GNIS_ID\": null, \"FCSUBTYPE\": 0, \"LOCATION\": 0, \"COMPOSITIO\": 0, \"INTERSTATE\": null, \"US_ROUTE\": null, \"STATE_ROUT\": null, \"COUNTY_ROU\": null, \"RTE_NO\": null, \"SHAPE_Leng\": 0.0 }, \"geometry\": { \"type\": \"LineString\", \"coordinates\": [ [ 361492.399501844542101, 5364185.391410214826465 ], [ 361497.803788298915606, 5364188.030894534662366 ], [ 361503.922403399134055, 5364193.308898752555251 ], [ 361509.851511231972836, 5364201.873863523826003 ] ] } },\r\n",
      "{ \"type\": \"Feature\", \"properties\": { \"CFF_ID\": 0, \"NAME\": null, \"DATA_SOURC\": null, \"COLLECTION\": null, \"CFF_CODE\": 0, \"CFF_CODELI\": null, \"SUPPRESSIO\": null, \"GNIS_ID\": null, \"FCSUBTYPE\": 0, \"LOCATION\": 0, \"COMPOSITIO\": 0, \"INTERSTATE\": null, \"US_ROUTE\": null, \"STATE_ROUT\": null, \"COUNTY_ROU\": null, \"RTE_NO\": null, \"SHAPE_Leng\": 0.0 }, \"geometry\": { \"type\": \"LineString\", \"coordinates\": [ [ 361394.390146856138017, 5364174.731867970898747 ], [ 361403.627480987110175, 5364178.169775078073144 ], [ 361413.633831038489006, 5364174.595699308440089 ], [ 361421.72278558916878, 5364167.273984870873392 ], [ 361428.291089963749982, 5364164.30264584440738 ], [ 361442.952141909743659, 5364162.122064360417426 ], [ 361451.984539419179782, 5364160.461734757758677 ], [ 361460.40415130549809, 5364161.15250829141587 ], [ 361465.872820915479679, 5364159.188973994925618 ], [ 361473.246822261600755, 5364160.257631670683622 ], [ 361483.463580111332703, 5364154.349975568242371 ], [ 361494.815986096393317, 5364152.892247806303203 ], [ 361502.355357639258727, 5364152.430165124125779 ], [ 361509.92547374824062, 5364152.438857707194984 ], [ 361518.180460245115682, 5364157.624597851186991 ], [ 361521.946015182184055, 5364152.637512854300439 ], [ 361525.619776955107227, 5364154.757050112821162 ], [ 361529.874337914050557, 5364158.384309480898082 ], [ 361534.025006218696944, 5364158.264043970033526 ], [ 361543.785973934340291, 5364168.908956901170313 ], [ 361550.497250725282356, 5364170.329243613407016 ], [ 361550.948373052524403, 5364181.004711429588497 ], [ 361556.39020293590147, 5364183.452298059128225 ] ] } },\r\n",
      "{ \"type\": \"Feature\", \"properties\": { \"CFF_ID\": 0, \"NAME\": null, \"DATA_SOURC\": null, \"COLLECTION\": null, \"CFF_CODE\": 0, \"CFF_CODELI\": null, \"SUPPRESSIO\": null, \"GNIS_ID\": null, \"FCSUBTYPE\": 0, \"LOCATION\": 0, \"COMPOSITIO\": 0, \"INTERSTATE\": null, \"US_ROUTE\": null, \"STATE_ROUT\": null, \"COUNTY_ROU\": null, \"RTE_NO\": null, \"SHAPE_Leng\": 0.0 }, \"geometry\": { \"type\": \"LineString\", \"coordinates\": [ [ 361512.760179462609813, 5364124.309377350844443 ], [ 361512.916671898623463, 5364129.963278301991522 ], [ 361517.536863335117232, 5364145.405021651647985 ] ] } },\r\n",
      "{ \"type\": \"Feature\", \"properties\": { \"CFF_ID\": 0, \"NAME\": null, \"DATA_SOURC\": null, \"COLLECTION\": null, \"CFF_CODE\": 0, \"CFF_CODELI\": null, \"SUPPRESSIO\": null, \"GNIS_ID\": null, \"FCSUBTYPE\": 0, \"LOCATION\": 0, \"COMPOSITIO\": 0, \"INTERSTATE\": null, \"US_ROUTE\": null, \"STATE_ROUT\": null, \"COUNTY_ROU\": null, \"RTE_NO\": null, \"SHAPE_Leng\": 0.0 }, \"geometry\": { \"type\": \"LineString\", \"coordinates\": [ [ 361595.899612248002086, 5364301.495750282891095 ], [ 361596.752588760689832, 5364313.968625367619097 ], [ 361600.518229202309158, 5364313.959620627574623 ], [ 361610.291228049551137, 5364323.091001225635409 ], [ 361617.012202708399855, 5364337.336750721558928 ], [ 361625.686057258630171, 5364346.432270522229373 ], [ 361632.61700109182857, 5364350.212307319045067 ], [ 361645.029261600109749, 5364354.661527832970023 ], [ 361651.869258734979667, 5364357.999612910673022 ], [ 361660.399103907227982, 5364363.944331008940935 ], [ 361664.010927495313808, 5364370.576620941050351 ], [ 361671.198217059660237, 5364377.360108871012926 ], [ 361671.945225557312369, 5364390.749728393740952 ], [ 361674.954898255877197, 5364396.710068427026272 ], [ 361677.487494942964986, 5364408.590759685263038 ], [ 361677.51101588428719, 5364425.914488424547017 ], [ 361678.974751776200719, 5364438.147850938141346 ], [ 361681.210322536760941, 5364447.057792781852186 ] ] } },\r\n",
      "{ \"type\": \"Feature\", \"properties\": { \"CFF_ID\": 0, \"NAME\": null, \"DATA_SOURC\": null, \"COLLECTION\": null, \"CFF_CODE\": 0, \"CFF_CODELI\": null, \"SUPPRESSIO\": null, \"GNIS_ID\": null, \"FCSUBTYPE\": 0, \"LOCATION\": 0, \"COMPOSITIO\": 0, \"INTERSTATE\": null, \"US_ROUTE\": null, \"STATE_ROUT\": null, \"COUNTY_ROU\": null, \"RTE_NO\": null, \"SHAPE_Leng\": 0.0 }, \"geometry\": { \"type\": \"LineString\", \"coordinates\": [ [ 361588.895630216109566, 5364243.440252070315182 ], [ 361588.259276340715587, 5364248.389310571365058 ], [ 361588.79751985729672, 5364254.703546633012593 ], [ 361588.519889562856406, 5364264.36773303989321 ], [ 361592.263777788495645, 5364272.651457151398063 ], [ 361590.669138417462818, 5364280.738733027130365 ], [ 361592.642565121233929, 5364292.700919261202216 ], [ 361595.899612248002086, 5364301.495750282891095 ] ] } },\r\n",
      "{ \"type\": \"Feature\", \"properties\": { \"CFF_ID\": 0, \"NAME\": null, \"DATA_SOURC\": null, \"COLLECTION\": null, \"CFF_CODE\": 0, \"CFF_CODELI\": null, \"SUPPRESSIO\": null, \"GNIS_ID\": null, \"FCSUBTYPE\": 0, \"LOCATION\": 0, \"COMPOSITIO\": 0, \"INTERSTATE\": null, \"US_ROUTE\": null, \"STATE_ROUT\": null, \"COUNTY_ROU\": null, \"RTE_NO\": null, \"SHAPE_Leng\": 0.0 }, \"geometry\": { \"type\": \"LineString\", \"coordinates\": [ [ 361460.404151307418942, 5364161.15250829141587 ], [ 361465.872820917400531, 5364159.188973994925618 ], [ 361473.246822263405193, 5364160.257631670683622 ], [ 361483.858026987931225, 5364165.808796052820981 ], [ 361491.276000068057328, 5364167.271623835898936 ], [ 361500.903330587141681, 5364166.228325423784554 ], [ 361518.180460246978328, 5364157.624597850255668 ], [ 361525.619776956969872, 5364154.757050112821162 ], [ 361529.874337915913202, 5364158.384309480898082 ], [ 361534.02500622055959, 5364158.264043970033526 ], [ 361543.785973936202936, 5364168.908956900238991 ] ] } },\r\n",
      "{ \"type\": \"Feature\", \"properties\": { \"CFF_ID\": 0, \"NAME\": null, \"DATA_SOURC\": null, \"COLLECTION\": null, \"CFF_CODE\": 0, \"CFF_CODELI\": null, \"SUPPRESSIO\": null, \"GNIS_ID\": null, \"FCSUBTYPE\": 0, \"LOCATION\": 0, \"COMPOSITIO\": 0, \"INTERSTATE\": null, \"US_ROUTE\": null, \"STATE_ROUT\": null, \"COUNTY_ROU\": null, \"RTE_NO\": null, \"SHAPE_Leng\": 0.0 }, \"geometry\": { \"type\": \"LineString\", \"coordinates\": [ [ 361464.282375608745497, 5364356.033279784023762 ], [ 361471.832717002253048, 5364358.821072288788855 ], [ 361482.061577267711982, 5364361.383287978358567 ], [ 361492.981911734445021, 5364362.978259228169918 ], [ 361498.750620544538833, 5364363.309098572470248 ], [ 361506.845848906494211, 5364362.0482237348333 ], [ 361512.801524862530641, 5364358.596287122927606 ], [ 361521.527009844023269, 5364350.51611130964011 ], [ 361529.61680604191497, 5364346.744820940308273 ], [ 361535.618912035715766, 5364341.135581547394395 ], [ 361540.877305701957084, 5364344.398606861010194 ] ] } },\r\n",
      "{ \"type\": \"Feature\", \"properties\": { \"CFF_ID\": 0, \"NAME\": null, \"DATA_SOURC\": null, \"COLLECTION\": null, \"CFF_CODE\": 0, \"CFF_CODELI\": null, \"SUPPRESSIO\": null, \"GNIS_ID\": null, \"FCSUBTYPE\": 0, \"LOCATION\": 0, \"COMPOSITIO\": 0, \"INTERSTATE\": null, \"US_ROUTE\": null, \"STATE_ROUT\": null, \"COUNTY_ROU\": null, \"RTE_NO\": null, \"SHAPE_Leng\": 0.0 }, \"geometry\": { \"type\": \"LineString\", \"coordinates\": [ [ 361592.263777788495645, 5364272.651457151398063 ], [ 361598.130999617278576, 5364269.964418353512883 ], [ 361605.410754359210841, 5364271.196930455043912 ], [ 361609.787157721002586, 5364257.170817850157619 ], [ 361615.073399066110142, 5364250.382766489870846 ], [ 361623.721895427675918, 5364245.246058971621096 ], [ 361634.894598859944381, 5364242.595518216490746 ], [ 361642.375707506784238, 5364236.430172013118863 ], [ 361651.819476725358982, 5364219.272651419974864 ], [ 361658.564914133457933, 5364214.198963838629425 ], [ 361658.758182299439795, 5364201.371460792608559 ], [ 361657.077957130386494, 5364190.350325996056199 ], [ 361656.370033815794159, 5364178.804431427270174 ], [ 361656.080840323469602, 5364171.878086472861469 ], [ 361654.176016949641053, 5364166.942002434283495 ], [ 361652.711144413391594, 5364158.008224367164075 ], [ 361647.245345362811349, 5364138.771585172042251 ], [ 361645.688320744025987, 5364125.978141472674906 ], [ 361646.00820510124322, 5364113.908412795513868 ], [ 361647.590002915938385, 5364102.540788689628243 ], [ 361650.171126983128488, 5364093.78937962371856 ] ] } },\r\n",
      "{ \"type\": \"Feature\", \"properties\": { \"CFF_ID\": 0, \"NAME\": null, \"DATA_SOURC\": null, \"COLLECTION\": null, \"CFF_CODE\": 0, \"CFF_CODELI\": null, \"SUPPRESSIO\": null, \"GNIS_ID\": null, \"FCSUBTYPE\": 0, \"LOCATION\": 0, \"COMPOSITIO\": 0, \"INTERSTATE\": null, \"US_ROUTE\": null, \"STATE_ROUT\": null, \"COUNTY_ROU\": null, \"RTE_NO\": null, \"SHAPE_Leng\": 0.0 }, \"geometry\": { \"type\": \"LineString\", \"coordinates\": [ [ 361643.650249874102883, 5364243.564774833619595 ], [ 361639.202505865367129, 5364250.278774539008737 ], [ 361634.91727902519051, 5364260.674215554259717 ], [ 361632.638755336636677, 5364273.513202945701778 ], [ 361632.268292702909093, 5364281.415805551223457 ], [ 361633.726663704495877, 5364286.673481978476048 ], [ 361636.114206010708585, 5364293.378205177374184 ], [ 361641.374426479043905, 5364300.530838139355183 ], [ 361648.610338530852459, 5364307.40589511115104 ], [ 361653.924742301809601, 5364310.506256280466914 ], [ 361668.295421618619002, 5364316.921122900210321 ], [ 361675.547204056521878, 5364321.882560020312667 ], [ 361677.584712580428459, 5364329.855265708640218 ], [ 361681.883105269866064, 5364340.066970084793866 ], [ 361680.324825884308666, 5364352.890510271303356 ], [ 361675.05924533715006, 5364367.040627690963447 ], [ 361671.19821706158109, 5364377.360108871012926 ], [ 361671.945225559058599, 5364390.749728391878307 ], [ 361674.954898259544279, 5364396.710068425163627 ] ] } },\r\n",
      "{ \"type\": \"Feature\", \"properties\": { \"CFF_ID\": 0, \"NAME\": null, \"DATA_SOURC\": null, \"COLLECTION\": null, \"CFF_CODE\": 0, \"CFF_CODELI\": null, \"SUPPRESSIO\": null, \"GNIS_ID\": null, \"FCSUBTYPE\": 0, \"LOCATION\": 0, \"COMPOSITIO\": 0, \"INTERSTATE\": null, \"US_ROUTE\": null, \"STATE_ROUT\": null, \"COUNTY_ROU\": null, \"RTE_NO\": null, \"SHAPE_Leng\": 0.0 }, \"geometry\": { \"type\": \"LineString\", \"coordinates\": [ [ 361650.437142412411049, 5364184.42185412812978 ], [ 361657.077957130270079, 5364190.350325993262231 ], [ 361658.758182297460735, 5364201.371460788883269 ], [ 361658.564914133399725, 5364214.198963836766779 ], [ 361668.697140829521231, 5364227.921818169765174 ], [ 361673.012446279753931, 5364238.298079594038427 ], [ 361675.322528082993813, 5364250.848284220322967 ], [ 361676.70644282491412, 5364266.339086076244712 ], [ 361676.455824407108594, 5364286.156619692221284 ], [ 361680.338605171709787, 5364303.462675513699651 ], [ 361680.413279456319287, 5364317.580981747247279 ], [ 361677.584712576586753, 5364329.855265707708895 ] ] } },\r\n",
      "{ \"type\": \"Feature\", \"properties\": { \"CFF_ID\": 0, \"NAME\": null, \"DATA_SOURC\": null, \"COLLECTION\": null, \"CFF_CODE\": 0, \"CFF_CODELI\": null, \"SUPPRESSIO\": null, \"GNIS_ID\": null, \"FCSUBTYPE\": 0, \"LOCATION\": 0, \"COMPOSITIO\": 0, \"INTERSTATE\": null, \"US_ROUTE\": null, \"STATE_ROUT\": null, \"COUNTY_ROU\": null, \"RTE_NO\": null, \"SHAPE_Leng\": 0.0 }, \"geometry\": { \"type\": \"LineString\", \"coordinates\": [ [ 361679.523824731761124, 5364105.88781189545989 ], [ 361685.039629178354517, 5364107.894400908611715 ], [ 361689.818453183048405, 5364112.857781239785254 ], [ 361695.036721964250319, 5364109.766036200337112 ], [ 361702.934666913934052, 5364111.75198485981673 ], [ 361709.580063123023137, 5364107.82692404370755 ], [ 361716.820090773282573, 5364106.501584747806191 ], [ 361726.369045106810518, 5364099.1721514724195 ], [ 361738.46586377749918, 5364095.09198179282248 ], [ 361747.292306991352234, 5364087.883080815896392 ], [ 361762.47166447294876, 5364083.421004679985344 ], [ 361769.484524706087541, 5364080.194369916804135 ], [ 361776.479432440944947, 5364076.80112958047539 ], [ 361781.38920279382728, 5364071.595255298539996 ], [ 361786.779322948947083, 5364066.137944187037647 ], [ 361793.099149505025707, 5364057.932914954610169 ], [ 361798.378573932859581, 5364048.613545532338321 ], [ 361802.091568805393763, 5364040.287560320459306 ] ] } },\r\n",
      "{ \"type\": \"Feature\", \"properties\": { \"CFF_ID\": 0, \"NAME\": null, \"DATA_SOURC\": null, \"COLLECTION\": null, \"CFF_CODE\": 0, \"CFF_CODELI\": null, \"SUPPRESSIO\": null, \"GNIS_ID\": null, \"FCSUBTYPE\": 0, \"LOCATION\": 0, \"COMPOSITIO\": 0, \"INTERSTATE\": null, \"US_ROUTE\": null, \"STATE_ROUT\": null, \"COUNTY_ROU\": null, \"RTE_NO\": null, \"SHAPE_Leng\": 0.0 }, \"geometry\": { \"type\": \"LineString\", \"coordinates\": [ [ 361664.980483569437638, 5364072.922905267216265 ], [ 361671.215046354976948, 5364072.540489140897989 ], [ 361677.171457721793558, 5364071.605054160580039 ], [ 361682.849718500860035, 5364070.116599602624774 ], [ 361689.747881385032088, 5364067.247477426193655 ], [ 361695.917556836386211, 5364062.421000345610082 ], [ 361705.923478965531103, 5364051.304232723079622 ], [ 361712.264587661600672, 5364046.012038205750287 ], [ 361718.278113968786784, 5364043.560602993704379 ], [ 361735.183350966661237, 5364040.920503058470786 ], [ 361746.202634221175686, 5364036.353211992420256 ], [ 361755.554775114753284, 5364030.12173811160028 ], [ 361764.07206560682971, 5364022.180151254869998 ], [ 361769.543187905685045, 5364015.72649056930095 ], [ 361773.636654164874926, 5364009.42498511262238 ] ] } },\r\n",
      "{ \"type\": \"Feature\", \"properties\": { \"CFF_ID\": 0, \"NAME\": null, \"DATA_SOURC\": null, \"COLLECTION\": null, \"CFF_CODE\": 0, \"CFF_CODELI\": null, \"SUPPRESSIO\": null, \"GNIS_ID\": null, \"FCSUBTYPE\": 0, \"LOCATION\": 0, \"COMPOSITIO\": 0, \"INTERSTATE\": null, \"US_ROUTE\": null, \"STATE_ROUT\": null, \"COUNTY_ROU\": null, \"RTE_NO\": null, \"SHAPE_Leng\": 0.0 }, \"geometry\": { \"type\": \"LineString\", \"coordinates\": [ [ 361706.67139488866087, 5364073.892461336217821 ], [ 361711.494899179670028, 5364069.623702424578369 ], [ 361718.228858379821759, 5364065.772496152669191 ], [ 361726.330714802257717, 5364064.12048118840903 ], [ 361739.973286421678495, 5364064.525558641180396 ], [ 361747.718417314463295, 5364062.67331503983587 ], [ 361754.418051351909526, 5364059.825373238883913 ], [ 361760.951930945040658, 5364055.569127826951444 ], [ 361767.839860259729903, 5364048.824548099189997 ], [ 361779.309866173949558, 5364042.947392039000988 ], [ 361786.534544552559964, 5364035.273006268776953 ], [ 361791.022773600940127, 5364026.384213564917445 ] ] } },\r\n",
      "{ \"type\": \"Feature\", \"properties\": { \"CFF_ID\": 0, \"NAME\": null, \"DATA_SOURC\": null, \"COLLECTION\": null, \"CFF_CODE\": 0, \"CFF_CODELI\": null, \"SUPPRESSIO\": null, \"GNIS_ID\": null, \"FCSUBTYPE\": 0, \"LOCATION\": 0, \"COMPOSITIO\": 0, \"INTERSTATE\": null, \"US_ROUTE\": null, \"STATE_ROUT\": null, \"COUNTY_ROU\": null, \"RTE_NO\": null, \"SHAPE_Leng\": 0.0 }, \"geometry\": { \"type\": \"LineString\", \"coordinates\": [ [ 361722.184292121732142, 5364120.431153041310608 ], [ 361729.348854610114358, 5364122.070812070742249 ], [ 361737.447196865279693, 5364120.561139960773289 ], [ 361744.84398055105703, 5364114.60056587588042 ], [ 361752.404147549648769, 5364113.283052208833396 ], [ 361761.682439720025286, 5364115.03798005823046 ], [ 361767.842237321368884, 5364113.748932492919266 ], [ 361773.570764048025012, 5364102.979143569245934 ], [ 361777.379724611586425, 5364090.641515178605914 ], [ 361776.479432440828532, 5364076.801129577681422 ] ] } },\r\n",
      "{ \"type\": \"Feature\", \"properties\": { \"CFF_ID\": 0, \"NAME\": null, \"DATA_SOURC\": null, \"COLLECTION\": null, \"CFF_CODE\": 0, \"CFF_CODELI\": null, \"SUPPRESSIO\": null, \"GNIS_ID\": null, \"FCSUBTYPE\": 0, \"LOCATION\": 0, \"COMPOSITIO\": 0, \"INTERSTATE\": null, \"US_ROUTE\": null, \"STATE_ROUT\": null, \"COUNTY_ROU\": null, \"RTE_NO\": null, \"SHAPE_Leng\": 0.0 }, \"geometry\": { \"type\": \"LineString\", \"coordinates\": [ [ 361736.727633281785529, 5364108.796480123884976 ], [ 361741.878029969171621, 5364105.467288265004754 ], [ 361747.463253270776477, 5364103.03184122685343 ], [ 361756.640809842152521, 5364100.713598882779479 ], [ 361766.152834170963615, 5364100.328133066184819 ], [ 361773.570764048025012, 5364102.979143569245934 ] ] } },\r\n",
      "{ \"type\": \"Feature\", \"properties\": { \"CFF_ID\": 0, \"NAME\": null, \"DATA_SOURC\": null, \"COLLECTION\": null, \"CFF_CODE\": 0, \"CFF_CODELI\": null, \"SUPPRESSIO\": null, \"GNIS_ID\": null, \"FCSUBTYPE\": 0, \"LOCATION\": 0, \"COMPOSITIO\": 0, \"INTERSTATE\": null, \"US_ROUTE\": null, \"STATE_ROUT\": null, \"COUNTY_ROU\": null, \"RTE_NO\": null, \"SHAPE_Leng\": 0.0 }, \"geometry\": { \"type\": \"LineString\", \"coordinates\": [ [ 361736.727633277361747, 5364138.852718510664999 ], [ 361743.122278985218145, 5364138.326044462621212 ], [ 361750.988196314428933, 5364136.590105166658759 ], [ 361758.061783337499946, 5364133.6137141790241 ], [ 361766.625919026322663, 5364131.3434051387012 ], [ 361769.692539900366683, 5364122.370265203528106 ], [ 361767.842237321368884, 5364113.748932492919266 ], [ 361773.570764048025012, 5364102.979143569245934 ] ] } },\r\n",
      "{ \"type\": \"Feature\", \"properties\": { \"CFF_ID\": 0, \"NAME\": null, \"DATA_SOURC\": null, \"COLLECTION\": null, \"CFF_CODE\": 0, \"CFF_CODELI\": null, \"SUPPRESSIO\": null, \"GNIS_ID\": null, \"FCSUBTYPE\": 0, \"LOCATION\": 0, \"COMPOSITIO\": 0, \"INTERSTATE\": null, \"US_ROUTE\": null, \"STATE_ROUT\": null, \"COUNTY_ROU\": null, \"RTE_NO\": null, \"SHAPE_Leng\": 0.0 }, \"geometry\": { \"type\": \"LineString\", \"coordinates\": [ [ 361735.758077206555754, 5364150.487391431815922 ], [ 361743.417918233200908, 5364152.401992734521627 ], [ 361751.743556755944155, 5364152.194945253431797 ], [ 361759.353045003430452, 5364151.342975013889372 ], [ 361764.844759511528537, 5364149.517835361883044 ], [ 361767.430817371816374, 5364142.056559936143458 ], [ 361766.625919026322663, 5364131.3434051387012 ], [ 361769.692539900366683, 5364122.370265203528106 ] ] } },\r\n",
      "{ \"type\": \"Feature\", \"properties\": { \"CFF_ID\": 0, \"NAME\": null, \"DATA_SOURC\": null, \"COLLECTION\": null, \"CFF_CODE\": 0, \"CFF_CODELI\": null, \"SUPPRESSIO\": null, \"GNIS_ID\": null, \"FCSUBTYPE\": 0, \"LOCATION\": 0, \"COMPOSITIO\": 0, \"INTERSTATE\": null, \"US_ROUTE\": null, \"STATE_ROUT\": null, \"COUNTY_ROU\": null, \"RTE_NO\": null, \"SHAPE_Leng\": 0.0 }, \"geometry\": { \"type\": \"LineString\", \"coordinates\": [ [ 361675.645600423566066, 5364180.543629820458591 ], [ 361682.662628644146025, 5364181.839377523399889 ], [ 361689.544647930772044, 5364182.661031536757946 ], [ 361696.291659316862933, 5364183.008591306395829 ], [ 361701.783238885225728, 5364181.100836338475347 ], [ 361709.829375928035006, 5364181.665578006766737 ], [ 361715.722655067802407, 5364181.206700569018722 ], [ 361721.929643674986437, 5364179.657879105769098 ], [ 361728.001628585916478, 5364177.634961594827473 ], [ 361733.930716177390423, 5364175.171400781720877 ], [ 361739.540498072165065, 5364172.370439764112234 ], [ 361747.016053418279625, 5364167.649002777412534 ], [ 361755.608949064859189, 5364160.414798013865948 ], [ 361759.353045003430452, 5364151.342975013889372 ], [ 361764.844759511528537, 5364149.517835361883044 ] ] } },\r\n",
      "{ \"type\": \"Feature\", \"properties\": { \"CFF_ID\": 0, \"NAME\": null, \"DATA_SOURC\": null, \"COLLECTION\": null, \"CFF_CODE\": 0, \"CFF_CODELI\": null, \"SUPPRESSIO\": null, \"GNIS_ID\": null, \"FCSUBTYPE\": 0, \"LOCATION\": 0, \"COMPOSITIO\": 0, \"INTERSTATE\": null, \"US_ROUTE\": null, \"STATE_ROUT\": null, \"COUNTY_ROU\": null, \"RTE_NO\": null, \"SHAPE_Leng\": 0.0 }, \"geometry\": { \"type\": \"LineString\", \"coordinates\": [ [ 361682.432492957334034, 5364166.000288665294647 ], [ 361680.826302168134134, 5364157.076833988539875 ], [ 361686.296366536989808, 5364140.939744246192276 ], [ 361688.049929038679693, 5364123.944156414829195 ], [ 361689.818453183048405, 5364112.857781237922609 ], [ 361695.036721964133903, 5364109.766036198474467 ] ] } },\r\n",
      "{ \"type\": \"Feature\", \"properties\": { \"CFF_ID\": 0, \"NAME\": null, \"DATA_SOURC\": null, \"COLLECTION\": null, \"CFF_CODE\": 0, \"CFF_CODELI\": null, \"SUPPRESSIO\": null, \"GNIS_ID\": null, \"FCSUBTYPE\": 0, \"LOCATION\": 0, \"COMPOSITIO\": 0, \"INTERSTATE\": null, \"US_ROUTE\": null, \"STATE_ROUT\": null, \"COUNTY_ROU\": null, \"RTE_NO\": null, \"SHAPE_Leng\": 0.0 }, \"geometry\": { \"type\": \"LineString\", \"coordinates\": [ [ 361701.823614502442069, 5364163.091620435938239 ], [ 361700.562252779258415, 5364154.78605776745826 ], [ 361700.236289840890095, 5364146.098757895641029 ], [ 361700.663150167441927, 5364134.893083156086504 ], [ 361702.561218793212902, 5364123.028917127288878 ], [ 361702.934666913934052, 5364111.751984857022762 ], [ 361709.580063123023137, 5364107.826924041844904 ] ] } },\r\n",
      "{ \"type\": \"Feature\", \"properties\": { \"CFF_ID\": 0, \"NAME\": null, \"DATA_SOURC\": null, \"COLLECTION\": null, \"CFF_CODE\": 0, \"CFF_CODELI\": null, \"SUPPRESSIO\": null, \"GNIS_ID\": null, \"FCSUBTYPE\": 0, \"LOCATION\": 0, \"COMPOSITIO\": 0, \"INTERSTATE\": null, \"US_ROUTE\": null, \"STATE_ROUT\": null, \"COUNTY_ROU\": null, \"RTE_NO\": null, \"SHAPE_Leng\": 0.0 }, \"geometry\": { \"type\": \"LineString\", \"coordinates\": [ [ 361772.601208135019988, 5364139.822274582460523 ], [ 361778.151763943606056, 5364141.576295382343233 ], [ 361784.256094776443206, 5364144.491687104105949 ], [ 361789.586044685100205, 5364148.346013829112053 ], [ 361794.821508647175506, 5364153.992363586090505 ], [ 361798.779222218319774, 5364162.122064361348748 ] ] } },\r\n",
      "{ \"type\": \"Feature\", \"properties\": { \"CFF_ID\": 0, \"NAME\": null, \"DATA_SOURC\": null, \"COLLECTION\": null, \"CFF_CODE\": 0, \"CFF_CODELI\": null, \"SUPPRESSIO\": null, \"GNIS_ID\": null, \"FCSUBTYPE\": 0, \"LOCATION\": 0, \"COMPOSITIO\": 0, \"INTERSTATE\": null, \"US_ROUTE\": null, \"STATE_ROUT\": null, \"COUNTY_ROU\": null, \"RTE_NO\": null, \"SHAPE_Leng\": 0.0 }, \"geometry\": { \"type\": \"LineString\", \"coordinates\": [ [ 361705.701838810753543, 5364187.330522362142801 ], [ 361704.964083438098896, 5364195.716289986856282 ], [ 361706.475612749229185, 5364205.092449844814837 ], [ 361712.187849097535945, 5364214.878720212727785 ], [ 361720.87939045438543, 5364222.047301244921982 ], [ 361729.406326129625086, 5364226.810937994159758 ], [ 361738.482929898658767, 5364230.805251047946513 ], [ 361745.453637970029376, 5364232.899657991714776 ] ] } },\r\n",
      "{ \"type\": \"Feature\", \"properties\": { \"CFF_ID\": 0, \"NAME\": null, \"DATA_SOURC\": null, \"COLLECTION\": null, \"CFF_CODE\": 0, \"CFF_CODELI\": null, \"SUPPRESSIO\": null, \"GNIS_ID\": null, \"FCSUBTYPE\": 0, \"LOCATION\": 0, \"COMPOSITIO\": 0, \"INTERSTATE\": null, \"US_ROUTE\": null, \"STATE_ROUT\": null, \"COUNTY_ROU\": null, \"RTE_NO\": null, \"SHAPE_Leng\": 0.0 }, \"geometry\": { \"type\": \"LineString\", \"coordinates\": [ [ 361674.676044340711087, 5364346.337719009257853 ], [ 361681.883105268003419, 5364340.066970084793866 ], [ 361690.18894157547038, 5364336.642158241011202 ], [ 361695.769196719513275, 5364333.980555462650955 ], [ 361701.507506360067055, 5364331.639020224101841 ], [ 361707.40387008182006, 5364329.617552807554603 ], [ 361712.700010186177678, 5364327.890578981488943 ] ] } },\r\n",
      "{ \"type\": \"Feature\", \"properties\": { \"CFF_ID\": 0, \"NAME\": null, \"DATA_SOURC\": null, \"COLLECTION\": null, \"CFF_CODE\": 0, \"CFF_CODELI\": null, \"SUPPRESSIO\": null, \"GNIS_ID\": null, \"FCSUBTYPE\": 0, \"LOCATION\": 0, \"COMPOSITIO\": 0, \"INTERSTATE\": null, \"US_ROUTE\": null, \"STATE_ROUT\": null, \"COUNTY_ROU\": null, \"RTE_NO\": null, \"SHAPE_Leng\": 0.0 }, \"geometry\": { \"type\": \"LineString\", \"coordinates\": [ [ 361674.954898259544279, 5364396.710068425163627 ], [ 361671.945225559058599, 5364390.749728391878307 ], [ 361678.288055931334384, 5364385.573553645052016 ], [ 361691.996333568706177, 5364383.822139216586947 ], [ 361697.807296527200378, 5364380.956512537784874 ], [ 361704.598050823202357, 5364375.231446652673185 ], [ 361711.519175273715518, 5364366.698396639898419 ] ] } },\r\n",
      "{ \"type\": \"Feature\", \"properties\": { \"CFF_ID\": 0, \"NAME\": null, \"DATA_SOURC\": null, \"COLLECTION\": null, \"CFF_CODE\": 0, \"CFF_CODELI\": null, \"SUPPRESSIO\": null, \"GNIS_ID\": null, \"FCSUBTYPE\": 0, \"LOCATION\": 0, \"COMPOSITIO\": 0, \"INTERSTATE\": null, \"US_ROUTE\": null, \"STATE_ROUT\": null, \"COUNTY_ROU\": null, \"RTE_NO\": null, \"SHAPE_Leng\": 0.0 }, \"geometry\": { \"type\": \"LineString\", \"coordinates\": [ [ 361626.835225430200808, 5364539.697549242526293 ], [ 361626.816204035305418, 5364534.043051321990788 ], [ 361629.598801645333879, 5364527.848881328478456 ], [ 361630.22134450339945, 5364521.914356139488518 ], [ 361629.590781797654927, 5364510.210372244939208 ], [ 361630.591712636989541, 5364504.121358372271061 ], [ 361634.838584897341207, 5364491.953701423481107 ], [ 361636.246491683297791, 5364485.666214914992452 ], [ 361637.542661886662245, 5364476.862146181054413 ], [ 361644.06063417007681, 5364466.37333941180259 ], [ 361646.070116545073688, 5364459.753311574459076 ], [ 361649.112646790454164, 5364455.92599936388433 ], [ 361652.669443416176364, 5364453.583489291369915 ] ] } },\r\n",
      "{ \"type\": \"Feature\", \"properties\": { \"CFF_ID\": 0, \"NAME\": null, \"DATA_SOURC\": null, \"COLLECTION\": null, \"CFF_CODE\": 0, \"CFF_CODELI\": null, \"SUPPRESSIO\": null, \"GNIS_ID\": null, \"FCSUBTYPE\": 0, \"LOCATION\": 0, \"COMPOSITIO\": 0, \"INTERSTATE\": null, \"US_ROUTE\": null, \"STATE_ROUT\": null, \"COUNTY_ROU\": null, \"RTE_NO\": null, \"SHAPE_Leng\": 0.0 }, \"geometry\": { \"type\": \"LineString\", \"coordinates\": [ [ 361351.28023072675569, 5364668.766580244526267 ], [ 361357.791824426501989, 5364668.712167133577168 ], [ 361365.451813391118776, 5364667.632577068172395 ], [ 361371.277094552759081, 5364665.673479803837836 ], [ 361376.986069512553513, 5364662.516035103239119 ], [ 361382.591493083687965, 5364658.153365448117256 ], [ 361388.091961551923305, 5364652.596670639701188 ], [ 361393.477888811728917, 5364645.887032859027386 ], [ 361397.532618709723465, 5364640.043472508899868 ], [ 361403.005713885999285, 5364631.023455710150301 ], [ 361410.796940798521973, 5364615.90570772998035 ], [ 361415.696392955840565, 5364600.97084229066968 ], [ 361418.705742981634103, 5364594.064373580738902 ], [ 361422.566035100957379, 5364588.296043277718127 ], [ 361430.513780180946924, 5364579.189681083895266 ], [ 361434.227639447082765, 5364572.564951071515679 ], [ 361438.154430863971356, 5364571.407285436987877 ], [ 361441.811681338003837, 5364568.861348516307771 ], [ 361448.769478376198094, 5364564.487836363725364 ], [ 361458.586432982643601, 5364559.28951220959425 ], [ 361469.740912839770317, 5364555.485063101164997 ], [ 361473.286794391926378, 5364553.575849024578929 ], [ 361478.510898850276135, 5364549.038855734281242 ], [ 361481.997980167390779, 5364543.73079267796129 ], [ 361480.634954897337593, 5364537.933227236382663 ], [ 361486.060098465532064, 5364532.567613035440445 ], [ 361490.186462735640816, 5364527.988322627730668 ], [ 361494.988662014424335, 5364522.996052205562592 ], [ 361501.125506543554366, 5364520.857812895439565 ], [ 361504.891855915193446, 5364521.008148510940373 ], [ 361514.61751414462924, 5364520.544947438873351 ], [ 361524.712068949185777, 5364518.552992338314652 ], [ 361531.684967257431708, 5364516.209331064485013 ], [ 361537.015191805432551, 5364513.060844247229397 ], [ 361540.501379232911859, 5364509.397883218713105 ], [ 361544.018000516982283, 5364503.969392545521259 ], [ 361545.960884794127196, 5364498.021815743297338 ], [ 361548.22659034881508, 5364487.365564855746925 ], [ 361549.603310399223119, 5364481.106013731099665 ], [ 361552.819502571015619, 5364478.262178624980152 ], [ 361555.544354947342072, 5364473.490892391651869 ], [ 361556.373925230815075, 5364462.039424978196621 ], [ 361559.298871170554776, 5364457.836667887866497 ], [ 361562.340267393155955, 5364453.505859744735062 ], [ 361567.389389878429938, 5364451.125891231000423 ], [ 361572.340047852485441, 5364450.48489367775619 ] ] } },\r\n",
      "{ \"type\": \"Feature\", \"properties\": { \"CFF_ID\": 0, \"NAME\": null, \"DATA_SOURC\": null, \"COLLECTION\": null, \"CFF_CODE\": 0, \"CFF_CODELI\": null, \"SUPPRESSIO\": null, \"GNIS_ID\": null, \"FCSUBTYPE\": 0, \"LOCATION\": 0, \"COMPOSITIO\": 0, \"INTERSTATE\": null, \"US_ROUTE\": null, \"STATE_ROUT\": null, \"COUNTY_ROU\": null, \"RTE_NO\": null, \"SHAPE_Leng\": 0.0 }, \"geometry\": { \"type\": \"LineString\", \"coordinates\": [ [ 361572.340047852485441, 5364450.48489367775619 ], [ 361575.958607642445713, 5364448.999209269881248 ], [ 361580.464312611962669, 5364446.370340405032039 ], [ 361585.708841286133975, 5364442.390682726167142 ], [ 361590.004783829906955, 5364437.987100659869611 ], [ 361592.580713630886748, 5364431.434855529107153 ], [ 361597.957693939795718, 5364429.705563650466502 ], [ 361599.539856253308244, 5364423.179480532184243 ], [ 361602.605215511168353, 5364415.280109762214124 ], [ 361606.807118944940157, 5364411.297976179979742 ], [ 361615.023682994709816, 5364409.366993431001902 ], [ 361620.553405006066896, 5364406.7254190556705 ], [ 361624.678062078775838, 5364403.819413038901985 ], [ 361633.126626334444154, 5364396.897610493004322 ], [ 361636.873195215768646, 5364394.115529461763799 ], [ 361642.501036936941091, 5364391.083938846364617 ], [ 361653.242671445361339, 5364387.770825412124395 ], [ 361661.299107734463178, 5364385.355647348798811 ], [ 361666.399610966618638, 5364388.572269859723747 ], [ 361671.945225559058599, 5364390.749728391878307 ], [ 361674.954898259544279, 5364396.710068425163627 ] ] } },\r\n",
      "{ \"type\": \"Feature\", \"properties\": { \"CFF_ID\": 0, \"NAME\": null, \"DATA_SOURC\": null, \"COLLECTION\": null, \"CFF_CODE\": 0, \"CFF_CODELI\": null, \"SUPPRESSIO\": null, \"GNIS_ID\": null, \"FCSUBTYPE\": 0, \"LOCATION\": 0, \"COMPOSITIO\": 0, \"INTERSTATE\": null, \"US_ROUTE\": null, \"STATE_ROUT\": null, \"COUNTY_ROU\": null, \"RTE_NO\": null, \"SHAPE_Leng\": 0.0 }, \"geometry\": { \"type\": \"LineString\", \"coordinates\": [ [ 361645.851520349038765, 5364377.411630310118198 ], [ 361651.635819225281011, 5364378.572651838883758 ], [ 361655.94472169294022, 5364380.221571982838213 ], [ 361661.299107734463178, 5364385.355647348798811 ], [ 361666.399610966618638, 5364388.572269859723747 ] ] } },\r\n",
      "{ \"type\": \"Feature\", \"properties\": { \"CFF_ID\": 0, \"NAME\": null, \"DATA_SOURC\": null, \"COLLECTION\": null, \"CFF_CODE\": 0, \"CFF_CODELI\": null, \"SUPPRESSIO\": null, \"GNIS_ID\": null, \"FCSUBTYPE\": 0, \"LOCATION\": 0, \"COMPOSITIO\": 0, \"INTERSTATE\": null, \"US_ROUTE\": null, \"STATE_ROUT\": null, \"COUNTY_ROU\": null, \"RTE_NO\": null, \"SHAPE_Leng\": 0.0 }, \"geometry\": { \"type\": \"LineString\", \"coordinates\": [ [ 361433.036644233739935, 5364298.878340472467244 ], [ 361520.349318862310611, 5364299.672092053107917 ], [ 361524.115674251806922, 5364299.727804242633283 ], [ 361526.699331562500447, 5364298.878340472467244 ] ] } },\r\n",
      "{ \"type\": \"Feature\", \"properties\": { \"CFF_ID\": 0, \"NAME\": null, \"DATA_SOURC\": null, \"COLLECTION\": null, \"CFF_CODE\": 0, \"CFF_CODELI\": null, \"SUPPRESSIO\": null, \"GNIS_ID\": null, \"FCSUBTYPE\": 0, \"LOCATION\": 0, \"COMPOSITIO\": 0, \"INTERSTATE\": null, \"US_ROUTE\": null, \"STATE_ROUT\": null, \"COUNTY_ROU\": null, \"RTE_NO\": null, \"SHAPE_Leng\": 0.0 }, \"geometry\": { \"type\": \"LineString\", \"coordinates\": [ [ 361479.074236313521396, 5364410.003562721423805 ], [ 361484.890462117909919, 5364409.192189800553024 ], [ 361490.664369585865643, 5364408.770431506447494 ], [ 361496.240409901249222, 5364408.497247376479208 ], [ 361502.061925726186018, 5364408.439738245680928 ], [ 361507.681363312643953, 5364408.524991739541292 ], [ 361512.618859349517152, 5364408.015507497824728 ], [ 361516.38056093105115, 5364408.416059546172619 ], [ 361519.435028884327039, 5364411.817935150116682 ], [ 361525.685793622513302, 5364412.791284630075097 ], [ 361533.60278870066395, 5364415.490626108832657 ], [ 361539.787953413790092, 5364416.553593365475535 ], [ 361553.386950096581131, 5364416.042098068632185 ], [ 361563.211904588737525, 5364418.73483017925173 ], [ 361567.802245567785576, 5364419.757523403503001 ], [ 361572.44177657761611, 5364420.402973503805697 ], [ 361577.130498064565472, 5364420.67118054907769 ], [ 361581.868410550232511, 5364420.562144668772817 ], [ 361586.655514526763, 5364420.075866014696658 ], [ 361591.491810522740707, 5364419.212344762869179 ], [ 361596.377299087122083, 5364417.971581137739122 ], [ 361602.605215511168353, 5364415.280109762214124 ] ] } },\r\n",
      "{ \"type\": \"Feature\", \"properties\": { \"CFF_ID\": 0, \"NAME\": null, \"DATA_SOURC\": null, \"COLLECTION\": null, \"CFF_CODE\": 0, \"CFF_CODELI\": null, \"SUPPRESSIO\": null, \"GNIS_ID\": null, \"FCSUBTYPE\": 0, \"LOCATION\": 0, \"COMPOSITIO\": 0, \"INTERSTATE\": null, \"US_ROUTE\": null, \"STATE_ROUT\": null, \"COUNTY_ROU\": null, \"RTE_NO\": null, \"SHAPE_Leng\": 0.0 }, \"geometry\": { \"type\": \"LineString\", \"coordinates\": [ [ 361398.111574389506131, 5364488.584969882853329 ], [ 361402.008703177329153, 5364486.368695452809334 ], [ 361408.453301701345481, 5364484.01524427998811 ], [ 361420.9849578255089, 5364482.76219280809164 ], [ 361427.186019978136756, 5364480.961518844589591 ], [ 361431.686035776045173, 5364478.933094857260585 ], [ 361436.534550099924672, 5364475.79840085003525 ], [ 361441.688998648372944, 5364470.485190946608782 ], [ 361446.452779685379937, 5364461.400218239985406 ], [ 361451.678146607126109, 5364458.806223958730698 ], [ 361454.97721024765633, 5364456.179523732513189 ], [ 361459.173313523293473, 5364455.079574855975807 ], [ 361463.077450932352804, 5364454.57206342369318 ], [ 361468.946754481294192, 5364454.551027964800596 ], [ 361479.883970402413979, 5364455.448397153988481 ], [ 361484.982923013390973, 5364456.392369114793837 ], [ 361500.030735984095372, 5364460.99664552602917 ], [ 361505.07147863926366, 5364462.662383764050901 ], [ 361513.955397529352922, 5364463.364565351977944 ], [ 361522.730573628796265, 5364463.184919080697 ] ] } },\r\n",
      "{ \"type\": \"Feature\", \"properties\": { \"CFF_ID\": 0, \"NAME\": null, \"DATA_SOURC\": null, \"COLLECTION\": null, \"CFF_CODE\": 0, \"CFF_CODELI\": null, \"SUPPRESSIO\": null, \"GNIS_ID\": null, \"FCSUBTYPE\": 0, \"LOCATION\": 0, \"COMPOSITIO\": 0, \"INTERSTATE\": null, \"US_ROUTE\": null, \"STATE_ROUT\": null, \"COUNTY_ROU\": null, \"RTE_NO\": null, \"SHAPE_Leng\": 0.0 }, \"geometry\": { \"type\": \"LineString\", \"coordinates\": [ [ 361437.005402180016972, 5364430.64110399968922 ], [ 361442.595197824470233, 5364429.324377153068781 ], [ 361448.118716842145659, 5364428.38385848980397 ], [ 361453.575958609348163, 5364427.819547711871564 ], [ 361458.966922462452203, 5364427.631444535218179 ], [ 361464.291607876541093, 5364427.819548758678138 ], [ 361469.550014271051623, 5364428.383860159665346 ], [ 361474.742141115828417, 5364429.324378617107868 ], [ 361479.867987898876891, 5364430.641103995032609 ], [ 361490.20086988172261, 5364434.100938585586846 ], [ 361497.24683852517046, 5364434.340088458731771 ], [ 361507.232737677113619, 5364433.201491003856063 ], [ 361511.055901546322275, 5364433.000955377705395 ], [ 361515.735665824729949, 5364433.509182937443256 ], [ 361524.132987687946297, 5364436.665317673236132 ], [ 361529.217239457531832, 5364437.5288539621979 ], [ 361540.986860138888005, 5364436.991116693243384 ], [ 361561.795015798648819, 5364436.474955877289176 ], [ 361567.858036132005509, 5364436.041296960785985 ], [ 361573.195137919392437, 5364435.375931695103645 ], [ 361578.542317547427956, 5364434.330886554904282 ], [ 361583.380260679405183, 5364432.942071997560561 ], [ 361587.783026723889634, 5364431.187978379428387 ], [ 361592.580713630886748, 5364431.434855529107153 ], [ 361597.957693939795718, 5364429.705563650466502 ], [ 361599.539856253308244, 5364423.179480532184243 ] ] } },\r\n",
      "{ \"type\": \"Feature\", \"properties\": { \"CFF_ID\": 0, \"NAME\": null, \"DATA_SOURC\": null, \"COLLECTION\": null, \"CFF_CODE\": 0, \"CFF_CODELI\": null, \"SUPPRESSIO\": null, \"GNIS_ID\": null, \"FCSUBTYPE\": 0, \"LOCATION\": 0, \"COMPOSITIO\": 0, \"INTERSTATE\": null, \"US_ROUTE\": null, \"STATE_ROUT\": null, \"COUNTY_ROU\": null, \"RTE_NO\": null, \"SHAPE_Leng\": 0.0 }, \"geometry\": { \"type\": \"LineString\", \"coordinates\": [ [ 361520.349318862310611, 5364299.672092053107917 ], [ 361524.115674251806922, 5364299.727804242633283 ], [ 361526.699331562500447, 5364298.878340472467244 ], [ 361527.20896786742378, 5364292.458821594715118 ], [ 361530.048117031285074, 5364285.831482544541359 ], [ 361534.136031292669941, 5364279.901866928674281 ], [ 361538.868769212742336, 5364275.538003076799214 ], [ 361544.100196183891967, 5364273.146662227809429 ], [ 361555.888061355100945, 5364272.970554205588996 ], [ 361563.374462554173078, 5364270.254083125852048 ], [ 361569.564447179844137, 5364263.400756812654436 ], [ 361577.008679960854352, 5364259.761530175805092 ], [ 361580.310998358996585, 5364250.284597364254296 ], [ 361584.070079626340885, 5364245.969929384998977 ], [ 361588.895630216109566, 5364243.440252070315182 ] ] } },\r\n",
      "{ \"type\": \"Feature\", \"properties\": { \"CFF_ID\": 0, \"NAME\": null, \"DATA_SOURC\": null, \"COLLECTION\": null, \"CFF_CODE\": 0, \"CFF_CODELI\": null, \"SUPPRESSIO\": null, \"GNIS_ID\": null, \"FCSUBTYPE\": 0, \"LOCATION\": 0, \"COMPOSITIO\": 0, \"INTERSTATE\": null, \"US_ROUTE\": null, \"STATE_ROUT\": null, \"COUNTY_ROU\": null, \"RTE_NO\": null, \"SHAPE_Leng\": 0.0 }, \"geometry\": { \"type\": \"LineString\", \"coordinates\": [ [ 361389.380306926905178, 5364167.115576942451298 ], [ 361395.574709615320899, 5364165.164082255214453 ], [ 361399.887891681166366, 5364162.93469092156738 ], [ 361405.053296902158763, 5364158.515423664823174 ], [ 361410.197313254873734, 5364151.361518197692931 ], [ 361417.137169427005574, 5364148.37321856059134 ], [ 361426.648445785162039, 5364148.359271668829024 ], [ 361431.436303541006055, 5364147.093492172658443 ], [ 361437.078962927451357, 5364142.232545520178974 ], [ 361441.30262730375398, 5364140.590805394575 ], [ 361452.880433923215605, 5364140.128022970631719 ], [ 361472.480873540393077, 5364137.954717631451786 ], [ 361481.187698322406504, 5364137.42133884690702 ], [ 361485.678517592488788, 5364137.475641567260027 ], [ 361489.821961238631047, 5364137.808381491340697 ], [ 361495.511976146721281, 5364138.880033894442022 ], [ 361503.96551950176945, 5364141.702493068762124 ], [ 361510.824299813248217, 5364144.890532490797341 ], [ 361514.70549063954968, 5364149.154208350926638 ], [ 361519.012739551078994, 5364150.652175107039511 ], [ 361521.946015182184055, 5364152.637512854300439 ], [ 361525.619776955107227, 5364154.757050112821162 ], [ 361529.874337914050557, 5364158.384309480898082 ] ] } },\r\n",
      "{ \"type\": \"Feature\", \"properties\": { \"CFF_ID\": 0, \"NAME\": null, \"DATA_SOURC\": null, \"COLLECTION\": null, \"CFF_CODE\": 0, \"CFF_CODELI\": null, \"SUPPRESSIO\": null, \"GNIS_ID\": null, \"FCSUBTYPE\": 0, \"LOCATION\": 0, \"COMPOSITIO\": 0, \"INTERSTATE\": null, \"US_ROUTE\": null, \"STATE_ROUT\": null, \"COUNTY_ROU\": null, \"RTE_NO\": null, \"SHAPE_Leng\": 0.0 }, \"geometry\": { \"type\": \"LineString\", \"coordinates\": [ [ 361544.95561808074126, 5364394.128530977293849 ], [ 361547.803774234373122, 5364397.915644039399922 ], [ 361551.788485784665681, 5364401.296880719251931 ], [ 361557.893707160372287, 5364405.835748729296029 ], [ 361570.422649617074057, 5364403.883914644829929 ], [ 361573.819303643889725, 5364407.322415249422193 ], [ 361580.345879419124685, 5364408.759995250031352 ], [ 361584.643197456141934, 5364410.003562721423805 ] ] } },\r\n",
      "{ \"type\": \"Feature\", \"properties\": { \"CFF_ID\": 0, \"NAME\": null, \"DATA_SOURC\": null, \"COLLECTION\": null, \"CFF_CODE\": 0, \"CFF_CODELI\": null, \"SUPPRESSIO\": null, \"GNIS_ID\": null, \"FCSUBTYPE\": 0, \"LOCATION\": 0, \"COMPOSITIO\": 0, \"INTERSTATE\": null, \"US_ROUTE\": null, \"STATE_ROUT\": null, \"COUNTY_ROU\": null, \"RTE_NO\": null, \"SHAPE_Leng\": 0.0 }, \"geometry\": { \"type\": \"LineString\", \"coordinates\": [ [ 361681.210322538623586, 5364447.057792781852186 ], [ 361681.913307076320052, 5364453.835004396736622 ], [ 361685.01821244508028, 5364460.716208141297102 ], [ 361692.086676511913538, 5364466.012047430500388 ], [ 361697.355922877148259, 5364467.94742860365659 ] ] } },\r\n",
      "{ \"type\": \"Feature\", \"properties\": { \"CFF_ID\": 0, \"NAME\": null, \"DATA_SOURC\": null, \"COLLECTION\": null, \"CFF_CODE\": 0, \"CFF_CODELI\": null, \"SUPPRESSIO\": null, \"GNIS_ID\": null, \"FCSUBTYPE\": 0, \"LOCATION\": 0, \"COMPOSITIO\": 0, \"INTERSTATE\": null, \"US_ROUTE\": null, \"STATE_ROUT\": null, \"COUNTY_ROU\": null, \"RTE_NO\": null, \"SHAPE_Leng\": 0.0 }, \"geometry\": { \"type\": \"LineString\", \"coordinates\": [ [ 361681.210322538623586, 5364447.057792781852186 ], [ 361709.262196689029224, 5364442.547377807088196 ] ] } },\r\n",
      "{ \"type\": \"Feature\", \"properties\": { \"CFF_ID\": 0, \"NAME\": null, \"DATA_SOURC\": null, \"COLLECTION\": null, \"CFF_CODE\": 0, \"CFF_CODELI\": null, \"SUPPRESSIO\": null, \"GNIS_ID\": null, \"FCSUBTYPE\": 0, \"LOCATION\": 0, \"COMPOSITIO\": 0, \"INTERSTATE\": null, \"US_ROUTE\": null, \"STATE_ROUT\": null, \"COUNTY_ROU\": null, \"RTE_NO\": null, \"SHAPE_Leng\": 0.0 }, \"geometry\": { \"type\": \"LineString\", \"coordinates\": [ [ 361394.142816455045249, 5364348.884690481238067 ], [ 361398.785453013551887, 5364349.430243514478207 ], [ 361403.37571262952406, 5364349.61209459323436 ], [ 361407.913595781428739, 5364349.43024361692369 ], [ 361413.920052775647491, 5364348.528553014621139 ], [ 361424.251716609636787, 5364345.330739976838231 ], [ 361429.866163882310502, 5364344.327868958935142 ], [ 361433.86650353576988, 5364343.992868263274431 ], [ 361437.893898625276051, 5364343.910930483601987 ], [ 361441.948348837788217, 5364344.082055659964681 ], [ 361446.029853870568331, 5364344.506243844516575 ], [ 361450.138413486187346, 5364345.183495115488768 ], [ 361454.274027303326875, 5364346.113809572532773 ], [ 361458.436695035663433, 5364347.297187311574817 ] ] } },\r\n",
      "{ \"type\": \"Feature\", \"properties\": { \"CFF_ID\": 0, \"NAME\": null, \"DATA_SOURC\": null, \"COLLECTION\": null, \"CFF_CODE\": 0, \"CFF_CODELI\": null, \"SUPPRESSIO\": null, \"GNIS_ID\": null, \"FCSUBTYPE\": 0, \"LOCATION\": 0, \"COMPOSITIO\": 0, \"INTERSTATE\": null, \"US_ROUTE\": null, \"STATE_ROUT\": null, \"COUNTY_ROU\": null, \"RTE_NO\": null, \"SHAPE_Leng\": 0.0 }, \"geometry\": { \"type\": \"LineString\", \"coordinates\": [ [ 361488.599255362525582, 5364385.397263512015343 ], [ 361494.155516479280777, 5364387.778518268838525 ], [ 361499.022244275722187, 5364390.572470034472644 ], [ 361505.020315154397395, 5364395.052538077346981 ], [ 361510.429306526959408, 5364400.438363345339894 ], [ 361512.618859349517152, 5364408.015507497824728 ], [ 361516.38056093105115, 5364408.416059546172619 ] ] } },\r\n",
      "{ \"type\": \"Feature\", \"properties\": { \"CFF_ID\": 0, \"NAME\": null, \"DATA_SOURC\": null, \"COLLECTION\": null, \"CFF_CODE\": 0, \"CFF_CODELI\": null, \"SUPPRESSIO\": null, \"GNIS_ID\": null, \"FCSUBTYPE\": 0, \"LOCATION\": 0, \"COMPOSITIO\": 0, \"INTERSTATE\": null, \"US_ROUTE\": null, \"STATE_ROUT\": null, \"COUNTY_ROU\": null, \"RTE_NO\": null, \"SHAPE_Leng\": 0.0 }, \"geometry\": { \"type\": \"LineString\", \"coordinates\": [ [ 361367.155262473970652, 5364384.603511914610863 ], [ 361365.442941131826956, 5364379.286913454532623 ], [ 361363.946123427303974, 5364373.942831912077963 ], [ 361362.664809970650822, 5364368.571267164312303 ], [ 361361.439186204166617, 5364362.007990556769073 ], [ 361361.168084047734737, 5364355.636467930860817 ], [ 361361.889819601783529, 5364347.307424699887633 ], [ 361364.243225771235302, 5364332.119006385095417 ], [ 361363.186504539044108, 5364326.659646031446755 ], [ 361363.979042814928107, 5364319.803319890983403 ], [ 361359.82487745891558, 5364311.512338354252279 ], [ 361349.212687323743012, 5364300.466780915856361 ], [ 361344.930218021851033, 5364298.084588881582022 ], [ 361343.613749977317639, 5364289.231873529963195 ], [ 361342.445827727322467, 5364280.669479472562671 ], [ 361342.605553381377831, 5364271.011732096783817 ], [ 361343.608406041632406, 5364255.71329861227423 ], [ 361344.930218025809154, 5364250.45949362963438 ], [ 361343.98125926265493, 5364243.293585006147623 ], [ 361344.697128016268834, 5364236.903862551786005 ], [ 361341.190714900498278, 5364230.050975725054741 ], [ 361336.185705009265803, 5364219.615146746858954 ], [ 361334.221194728801493, 5364213.812041275203228 ], [ 361333.469698610540945, 5364206.177263048477471 ], [ 361334.265067622181959, 5364197.098224570974708 ], [ 361333.023944213578943, 5364191.721876159310341 ], [ 361331.824301387532614, 5364183.259208696894348 ], [ 361326.089997144066729, 5364171.93013742659241 ], [ 361325.211808891501278, 5364161.28421738371253 ], [ 361323.782890451955609, 5364152.509018546901643 ], [ 361319.536856224760413, 5364147.978880062699318 ], [ 361318.387690334930085, 5364141.504572741687298 ], [ 361309.201009833603166, 5364130.097189022228122 ], [ 361305.845689423731528, 5364124.746314140036702 ], [ 361303.181325535522774, 5364116.409545315429568 ], [ 361303.374494343064725, 5364104.548298669978976 ], [ 361306.353238740703091, 5364097.601639634929597 ], [ 361311.941639736003708, 5364093.683542616665363 ], [ 361313.973906109516975, 5364090.12167295627296 ] ] } },\r\n",
      "{ \"type\": \"Feature\", \"properties\": { \"CFF_ID\": 0, \"NAME\": null, \"DATA_SOURC\": null, \"COLLECTION\": null, \"CFF_CODE\": 0, \"CFF_CODELI\": null, \"SUPPRESSIO\": null, \"GNIS_ID\": null, \"FCSUBTYPE\": 0, \"LOCATION\": 0, \"COMPOSITIO\": 0, \"INTERSTATE\": null, \"US_ROUTE\": null, \"STATE_ROUT\": null, \"COUNTY_ROU\": null, \"RTE_NO\": null, \"SHAPE_Leng\": 0.0 }, \"geometry\": { \"type\": \"LineString\", \"coordinates\": [ [ 361294.130116423999425, 5364356.028454769402742 ], [ 361298.159841587941628, 5364350.879079931415617 ], [ 361302.686855937121436, 5364346.852195424027741 ], [ 361307.065534017165191, 5364344.55364725086838 ], [ 361311.86450513091404, 5364343.766649914905429 ], [ 361322.469307325663976, 5364343.724225783720613 ], [ 361327.887936008046381, 5364342.222352025099099 ], [ 361336.096194502024446, 5364338.225565958768129 ], [ 361345.454659510578495, 5364337.549490985460579 ], [ 361350.58164185215719, 5364336.11951916012913 ], [ 361355.417045032256283, 5364333.611020429991186 ], [ 361359.96087053505471, 5364330.023994645103812 ], [ 361363.186504540906753, 5364326.659646031446755 ] ] } },\r\n",
      "{ \"type\": \"Feature\", \"properties\": { \"CFF_ID\": 0, \"NAME\": null, \"DATA_SOURC\": null, \"COLLECTION\": null, \"CFF_CODE\": 0, \"CFF_CODELI\": null, \"SUPPRESSIO\": null, \"GNIS_ID\": null, \"FCSUBTYPE\": 0, \"LOCATION\": 0, \"COMPOSITIO\": 0, \"INTERSTATE\": null, \"US_ROUTE\": null, \"STATE_ROUT\": null, \"COUNTY_ROU\": null, \"RTE_NO\": null, \"SHAPE_Leng\": 0.0 }, \"geometry\": { \"type\": \"LineString\", \"coordinates\": [ [ 361279.842587850405835, 5364333.80341032333672 ], [ 361282.683737637591548, 5364328.993590866215527 ], [ 361286.223057561204769, 5364324.95976388361305 ], [ 361289.693532877368852, 5364322.071505328640342 ], [ 361293.833888599299826, 5364319.839588281698525 ], [ 361302.909166244906373, 5364317.279864827170968 ], [ 361307.534688051906414, 5364312.561008907854557 ], [ 361311.268076197302435, 5364304.369822989217937 ], [ 361314.00339158042334, 5364300.400194081477821 ], [ 361319.194735869765282, 5364297.269818712957203 ], [ 361325.959544947138056, 5364295.543709532357752 ], [ 361331.679679166874848, 5364295.356820533052087 ], [ 361335.837915818265174, 5364295.822997961193323 ], [ 361340.254762304015458, 5364296.732253837399185 ], [ 361344.930218023713678, 5364298.084588881582022 ] ] } },\r\n",
      "{ \"type\": \"Feature\", \"properties\": { \"CFF_ID\": 0, \"NAME\": null, \"DATA_SOURC\": null, \"COLLECTION\": null, \"CFF_CODE\": 0, \"CFF_CODELI\": null, \"SUPPRESSIO\": null, \"GNIS_ID\": null, \"FCSUBTYPE\": 0, \"LOCATION\": 0, \"COMPOSITIO\": 0, \"INTERSTATE\": null, \"US_ROUTE\": null, \"STATE_ROUT\": null, \"COUNTY_ROU\": null, \"RTE_NO\": null, \"SHAPE_Leng\": 0.0 }, \"geometry\": { \"type\": \"LineString\", \"coordinates\": [ [ 361285.398848964483477, 5364300.465843644924462 ], [ 361289.159885747125372, 5364300.887956409715116 ], [ 361293.073671703459695, 5364300.627257536165416 ], [ 361297.11705174902454, 5364299.715773549862206 ], [ 361301.93281456787372, 5364296.886627661064267 ], [ 361304.637631480349228, 5364288.423020950518548 ], [ 361308.578769263869617, 5364284.356114448048174 ], [ 361315.503834455215838, 5364283.623145930469036 ], [ 361319.086232591303997, 5364278.752643393352628 ], [ 361318.736415638879407, 5364268.715780147351325 ], [ 361323.73615126387449, 5364265.032185565680265 ], [ 361326.472938181774225, 5364259.850942525081336 ], [ 361327.467683099326678, 5364254.428251571953297 ] ] } },\r\n",
      "{ \"type\": \"Feature\", \"properties\": { \"CFF_ID\": 0, \"NAME\": null, \"DATA_SOURC\": null, \"COLLECTION\": null, \"CFF_CODE\": 0, \"CFF_CODELI\": null, \"SUPPRESSIO\": null, \"GNIS_ID\": null, \"FCSUBTYPE\": 0, \"LOCATION\": 0, \"COMPOSITIO\": 0, \"INTERSTATE\": null, \"US_ROUTE\": null, \"STATE_ROUT\": null, \"COUNTY_ROU\": null, \"RTE_NO\": null, \"SHAPE_Leng\": 0.0 }, \"geometry\": { \"type\": \"LineString\", \"coordinates\": [ [ 361275.87382991600316, 5364284.590811889618635 ], [ 361280.558486073219683, 5364282.99547343980521 ], [ 361286.784206096548587, 5364276.304336111061275 ], [ 361293.62663369072834, 5364274.284284557215869 ], [ 361304.363054481102154, 5364275.396144810132682 ], [ 361310.352771047968417, 5364274.761630347929895 ], [ 361315.291234794887714, 5364271.827750224620104 ], [ 361318.736415638879407, 5364268.715780147351325 ] ] } },\r\n",
      "{ \"type\": \"Feature\", \"properties\": { \"CFF_ID\": 0, \"NAME\": null, \"DATA_SOURC\": null, \"COLLECTION\": null, \"CFF_CODE\": 0, \"CFF_CODELI\": null, \"SUPPRESSIO\": null, \"GNIS_ID\": null, \"FCSUBTYPE\": 0, \"LOCATION\": 0, \"COMPOSITIO\": 0, \"INTERSTATE\": null, \"US_ROUTE\": null, \"STATE_ROUT\": null, \"COUNTY_ROU\": null, \"RTE_NO\": null, \"SHAPE_Leng\": 0.0 }, \"geometry\": { \"type\": \"LineString\", \"coordinates\": [ [ 361274.286326738074422, 5364263.159519034437835 ], [ 361279.54912648757454, 5364263.664634007029235 ], [ 361285.049071930232458, 5364262.069538260810077 ], [ 361289.429986162111163, 5364259.03608703892678 ], [ 361298.616162223624997, 5364258.475832214578986 ], [ 361302.978691567433998, 5364257.523820580914617 ], [ 361315.342508747242391, 5364252.661536729894578 ], [ 361321.476420745893847, 5364251.933152325451374 ], [ 361327.467683099326678, 5364254.428251571953297 ], [ 361332.814109055267181, 5364252.742221943102777 ], [ 361339.795990707702003, 5364251.930127182044089 ], [ 361344.930218029592652, 5364250.45949362963438 ] ] } },\r\n",
      "{ \"type\": \"Feature\", \"properties\": { \"CFF_ID\": 0, \"NAME\": null, \"DATA_SOURC\": null, \"COLLECTION\": null, \"CFF_CODE\": 0, \"CFF_CODELI\": null, \"SUPPRESSIO\": null, \"GNIS_ID\": null, \"FCSUBTYPE\": 0, \"LOCATION\": 0, \"COMPOSITIO\": 0, \"INTERSTATE\": null, \"US_ROUTE\": null, \"STATE_ROUT\": null, \"COUNTY_ROU\": null, \"RTE_NO\": null, \"SHAPE_Leng\": 0.0 }, \"geometry\": { \"type\": \"LineString\", \"coordinates\": [ [ 361251.267530697630718, 5364206.009404733777046 ], [ 361255.099602674541529, 5364203.149944769218564 ], [ 361259.022798855789006, 5364200.609288260340691 ], [ 361263.037118903768715, 5364198.387435220181942 ], [ 361268.534883597516455, 5364195.98926408495754 ], [ 361274.525314860278741, 5364194.555405906401575 ], [ 361279.648358479840681, 5364194.143637530505657 ], [ 361286.569194706855342, 5364194.403902499936521 ], [ 361299.903999747475609, 5364195.80834788735956 ], [ 361305.287361241702456, 5364196.198257989250124 ], [ 361310.754195230198093, 5364196.200203398242593 ], [ 361315.561409294314217, 5364195.690634093247354 ], [ 361324.322569088428281, 5364193.954301287420094 ], [ 361333.023944215499796, 5364191.721876159310341 ] ] } },\r\n",
      "{ \"type\": \"Feature\", \"properties\": { \"CFF_ID\": 0, \"NAME\": null, \"DATA_SOURC\": null, \"COLLECTION\": null, \"CFF_CODE\": 0, \"CFF_CODELI\": null, \"SUPPRESSIO\": null, \"GNIS_ID\": null, \"FCSUBTYPE\": 0, \"LOCATION\": 0, \"COMPOSITIO\": 0, \"INTERSTATE\": null, \"US_ROUTE\": null, \"STATE_ROUT\": null, \"COUNTY_ROU\": null, \"RTE_NO\": null, \"SHAPE_Leng\": 0.0 }, \"geometry\": { \"type\": \"LineString\", \"coordinates\": [ [ 361255.236288639134727, 5364179.815602341666818 ], [ 361260.674543023458682, 5364179.777643190696836 ], [ 361265.926884212240111, 5364179.235822691582143 ], [ 361270.993312948849052, 5364178.190140401944518 ], [ 361278.45759205671493, 5364175.316598067060113 ], [ 361290.134917069924995, 5364167.463965497910976 ], [ 361295.394545487593859, 5364165.655926959589124 ], [ 361305.107316488225479, 5364162.786808635108173 ], [ 361311.082690594892483, 5364158.167970609851182 ], [ 361314.76765770179918, 5364152.828048365190625 ], [ 361319.536856224760413, 5364147.978880062699318 ] ] } },\r\n",
      "{ \"type\": \"Feature\", \"properties\": { \"CFF_ID\": 0, \"NAME\": null, \"DATA_SOURC\": null, \"COLLECTION\": null, \"CFF_CODE\": 0, \"CFF_CODELI\": null, \"SUPPRESSIO\": null, \"GNIS_ID\": null, \"FCSUBTYPE\": 0, \"LOCATION\": 0, \"COMPOSITIO\": 0, \"INTERSTATE\": null, \"US_ROUTE\": null, \"STATE_ROUT\": null, \"COUNTY_ROU\": null, \"RTE_NO\": null, \"SHAPE_Leng\": 0.0 }, \"geometry\": { \"type\": \"LineString\", \"coordinates\": [ [ 361273.492575151030906, 5364159.971812661737204 ], [ 361279.511172557831742, 5364160.904754878953099 ], [ 361285.486129058059305, 5364161.348027648404241 ], [ 361291.417445514060091, 5364161.301630800589919 ], [ 361297.305122777936049, 5364160.765564242377877 ], [ 361305.107316490088124, 5364162.786808635108173 ], [ 361311.082690596813336, 5364158.167970608919859 ], [ 361314.767657703661826, 5364152.828048365190625 ] ] } },\r\n",
      "{ \"type\": \"Feature\", \"properties\": { \"CFF_ID\": 0, \"NAME\": null, \"DATA_SOURC\": null, \"COLLECTION\": null, \"CFF_CODE\": 0, \"CFF_CODELI\": null, \"SUPPRESSIO\": null, \"GNIS_ID\": null, \"FCSUBTYPE\": 0, \"LOCATION\": 0, \"COMPOSITIO\": 0, \"INTERSTATE\": null, \"US_ROUTE\": null, \"STATE_ROUT\": null, \"COUNTY_ROU\": null, \"RTE_NO\": null, \"SHAPE_Leng\": 0.0 }, \"geometry\": { \"type\": \"LineString\", \"coordinates\": [ [ 361600.518229204113595, 5364313.959620627574623 ], [ 361599.093094009964261, 5364308.045244863256812 ], [ 361600.485099659650587, 5364302.027015302330256 ], [ 361605.280738732544705, 5364295.703334121964872 ], [ 361609.287105738883838, 5364291.215638240799308 ], [ 361614.123876758269034, 5364287.059530229307711 ], [ 361619.892610193928704, 5364284.433158301748335 ], [ 361627.894472774176393, 5364284.159725842997432 ], [ 361632.268292702909093, 5364281.415805551223457 ] ] } },\r\n",
      "{ \"type\": \"Feature\", \"properties\": { \"CFF_ID\": 0, \"NAME\": null, \"DATA_SOURC\": null, \"COLLECTION\": null, \"CFF_CODE\": 0, \"CFF_CODELI\": null, \"SUPPRESSIO\": null, \"GNIS_ID\": null, \"FCSUBTYPE\": 0, \"LOCATION\": 0, \"COMPOSITIO\": 0, \"INTERSTATE\": null, \"US_ROUTE\": null, \"STATE_ROUT\": null, \"COUNTY_ROU\": null, \"RTE_NO\": null, \"SHAPE_Leng\": 0.0 }, \"geometry\": { \"type\": \"LineString\", \"coordinates\": [ [ 361541.780611722148024, 5364103.615449940785766 ], [ 361543.299563759937882, 5364111.281112860888243 ], [ 361542.494212721590884, 5364121.029224038124084 ], [ 361538.908512450754642, 5364129.408776950091124 ], [ 361537.662762899883091, 5364143.044099936261773 ], [ 361533.843095854623243, 5364145.684284074231982 ], [ 361533.025716029922478, 5364151.3455112259835 ], [ 361534.02500622055959, 5364158.264043970033526 ] ] } },\r\n",
      "{ \"type\": \"Feature\", \"properties\": { \"CFF_ID\": 0, \"NAME\": null, \"DATA_SOURC\": null, \"COLLECTION\": null, \"CFF_CODE\": 0, \"CFF_CODELI\": null, \"SUPPRESSIO\": null, \"GNIS_ID\": null, \"FCSUBTYPE\": 0, \"LOCATION\": 0, \"COMPOSITIO\": 0, \"INTERSTATE\": null, \"US_ROUTE\": null, \"STATE_ROUT\": null, \"COUNTY_ROU\": null, \"RTE_NO\": null, \"SHAPE_Leng\": 0.0 }, \"geometry\": { \"type\": \"LineString\", \"coordinates\": [ [ 361578.293184752983507, 5364224.265691244974732 ], [ 361583.194542549492326, 5364226.564134495332837 ], [ 361587.41599745984422, 5364231.736190658994019 ], [ 361590.865072886052076, 5364236.348699809983373 ], [ 361588.895630216109566, 5364243.440252070315182 ], [ 361588.259276340715587, 5364248.389310571365058 ], [ 361585.436949034105055, 5364252.046996803954244 ] ] } },\r\n",
      "{ \"type\": \"Feature\", \"properties\": { \"CFF_ID\": 0, \"NAME\": null, \"DATA_SOURC\": null, \"COLLECTION\": null, \"CFF_CODE\": 0, \"CFF_CODELI\": null, \"SUPPRESSIO\": null, \"GNIS_ID\": null, \"FCSUBTYPE\": 0, \"LOCATION\": 0, \"COMPOSITIO\": 0, \"INTERSTATE\": null, \"US_ROUTE\": null, \"STATE_ROUT\": null, \"COUNTY_ROU\": null, \"RTE_NO\": null, \"SHAPE_Leng\": 0.0 }, \"geometry\": { \"type\": \"LineString\", \"coordinates\": [ [ 361344.697128016268834, 5364236.903862551786005 ], [ 361352.434905865695328, 5364233.966040193103254 ], [ 361361.40653622627724, 5364231.681417227722704 ], [ 361368.715808697510511, 5364231.307819061912596 ], [ 361374.01820902491454, 5364231.737410308793187 ], [ 361386.423415815923363, 5364233.295542093925178 ], [ 361392.318681549862958, 5364233.615356181748211 ], [ 361399.234599903575145, 5364232.890886538662016 ], [ 361409.466170969069935, 5364227.643883322365582 ], [ 361411.605351374309976, 5364222.678188070654869 ] ] } },\r\n",
      "{ \"type\": \"Feature\", \"properties\": { \"CFF_ID\": 0, \"NAME\": null, \"DATA_SOURC\": null, \"COLLECTION\": null, \"CFF_CODE\": 0, \"CFF_CODELI\": null, \"SUPPRESSIO\": null, \"GNIS_ID\": null, \"FCSUBTYPE\": 0, \"LOCATION\": 0, \"COMPOSITIO\": 0, \"INTERSTATE\": null, \"US_ROUTE\": null, \"STATE_ROUT\": null, \"COUNTY_ROU\": null, \"RTE_NO\": null, \"SHAPE_Leng\": 0.0 }, \"geometry\": { \"type\": \"LineString\", \"coordinates\": [ [ 361469.549217263818718, 5364098.059188832528889 ], [ 361474.519179188180715, 5364100.356995795853436 ], [ 361480.043535850418266, 5364104.739147738553584 ], [ 361486.842892083339393, 5364114.129922354593873 ], [ 361496.147398679633625, 5364118.135669616051018 ], [ 361500.013915106712375, 5364120.308999619446695 ], [ 361507.037219764781184, 5364126.110466515645385 ], [ 361512.916671900544316, 5364129.963278301991522 ], [ 361519.360439021140337, 5364130.089853346347809 ], [ 361524.392522758687846, 5364133.325369024649262 ], [ 361529.391699654632248, 5364142.691839104518294 ], [ 361533.843095854623243, 5364145.684284074231982 ] ] } },\r\n",
      "{ \"type\": \"Feature\", \"properties\": { \"CFF_ID\": 0, \"NAME\": null, \"DATA_SOURC\": null, \"COLLECTION\": null, \"CFF_CODE\": 0, \"CFF_CODELI\": null, \"SUPPRESSIO\": null, \"GNIS_ID\": null, \"FCSUBTYPE\": 0, \"LOCATION\": 0, \"COMPOSITIO\": 0, \"INTERSTATE\": null, \"US_ROUTE\": null, \"STATE_ROUT\": null, \"COUNTY_ROU\": null, \"RTE_NO\": null, \"SHAPE_Leng\": 0.0 }, \"geometry\": { \"type\": \"LineString\", \"coordinates\": [ [ 361660.049598269164562, 5364309.990862692706287 ], [ 361660.838583813747391, 5364302.196397104300559 ], [ 361658.788025570276659, 5364291.008388410322368 ], [ 361651.797004871070385, 5364278.221961330622435 ], [ 361650.854066916042939, 5364269.691078966483474 ], [ 361652.148754694615491, 5364260.028854604810476 ], [ 361651.633634489611723, 5364252.71778466552496 ], [ 361649.009605677914806, 5364247.957638718187809 ], [ 361643.650249874102883, 5364243.564774833619595 ], [ 361642.375707508646883, 5364236.430172013118863 ], [ 361645.41936719242949, 5364223.72248051315546 ], [ 361649.506993263261393, 5364213.585907104425132 ], [ 361650.3574221895542, 5364207.879860736429691 ], [ 361649.959840347757563, 5364202.096388049423695 ], [ 361648.220238060341217, 5364190.750246789306402 ], [ 361650.437142416194547, 5364184.42185412812978 ], [ 361651.783598896930926, 5364177.120594658888876 ], [ 361656.080840325215831, 5364171.878086472861469 ] ] } },\r\n",
      "{ \"type\": \"Feature\", \"properties\": { \"CFF_ID\": 0, \"NAME\": null, \"DATA_SOURC\": null, \"COLLECTION\": null, \"CFF_CODE\": 0, \"CFF_CODELI\": null, \"SUPPRESSIO\": null, \"GNIS_ID\": null, \"FCSUBTYPE\": 0, \"LOCATION\": 0, \"COMPOSITIO\": 0, \"INTERSTATE\": null, \"US_ROUTE\": null, \"STATE_ROUT\": null, \"COUNTY_ROU\": null, \"RTE_NO\": null, \"SHAPE_Leng\": 0.0 }, \"geometry\": { \"type\": \"LineString\", \"coordinates\": [ [ 361653.242127891397104, 5364433.208573142997921 ], [ 361656.871331497561187, 5364429.173743721097708 ], [ 361658.677463301923126, 5364423.181628953665495 ] ] } },\r\n",
      "{ \"type\": \"Feature\", \"properties\": { \"CFF_ID\": 0, \"NAME\": null, \"DATA_SOURC\": null, \"COLLECTION\": null, \"CFF_CODE\": 0, \"CFF_CODELI\": null, \"SUPPRESSIO\": null, \"GNIS_ID\": null, \"FCSUBTYPE\": 0, \"LOCATION\": 0, \"COMPOSITIO\": 0, \"INTERSTATE\": null, \"US_ROUTE\": null, \"STATE_ROUT\": null, \"COUNTY_ROU\": null, \"RTE_NO\": null, \"SHAPE_Leng\": 0.0 }, \"geometry\": { \"type\": \"LineString\", \"coordinates\": [ [ 361712.700010186177678, 5364327.890578981488943 ], [ 361716.289795341377612, 5364326.242766175419092 ], [ 361720.736294531205203, 5364325.210042510181665 ], [ 361725.088403760804795, 5364324.773584570735693 ], [ 361729.530856137454975, 5364324.878172259777784 ] ] } },\r\n",
      "{ \"type\": \"Feature\", \"properties\": { \"CFF_ID\": 0, \"NAME\": null, \"DATA_SOURC\": null, \"COLLECTION\": null, \"CFF_CODE\": 0, \"CFF_CODELI\": null, \"SUPPRESSIO\": null, \"GNIS_ID\": null, \"FCSUBTYPE\": 0, \"LOCATION\": 0, \"COMPOSITIO\": 0, \"INTERSTATE\": null, \"US_ROUTE\": null, \"STATE_ROUT\": null, \"COUNTY_ROU\": null, \"RTE_NO\": null, \"SHAPE_Leng\": 0.0 }, \"geometry\": { \"type\": \"LineString\", \"coordinates\": [ [ 361517.536863335117232, 5364145.405021651647985 ], [ 361519.012739551078994, 5364150.652175107039511 ], [ 361521.946015182184055, 5364152.637512854300439 ] ] } },\r\n",
      "{ \"type\": \"Feature\", \"properties\": { \"CFF_ID\": 0, \"NAME\": null, \"DATA_SOURC\": null, \"COLLECTION\": null, \"CFF_CODE\": 0, \"CFF_CODELI\": null, \"SUPPRESSIO\": null, \"GNIS_ID\": null, \"FCSUBTYPE\": 0, \"LOCATION\": 0, \"COMPOSITIO\": 0, \"INTERSTATE\": null, \"US_ROUTE\": null, \"STATE_ROUT\": null, \"COUNTY_ROU\": null, \"RTE_NO\": null, \"SHAPE_Leng\": 0.0 }, \"geometry\": { \"type\": \"LineString\", \"coordinates\": [ [ 361309.051250235061161, 5364054.237983930855989 ], [ 361312.627305648289621, 5364058.716412950307131 ], [ 361314.029303970688488, 5364065.023767022415996 ], [ 361314.890348445274867, 5364073.887003421783447 ], [ 361314.515432655345649, 5364083.309344349429011 ], [ 361313.973906109516975, 5364090.12167295627296 ], [ 361311.941639736003708, 5364093.683542616665363 ], [ 361313.180154526839033, 5364097.26543724257499 ], [ 361315.662969836150296, 5364101.593566326424479 ], [ 361320.214041633298621, 5364101.831838303245604 ], [ 361325.695537730061915, 5364108.240829132497311 ], [ 361331.798548108898103, 5364112.087238155305386 ], [ 361337.113781284657307, 5364117.282192870974541 ], [ 361344.893237162497826, 5364119.284552792087197 ], [ 361349.632175694452599, 5364121.207308035343885 ], [ 361355.743780172837432, 5364121.129289497621357 ], [ 361361.390139490133151, 5364120.098097569309175 ], [ 361365.635127748479135, 5364118.786747420206666 ], [ 361369.944160755025223, 5364116.699230478145182 ], [ 361375.131833123625256, 5364112.180157983675599 ], [ 361379.222039299784228, 5364105.958859514445066 ], [ 361385.683033648005221, 5364101.194569060578942 ], [ 361388.66482711955905, 5364096.317446228116751 ], [ 361395.542465562466532, 5364086.591960536316037 ], [ 361400.979309299204033, 5364081.285409244708717 ], [ 361405.705276767490432, 5364076.479686053469777 ], [ 361409.9894338658778, 5364070.076504628174007 ], [ 361412.843670706148259, 5364064.02815626654774 ] ] } },\r\n",
      "{ \"type\": \"Feature\", \"properties\": { \"CFF_ID\": 0, \"NAME\": null, \"DATA_SOURC\": null, \"COLLECTION\": null, \"CFF_CODE\": 0, \"CFF_CODELI\": null, \"SUPPRESSIO\": null, \"GNIS_ID\": null, \"FCSUBTYPE\": 0, \"LOCATION\": 0, \"COMPOSITIO\": 0, \"INTERSTATE\": null, \"US_ROUTE\": null, \"STATE_ROUT\": null, \"COUNTY_ROU\": null, \"RTE_NO\": null, \"SHAPE_Leng\": 0.0 }, \"geometry\": { \"type\": \"LineString\", \"coordinates\": [ [ 361412.843670706148259, 5364064.02815626654774 ], [ 361414.787610318046063, 5364056.114387889392674 ], [ 361414.390530064934865, 5364047.635097390972078 ], [ 361412.862741040647961, 5364037.735162935219705 ], [ 361411.699328423128463, 5364030.993563314899802 ], [ 361411.296556357876398, 5364024.747759033925831 ], [ 361411.923695484583732, 5364018.630559937097132 ], [ 361413.37365451885853, 5364013.456753226928413 ] ] } },\r\n",
      "{ \"type\": \"Feature\", \"properties\": { \"CFF_ID\": 0, \"NAME\": null, \"DATA_SOURC\": null, \"COLLECTION\": null, \"CFF_CODE\": 0, \"CFF_CODELI\": null, \"SUPPRESSIO\": null, \"GNIS_ID\": null, \"FCSUBTYPE\": 0, \"LOCATION\": 0, \"COMPOSITIO\": 0, \"INTERSTATE\": null, \"US_ROUTE\": null, \"STATE_ROUT\": null, \"COUNTY_ROU\": null, \"RTE_NO\": null, \"SHAPE_Leng\": 0.0 }, \"geometry\": { \"type\": \"LineString\", \"coordinates\": [ [ 361519.597559431218542, 5363956.688934478908777 ], [ 361523.275593886733986, 5363959.66077762003988 ], [ 361526.839763923780993, 5363967.339503192342818 ], [ 361531.173103414999787, 5363970.57958725746721 ], [ 361536.223668971215375, 5363973.324393757618964 ], [ 361543.037923092953861, 5363976.014516457915306 ], [ 361552.33981241757283, 5363977.855643477290869 ], [ 361556.983411541674286, 5363979.196778851561248 ], [ 361563.253896742477082, 5363981.493671589531004 ], [ 361566.89352569100447, 5363983.173248263075948 ], [ 361576.059253519400954, 5363988.255602072924376 ], [ 361580.143355203093961, 5363989.744984013028443 ], [ 361588.776201163302176, 5363991.263448779471219 ], [ 361599.059364925837144, 5363995.497960214503109 ], [ 361606.910234055423643, 5363997.368703336454928 ], [ 361612.211453202762641, 5363999.198429820127785 ], [ 361617.697580135834869, 5364001.858297881670296 ], [ 361623.440296183689497, 5364005.378519275225699 ], [ 361629.399862369289622, 5364010.597896461375058 ], [ 361634.47304405720206, 5364009.509925332851708 ], [ 361636.841283527144697, 5364016.551033369265497 ], [ 361640.857107685587835, 5364020.820266805589199 ], [ 361644.145866636070423, 5364026.366990654729307 ], [ 361646.553949837572873, 5364034.771680030040443 ], [ 361646.088683540932834, 5364045.32923827227205 ], [ 361646.597813425702043, 5364050.946935490705073 ], [ 361648.888316468393896, 5364059.685576905496418 ], [ 361649.242327122832648, 5364071.357681335881352 ], [ 361651.047291878960095, 5364080.886123328469694 ], [ 361651.489206450351048, 5364088.533247941173613 ], [ 361650.171126983128488, 5364093.78937962371856 ] ] } },\r\n",
      "{ \"type\": \"Feature\", \"properties\": { \"CFF_ID\": 0, \"NAME\": null, \"DATA_SOURC\": null, \"COLLECTION\": null, \"CFF_CODE\": 0, \"CFF_CODELI\": null, \"SUPPRESSIO\": null, \"GNIS_ID\": null, \"FCSUBTYPE\": 0, \"LOCATION\": 0, \"COMPOSITIO\": 0, \"INTERSTATE\": null, \"US_ROUTE\": null, \"STATE_ROUT\": null, \"COUNTY_ROU\": null, \"RTE_NO\": null, \"SHAPE_Leng\": 0.0 }, \"geometry\": { \"type\": \"LineString\", \"coordinates\": [ [ 361496.777201292861719, 5363854.824147411622107 ], [ 361501.638985379191581, 5363856.87252324540168 ], [ 361506.108891888638027, 5363861.561090593226254 ], [ 361510.419634327641688, 5363868.474489504471421 ], [ 361513.875277843850199, 5363875.759064410813153 ], [ 361517.992226595932152, 5363887.59613386541605 ], [ 361521.9126682265196, 5363895.17318644747138 ], [ 361527.042512610903941, 5363902.830010235309601 ], [ 361531.56921157008037, 5363907.513371622189879 ], [ 361538.853206177358516, 5363912.664556847885251 ], [ 361545.631517264642753, 5363919.281609664671123 ], [ 361554.912115129060112, 5363925.217508903704584 ], [ 361559.345639082603157, 5363929.211274677887559 ], [ 361562.374388524796814, 5363933.229756820946932 ], [ 361566.396750841056928, 5363942.848353524692357 ], [ 361570.095184497360606, 5363946.91067632753402 ], [ 361573.506521411705762, 5363949.412878260016441 ], [ 361578.091770386323333, 5363952.142028880305588 ], [ 361584.36219622392673, 5363959.882305152714252 ], [ 361587.713742248830386, 5363962.780313114635646 ], [ 361593.350311102694832, 5363966.61082932446152 ], [ 361602.511580903315917, 5363973.590580893680453 ], [ 361609.895726081798784, 5363979.707048557698727 ], [ 361616.276405669981614, 5363985.602493645623326 ], [ 361621.793076321249828, 5363991.415566436015069 ], [ 361627.084753570146859, 5363998.030162994749844 ], [ 361630.981615939585026, 5364001.795598391443491 ], [ 361634.47304405720206, 5364009.509925332851708 ], [ 361636.841283527144697, 5364016.551033369265497 ] ] } },\r\n",
      "{ \"type\": \"Feature\", \"properties\": { \"CFF_ID\": 0, \"NAME\": null, \"DATA_SOURC\": null, \"COLLECTION\": null, \"CFF_CODE\": 0, \"CFF_CODELI\": null, \"SUPPRESSIO\": null, \"GNIS_ID\": null, \"FCSUBTYPE\": 0, \"LOCATION\": 0, \"COMPOSITIO\": 0, \"INTERSTATE\": null, \"US_ROUTE\": null, \"STATE_ROUT\": null, \"COUNTY_ROU\": null, \"RTE_NO\": null, \"SHAPE_Leng\": 0.0 }, \"geometry\": { \"type\": \"LineString\", \"coordinates\": [ [ 361654.204599478514865, 5363854.824147410690784 ], [ 361655.125509054516442, 5363862.095169682987034 ], [ 361655.858248617034405, 5363869.376259851269424 ], [ 361656.205444069986697, 5363875.519063073210418 ], [ 361656.22445646522101, 5363882.393647346645594 ], [ 361656.002189489663579, 5363888.916053066030145 ], [ 361655.234885829268023, 5363903.930089096538723 ], [ 361655.056334720109589, 5363910.997774043120444 ], [ 361655.152729857247323, 5363917.084688991308212 ], [ 361655.796387283073273, 5363924.779647249728441 ], [ 361657.913705038605258, 5363939.612631371244788 ], [ 361658.430507064214908, 5363948.901738015934825 ], [ 361658.283569113351405, 5363957.315883074887097 ], [ 361657.548505967250094, 5363969.056298670358956 ], [ 361656.282162325805984, 5363976.831681743264198 ], [ 361653.745970231713727, 5363983.160858772695065 ], [ 361647.517618899175432, 5363991.053284558467567 ], [ 361645.121417505084537, 5363996.355784388259053 ], [ 361642.46513440477429, 5364006.670023104175925 ], [ 361639.352247753646225, 5364012.183736438862979 ], [ 361636.841283527144697, 5364016.551033369265497 ] ] } },\r\n",
      "{ \"type\": \"Feature\", \"properties\": { \"CFF_ID\": 0, \"NAME\": null, \"DATA_SOURC\": null, \"COLLECTION\": null, \"CFF_CODE\": 0, \"CFF_CODELI\": null, \"SUPPRESSIO\": null, \"GNIS_ID\": null, \"FCSUBTYPE\": 0, \"LOCATION\": 0, \"COMPOSITIO\": 0, \"INTERSTATE\": null, \"US_ROUTE\": null, \"STATE_ROUT\": null, \"COUNTY_ROU\": null, \"RTE_NO\": null, \"SHAPE_Leng\": 0.0 }, \"geometry\": { \"type\": \"LineString\", \"coordinates\": [ [ 361595.665419899625704, 5363912.040407681837678 ], [ 361594.555836868472397, 5363917.409521763212979 ], [ 361593.89310815295903, 5363924.575931211002171 ], [ 361596.988339211675338, 5363927.915439427830279 ], [ 361602.963635116524529, 5363932.060617467388511 ], [ 361607.434447552193888, 5363936.674893931485713 ], [ 361611.273961031343788, 5363941.91471491008997 ], [ 361614.517020103870891, 5363947.097769455052912 ], [ 361617.214992365217768, 5363951.880416177213192 ], [ 361619.749685801391024, 5363957.128113802522421 ], [ 361622.142473259009421, 5363962.883856708183885 ], [ 361624.438914945698343, 5363969.256667940877378 ], [ 361626.624631307786331, 5363976.361400567926466 ], [ 361627.924029099405743, 5363985.506075170822442 ], [ 361627.86683830030961, 5363992.523356010206044 ], [ 361627.084753570146859, 5363998.030162994749844 ] ] } },\r\n",
      "{ \"type\": \"Feature\", \"properties\": { \"CFF_ID\": 0, \"NAME\": null, \"DATA_SOURC\": null, \"COLLECTION\": null, \"CFF_CODE\": 0, \"CFF_CODELI\": null, \"SUPPRESSIO\": null, \"GNIS_ID\": null, \"FCSUBTYPE\": 0, \"LOCATION\": 0, \"COMPOSITIO\": 0, \"INTERSTATE\": null, \"US_ROUTE\": null, \"STATE_ROUT\": null, \"COUNTY_ROU\": null, \"RTE_NO\": null, \"SHAPE_Leng\": 0.0 }, \"geometry\": { \"type\": \"LineString\", \"coordinates\": [ [ 361575.160170553834178, 5363910.386758546344936 ], [ 361577.858499850728549, 5363914.802224067039788 ], [ 361582.22248735872563, 5363919.838639670982957 ], [ 361587.162315216788556, 5363923.681018644943833 ], [ 361593.89310815295903, 5363924.575931211002171 ], [ 361596.988339211675338, 5363927.915439427830279 ] ] } },\r\n",
      "{ \"type\": \"Feature\", \"properties\": { \"CFF_ID\": 0, \"NAME\": null, \"DATA_SOURC\": null, \"COLLECTION\": null, \"CFF_CODE\": 0, \"CFF_CODELI\": null, \"SUPPRESSIO\": null, \"GNIS_ID\": null, \"FCSUBTYPE\": 0, \"LOCATION\": 0, \"COMPOSITIO\": 0, \"INTERSTATE\": null, \"US_ROUTE\": null, \"STATE_ROUT\": null, \"COUNTY_ROU\": null, \"RTE_NO\": null, \"SHAPE_Leng\": 0.0 }, \"geometry\": { \"type\": \"LineString\", \"coordinates\": [ [ 361528.527264792646747, 5363851.847578965127468 ], [ 361532.800292045692913, 5363856.376494550146163 ], [ 361536.553666240011808, 5363863.705829126760364 ], [ 361546.646456677583046, 5363872.327196839265525 ], [ 361552.315680556348525, 5363878.951668542809784 ], [ 361554.985651041264646, 5363883.266912637278438 ], [ 361557.673885639582295, 5363890.653786796145141 ], [ 361558.93205904844217, 5363901.911108756437898 ], [ 361562.035226638254244, 5363908.709327370859683 ], [ 361566.370788790052757, 5363914.727323767729104 ], [ 361569.99153161526192, 5363924.587502979673445 ], [ 361570.930006939917803, 5363938.586122715845704 ], [ 361573.094192519201897, 5363945.264321431517601 ], [ 361573.506521411705762, 5363949.412878260016441 ] ] } },\r\n",
      "{ \"type\": \"Feature\", \"properties\": { \"CFF_ID\": 0, \"NAME\": null, \"DATA_SOURC\": null, \"COLLECTION\": null, \"CFF_CODE\": 0, \"CFF_CODELI\": null, \"SUPPRESSIO\": null, \"GNIS_ID\": null, \"FCSUBTYPE\": 0, \"LOCATION\": 0, \"COMPOSITIO\": 0, \"INTERSTATE\": null, \"US_ROUTE\": null, \"STATE_ROUT\": null, \"COUNTY_ROU\": null, \"RTE_NO\": null, \"SHAPE_Leng\": 0.0 }, \"geometry\": { \"type\": \"LineString\", \"coordinates\": [ [ 361565.238275707932189, 5363861.438743975944817 ], [ 361563.862521835369989, 5363866.659972662106156 ], [ 361561.825540122052189, 5363871.771356694400311 ], [ 361558.26741550368024, 5363878.492603863589466 ], [ 361554.985651041264646, 5363883.266912637278438 ] ] } },\r\n",
      "{ \"type\": \"Feature\", \"properties\": { \"CFF_ID\": 0, \"NAME\": null, \"DATA_SOURC\": null, \"COLLECTION\": null, \"CFF_CODE\": 0, \"CFF_CODELI\": null, \"SUPPRESSIO\": null, \"GNIS_ID\": null, \"FCSUBTYPE\": 0, \"LOCATION\": 0, \"COMPOSITIO\": 0, \"INTERSTATE\": null, \"US_ROUTE\": null, \"STATE_ROUT\": null, \"COUNTY_ROU\": null, \"RTE_NO\": null, \"SHAPE_Leng\": 0.0 }, \"geometry\": { \"type\": \"LineString\", \"coordinates\": [ [ 361647.590002915938385, 5364102.540788689628243 ], [ 361643.82496245438233, 5364102.258075170218945 ], [ 361640.270399398112204, 5364100.057799554429948 ], [ 361636.517435895686503, 5364095.612321494147182 ], [ 361633.614431765745394, 5364088.196198446676135 ], [ 361627.978724304353818, 5364078.026588072068989 ], [ 361624.34025861416012, 5364063.94611903000623 ], [ 361621.281152658397332, 5364057.244351134635508 ], [ 361616.832128900568932, 5364051.608395152725279 ], [ 361613.937702152645215, 5364046.236767061054707 ], [ 361612.732822395861149, 5364040.283753247000277 ], [ 361613.294818117283285, 5364032.517853602766991 ], [ 361615.558512464165688, 5364023.265530058182776 ], [ 361611.627804168267176, 5364017.559199143201113 ], [ 361606.579504224937409, 5364017.543222852051258 ], [ 361602.816772798192687, 5364017.688971196301281 ], [ 361594.080334887607023, 5364018.506143247708678 ], [ 361589.962967518251389, 5364018.124730626121163 ], [ 361584.098458534688689, 5364016.296105372719467 ], [ 361579.475654185051098, 5364013.898085935041308 ], [ 361573.472295691957697, 5364008.983531024307013 ], [ 361568.147270341345575, 5364005.927437052130699 ], [ 361563.980828605766874, 5364004.136501997709274 ], [ 361560.277328286494594, 5364002.991110419854522 ] ] } },\r\n",
      "{ \"type\": \"Feature\", \"properties\": { \"CFF_ID\": 0, \"NAME\": null, \"DATA_SOURC\": null, \"COLLECTION\": null, \"CFF_CODE\": 0, \"CFF_CODELI\": null, \"SUPPRESSIO\": null, \"GNIS_ID\": null, \"FCSUBTYPE\": 0, \"LOCATION\": 0, \"COMPOSITIO\": 0, \"INTERSTATE\": null, \"US_ROUTE\": null, \"STATE_ROUT\": null, \"COUNTY_ROU\": null, \"RTE_NO\": null, \"SHAPE_Leng\": 0.0 }, \"geometry\": { \"type\": \"LineString\", \"coordinates\": [ [ 361606.579504224937409, 5364017.543222852051258 ], [ 361611.627804168267176, 5364017.559199143201113 ], [ 361620.292527756071649, 5364012.15586974658072 ], [ 361625.322671070054639, 5364010.774594840593636 ], [ 361629.399862369289622, 5364010.597896461375058 ] ] } },\r\n",
      "{ \"type\": \"Feature\", \"properties\": { \"CFF_ID\": 0, \"NAME\": null, \"DATA_SOURC\": null, \"COLLECTION\": null, \"CFF_CODE\": 0, \"CFF_CODELI\": null, \"SUPPRESSIO\": null, \"GNIS_ID\": null, \"FCSUBTYPE\": 0, \"LOCATION\": 0, \"COMPOSITIO\": 0, \"INTERSTATE\": null, \"US_ROUTE\": null, \"STATE_ROUT\": null, \"COUNTY_ROU\": null, \"RTE_NO\": null, \"SHAPE_Leng\": 0.0 }, \"geometry\": { \"type\": \"LineString\", \"coordinates\": [ [ 361616.832128898589872, 5364051.608395150862634 ], [ 361646.597813429485541, 5364050.946935492567718 ] ] } }\r\n",
      "]\r\n",
      "}\r\n"
     ]
    }
   ],
   "source": [
    "!cat {road_utm_fn}"
   ]
  },
  {
   "cell_type": "code",
   "execution_count": 77,
   "metadata": {},
   "outputs": [
    {
     "name": "stdout",
     "output_type": "stream",
     "text": [
      "gdal_rasterize -burn 1 -a_nodata 0 -a_srs epsg:32611 -te 360902 5363563.0 361986.0 5364699 -tr 2.0 2.0 -ot UInt16 /geodata/salvage_logging/north_star/Skid_segments.utm.geojson /geodata/weppcloud_runs/rlew-speechless-coastline/roads/road_mask.tif\n"
     ]
    }
   ],
   "source": [
    "dilation = 3  # 6 m wide skid trail\n",
    "\n",
    "road_mask_fn = _join(roads_dir, 'road_mask.tif')\n",
    "cmd = ['gdal_rasterize', '-burn', 1, '-a_nodata', '0',\n",
    "       '-a_srs', 'epsg:{}'.format(epsg), \n",
    "       '-te', ul_x, lr_y, lr_x, ul_y,\n",
    "       '-tr', cellsize, cellsize,\n",
    "       '-ot', 'UInt16', road_utm_fn, road_mask_fn]\n",
    "cmd = [str(v) for v in cmd]\n",
    "print(' '.join(cmd))\n",
    "\n",
    "p = Popen(cmd, stdout=PIPE, stderr=PIPE)\n",
    "p.wait()\n",
    "assert _exists(road_mask_fn)\n",
    "\n",
    "mask, _transform, _proj = read_raster(road_mask_fn)\n",
    "kernel = np.ones((dilation, dilation), dtype=np.uint8)\n",
    "dilated_mask = cv2.dilate(mask, kernel)"
   ]
  },
  {
   "cell_type": "code",
   "execution_count": 78,
   "metadata": {},
   "outputs": [
    {
     "data": {
      "text/plain": [
       "14456.0"
      ]
     },
     "execution_count": 78,
     "metadata": {},
     "output_type": "execute_result"
    }
   ],
   "source": [
    "np.sum(dilated_mask)"
   ]
  },
  {
   "cell_type": "code",
   "execution_count": 79,
   "metadata": {},
   "outputs": [
    {
     "data": {
      "image/png": "[encoded data removed]",
      "text/plain": [
       "<Figure size 432x288 with 1 Axes>"
      ]
     },
     "metadata": {},
     "output_type": "display_data"
    }
   ],
   "source": [
    "plt.imshow(dilated_mask.T)\n",
    "plt.show()"
   ]
  },
  {
   "cell_type": "code",
   "execution_count": 80,
   "metadata": {},
   "outputs": [
    {
     "data": {
      "image/png": "[encoded data removed]",
      "text/plain": [
       "<Figure size 432x288 with 1 Axes>"
      ]
     },
     "metadata": {},
     "output_type": "display_data"
    },
    {
     "data": {
      "image/png": "[encoded data removed]",
      "text/plain": [
       "<Figure size 432x288 with 1 Axes>"
      ]
     },
     "metadata": {},
     "output_type": "display_data"
    }
   ],
   "source": [
    "\n",
    "bound, _transform, _proj = read_raster(watershed.bound)\n",
    "plt.imshow(bound.T)\n",
    "plt.show()\n",
    "np.sum(bound), np.prod(bound.shape)\n",
    "\n",
    "bound_dilated_mask = bound * dilated_mask\n",
    "plt.imshow(bound_dilated_mask.T)\n",
    "plt.show()"
   ]
  },
  {
   "cell_type": "code",
   "execution_count": 70,
   "metadata": {},
   "outputs": [
    {
     "data": {
      "image/png": "[encoded data removed]",
      "text/plain": [
       "<Figure size 432x288 with 1 Axes>"
      ]
     },
     "metadata": {},
     "output_type": "display_data"
    },
    {
     "name": "stdout",
     "output_type": "stream",
     "text": [
      "970.8585205078125 1049.5631103515625\n"
     ]
    }
   ],
   "source": [
    "\n",
    "dem, _transform, _proj = read_raster(dem_fn)\n",
    "bound_dem_mask = np.ma.masked_array(dem, mask=np.logical_not(bound_dilated_mask))\n",
    "\n",
    "plt.imshow(bound_dem_mask.T)\n",
    "plt.show()\n",
    "print(np.min(bound_dem_mask), np.max(bound_dem_mask))"
   ]
  },
  {
   "cell_type": "code",
   "execution_count": 71,
   "metadata": {},
   "outputs": [
    {
     "data": {
      "text/plain": [
       "'3.3.2'"
      ]
     },
     "execution_count": 71,
     "metadata": {},
     "output_type": "execute_result"
    }
   ],
   "source": [
    "import matplotlib\n",
    "matplotlib.__version__"
   ]
  },
  {
   "cell_type": "code",
   "execution_count": null,
   "metadata": {},
   "outputs": [],
   "source": [
    "\n",
    "function roadSegmentRaster($workingDir,$zone)\n",
    "{\n",
    "  global $globgisdir,$globPythonBin;\n",
    "\n",
    "\n",
    "\n",
    "\n",
    "  // Set the cell size of the road grid in meters. We will interpolate the 30m or 10m dem to this cell size when \n",
    "  // generating the roads slope.\n",
    "  $roadGridResolution = 5;\n",
    "\n",
    "  // create a grid file that only contains the extent of the watershed boundary, we only need to get the roads that are inside the watershed. \n",
    "  // This is initially filled with nodata (-9999)\n",
    "  $boundFile = $workingDir . \"/BOUND.ARC\";\n",
    "  $smallFile = $workingDir . \"/roads/roadgrid.asc\";\n",
    "  $cmd = \"/home/wepp/wepp/makesmall \" . $boundFile . \" \" . $smallFile;\n",
    "  system($cmd);\n",
    "\n",
    "  echo(\"<br>Step 2:\" . $cmd . \"<br>-----------------------<br>\");\n",
    "\n",
    "  $boundSmall = $workingDir . \"/roads/boundsmall.asc\";\n",
    "  copy($smallFile,$boundSmall);\n",
    "\n",
    "  // find extents for only the watershed\n",
    "  $dem_extentsmr = getExtent($boundSmall, $workingDir . \"/deminfosmr.txt\");\n",
    "\n",
    "  $boundSmalltif = $workingDir . \"/roads/boundsmall.tif\";\n",
    "  if (file_exists($boundSmalltif))\n",
    "    unlink($boundSmalltif);\n",
    "\n",
    "  if (file_exists($boundSmall))\n",
    "     unlink($boundSmall);\n",
    "\n",
    "  // Create a TIFF file with the watershed boundary as the maximum extent, inside initialized to 1's\n",
    "  $cmd = $globPythonBin .  \"gdal_merge.py -init -9999  -o \" . $boundSmalltif . \" -ul_lr \" . $dem_extentsmr . \" \" . $boundFile;\n",
    "  system($cmd);\n",
    "\n",
    "  echo(\"<br>Step 3:\" . $cmd . \"<br>-----------------------<br>\");\n",
    "\n",
    "  // translate the small watershed TIFF boundary file into ascii.\n",
    "  $cmd  = \"gdal_translate -of AAIGrid -a_nodata 0 \" . $boundSmalltif . \" \" . $boundSmall;\n",
    "  system($cmd);\n",
    "  echo(\"<br>Step 4:\" . $cmd . \"<br>------------------------<br>\");\n",
    "\n",
    "  $boundSmallSave = $workingDir . \"/roads/boundsmall_save.asc\";\n",
    "  copy($boundSmall,$boundSmallSave);\n",
    "\n",
    "  // create a tiff template, data will be all undefined, see GDAL library\n",
    "  $outFile = $workingDir . \"/roads/roadgridsegsA.tif\";\n",
    "  $inFile =  $workingDir . \"/roads/roadgrid.asc\";\n",
    "  $cmd = \"gdal_translate -ot Int32 -a_srs \" . $srs . \" -a_ullr  \" . $dem_extentsmr . \" \" . $inFile . \" \" . $outFile;\n",
    "  system($cmd);\n",
    "  echo(\"<br>Step 5:\" . $cmd . \"<br>------------------------<br>\");\n",
    "\n",
    "  // Set the cell size of the road grid in meters. We will interpolate the 30m or 10m dem to this cell size when\n",
    "  // generating the roads slope.\n",
    "  $roadGridResolution = 5;\n",
    " \n",
    "  //\n",
    "  //------------- Road segment extraction ----------------------\n",
    "  //\n",
    "\n",
    "  // Make this a more detailed grid\n",
    "  $outFile5m = $workingDir . \"/roads/roadgridsegs.tif\";\n",
    "  if (file_exists($outFile5m))\n",
    "       unlink($outFile5m);\n",
    "\n",
    "  $cmd = \"gdalwarp -tr \" . $roadGridResolution . \" \" . $roadGridResolution . \" \" . $outFile . \" \" . $outFile5m;\n",
    "  system($cmd);\n",
    "  echo(\"<br>Step 6:\" . $cmd . \"<br>------------------------<br>\");\n",
    "\n",
    "  // burn in with FID, from the vector data this will give road segments \n",
    "  $shapeFile = $workingDir . \"/roads/roadsUTM.shp\";\n",
    "  $outFile = $workingDir . \"/roads/roadgridsegs.tif\";\n",
    "  $cmd = \"gdal_rasterize -l roadsUTM  -a OBJECTID \" . $shapeFile . \" \" . $outFile;\n",
    "  system($cmd);\n",
    "  echo(\"<br> Step 7:\" . $cmd . \"<br>------------------------<br>\");\n",
    "\n",
    " // roadgridsegs.tif now contains all the road segment ID's for the roads and their position on the landscape\n",
    " // convert it back into an ascii grid to work with\n",
    " $tifFile = $workingDir . \"/roads/roadgridsegs.tif\";\n",
    " $outFile = $workingDir . \"/roads/roadgridsegs.asc\";\n",
    " $cmd = \"gdal_translate -of AAIGrid \" . $tifFile . \" \" . $outFile;\n",
    " system($cmd);\n",
    " echo(\"<br>Step 8:\" . $cmd . \"<br>------------------------<br>\");\n",
    "\n",
    " // Generate a more detailed grid of the watershed boundary\n",
    " $inFile = $boundSmalltif;\n",
    " $outFile = $workingDir . \"/roads/boundsmallDet.tif\";\n",
    " if (file_exists($outFile))\n",
    "    unlink($outFile);\n",
    " $cmd = \"gdalwarp -tr \" . $roadGridResolution . \" \" . $roadGridResolution . \" \" . $inFile . \" \" . $outFile;\n",
    " system($cmd);\n",
    " echo(\"<br>Step 9:\" . $cmd . \"<br>------------------------<br>\");\n",
    "\n",
    "$inFile =   $workingDir . \"/roads/boundsmallDet.tif\";\n",
    " $boundSmall5m = $workingDir . \"/roads/boundsmallDet.asc\";\n",
    " // translate the detailed boundary into ascii.\n",
    " $cmd  = \"gdal_translate -of AAIGrid -a_nodata 0 \" . $inFile . \" \" . $boundSmall5m;\n",
    " system($cmd);\n",
    " echo(\"<br>Step 10:\" . $cmd . \"<br>------------------------<br>\");\n",
    "\n",
    " // clip out the ids that are outside the watershed boundary to make for faster queries, maskgrid is custom c++ program\n",
    " $sgrid = $workingDir . \"/roads/roadgridsegs.asc\";\n",
    " $bgrid = $workingDir . \"/roads/boundsmallDet.asc\";\n",
    " $outgrid = $workingDir . \"/roads/roadgridsegs2.asc\";\n",
    " $cmd = \"/home/wepp/wepp/maskgrid \" . $sgrid . \" \" . $bgrid . \" \" . $outgrid;\n",
    " system($cmd);\n",
    " echo(\"<br>Step 11:\" . $cmd . \"<br>\");\n",
    "\n",
    " // scan the ascii grid files to get all the unique road ids, getids is a custom c++ program\n",
    " $idFile = $workingDir . \"/roads/roadids.txt\";\n",
    " $inFile = $workingDir . \"/roads/roadgridsegs2.asc\";\n",
    " $cmd = \"/home/wepp/wepp/getids \" . $inFile . \" \" . $idFile;\n",
    " system($cmd);\n",
    " echo(\"<br>Step 12:\" . $cmd . \"<br>\");\n",
    "\n",
    "\n",
    " getRoadTypes($idFile,$workingDir);\n",
    "\n",
    "\n",
    " //\n",
    " //-------------- Road type extraction ---------------------------\n",
    " // This is just for information, the types are found by using the SQL statement in the function getTypeFromID().\n",
    " //\n",
    "\n",
    " // create a tiff template, data will be all undefined, see GDAL library\n",
    " $outFile = $workingDir . \"/roads/roadgridtypesA.tif\";\n",
    " $inFile =  $workingDir . \"/roads/roadgrid.asc\";\n",
    " $cmd = \"gdal_translate -ot Int32 -a_srs \" . $srs . \" -a_ullr  \" . $dem_extentsmr . \" \" . $inFile . \" \" . $outFile;\n",
    " system($cmd);\n",
    " echo(\"<br>Step 13:\" . $cmd . \"<br>------------------------<br>\");\n",
    "\n",
    " // Make this a more detailed grid\n",
    " $outFile5m = $workingDir . \"/roads/roadgridtypes.tif\";\n",
    " if (file_exists($outFile5m))\n",
    "    unlink($outFile5m);\n",
    "\n",
    " $cmd = \"gdalwarp -tr \" . $roadGridResolution . \" \" . $roadGridResolution . \" \" . $outFile . \" \" . $outFile5m;\n",
    " system($cmd);\n",
    " echo(\"<br>Step 14:\" . $cmd . \"<br>------------------------<br>\");\n",
    "\n",
    " // create a tiff template, data will be all undefined, see GDAL library\n",
    " $outFile = $workingDir . \"/roads/roadgridtypes.tif\";\n",
    " $inFile =  $workingDir . \"/roads/roadgrid.asc\";\n",
    " $cmd = \"gdal_translate -ot Int32 -a_srs \" . $srs . \" \" . $inFile . \" \" . $outFile;\n",
    " system($cmd);\n",
    " echo(\"<br>Step 15:\" . $cmd . \"<br>------------------------<br>\");\n",
    "\n",
    "  // create a second raster burn in with FCSUBTYPE, this will give the road type\n",
    "  $shapefile = $workingDir . \"/roads/roadsUTM.shp\";\n",
    "  $outFile = $workingDir . \"/roads/roadgridtypes.tif\";\n",
    "  $cmd = \"gdal_rasterize -l roadsUTM -a FCSUBTYPE \" . $shapefile . \" \" . $outFile;\n",
    "  system($cmd);\n",
    "  echo(\"<br>Step 16:\" . $cmd . \"<br>------------------------<br>\");\n",
    "\n",
    "  // roadgridtypes.tif now contains all the road segment types for the roads and their position on the landscape\n",
    "  // convert it back into an ascii grid to work with\n",
    "  $tifFile = $workingDir . \"/roads/roadgridtypes.tif\";\n",
    "  $outFile = $workingDir . \"/roads/roadgridtypes.asc\";\n",
    "  $cmd = \"gdal_translate -of AAIGrid \" . $tifFile . \" \" . $outFile;\n",
    "  system($cmd);\n",
    "  echo(\"<br>Step 17:\" . $cmd . \"<br>------------------------<br>\");\n",
    "\n",
    " // clip out the ids that are outside the watershed boundary to make for faster queries, maskgrid is custom c++ program\n",
    " $sgrid = $workingDir . \"/roads/roadgridtypes.asc\";\n",
    " $bgrid = $workingDir .  \"/roads/boundsmallDet.asc\"; \n",
    " $outgrid = $workingDir . \"/roads/roadgridtypes2.asc\";\n",
    " $cmd = \"/home/wepp/wepp/maskgrid \" . $sgrid . \" \" . $bgrid . \" \" . $outgrid;\n",
    " system($cmd);\n",
    " echo(\"<br>Step 18:\" . $cmd . \"<br>\");\n",
    "\n",
    "//\n",
    "//---------------------------- Interpolated DEM ---------------------------------\n",
    "//\n",
    " $boundFile = $workingDir . \"/BOUND.ARC\";\n",
    " $smallFile = $workingDir . \"/roads/dem30m.asc\";\n",
    " if (file_exists($smallFile))\n",
    "      unlink($smallFile);\n",
    "\n",
    " $cmd = \"/home/wepp/wepp/makesmall \" . $boundFile . \" \" . $smallFile;\n",
    " system($cmd);\n",
    "\n",
    " $demSmalltif = $workingDir . \"/roads/boundsmallDEM.tif\";\n",
    " if (file_exists($demSmalltif))\n",
    "    unlink($demSmalltif);\n",
    "\n",
    "// convert the relief output file from an ascii to tif\n",
    "$inFile = $workingDir . \"/RELIEF.ARC\";\n",
    "$outFile = $workingDir . \"/relief.tif\";\n",
    "$cmd = $cmd = \"gdal_translate -of GTiff \" . $inFile . \" \" . $outFile;\n",
    "system($cmd);\n",
    "\n",
    "$elevFile = $workingDir . \"/relief.tif\";\n",
    " // Create a TIFF file with the watershed boundary as the maximum extent, inside initialized to elevations \n",
    " $cmd = $globPythonBin .  \"gdal_merge.py -init -9999  -o \" . $demSmalltif . \" -ul_lr \" . $dem_extentsmr . \" \" . $elevFile;\n",
    " system($cmd);\n",
    " echo(\"<br>Step 19:\" . $cmd . \"<br>------------------------<br>\");\n",
    "\n",
    "\n",
    "// interpolate the DEM down to 5m\n",
    " $inFile = $workingDir . \"/roads/boundsmallDEM.tif\";\n",
    " $outFile5m = $workingDir . \"/roads/dem5m.tif\";\n",
    " if (file_exists($outFile5m))\n",
    "     unlink($outFile5m);\n",
    "\n",
    " $cmd = \"gdalwarp -r cubicspline -tr \" . $roadGridResolution . \" \" . $roadGridResolution . \" \" . $inFile . \" \" . $outFile5m;\n",
    " system($cmd);\n",
    " echo(\"<br>Step 19:\" . $cmd . \"<br>------------------------<br>\");\n",
    "\n",
    "// convert the 5m dem back to ascii to work with\n",
    " $outFile = $workingDir . \"/roads/dem5m.asc\";\n",
    " $inFile =  $workingDir . \"/roads/dem5m.tif\";\n",
    " $cmd = \"gdal_translate -of AAIGrid \" . $inFile . \" \" . $outFile;\n",
    " system($cmd);\n",
    " echo(\"<br>Step 20:\" . $cmd . \"<br>------------------------<br>\");\n",
    "\n",
    "  $outFile = $workingDir . \"/roads/roadgridsegs2.tif\";\n",
    "  $inFile =  $workingDir . \"/roads/roadgridsegs2.asc\";\n",
    "  $cmd = \"gdal_translate -of GTiff \" . $inFile . \" \" . $outFile;\n",
    "  system($cmd);\n",
    "\n",
    "  // find extents \n",
    "  $roadExtent = getExtent($inFile, $workingDir . \"/roads/road5mext.txt\");\n",
    "\n",
    "  //$inFile = $workingDir . \"/roads/roadgridsegs2.tif\";\n",
    "  //$inFile2 = $workingDir . \"/NETFUL.tif\";\n",
    "  $outFile = $workingDir . \"/roads/netful2.tif\";\n",
    "  $inFile = $workingDir . \"/NETFUL.tif\";\n",
    "\n",
    "   if (file_exists($outFile))\n",
    "     unlink($outFile);\n",
    "  \n",
    "  // create a 5m resolution channel grid\n",
    "  $cmd = \"gdalwarp -srcnodata 0 -r bilinear -tr \" . $roadGridResolution . \" \" . $roadGridResolution . \" \" . $inFile . \" \" . $outFile;\n",
    "  system($cmd);\n",
    "\n",
    "  $inFile = $workingDir . \"/roads/roadgridsegs2.tif\";\n",
    "  $inFile2 = $workingDir . \"/roads/netful2.tif\";\n",
    "  $outFile = $workingDir . \"/roads/chanMerged.tif\";\n",
    "\n",
    "   if (file_exists($outFile))\n",
    "        unlink($outFile);\n",
    "\n",
    "  // make the grid the same extent as the road file \n",
    "  $cmd = $globPythonBin .  \"gdal_merge.py -of GTiff -init -9999 -o \" . $outFile . \" -ul_lr \" . $roadExtent . \" \" . $inFile . \" \" . $inFile2;\n",
    "  system($cmd);\n",
    "  echo(\"<br>Step 21:\" . $cmd . \"<b>------------------------------<br>\");\n",
    "\n",
    "  // convert back to ascii to work with\n",
    "  $outFile = $workingDir . \"/roads/chanMerged.asc\";\n",
    "  $inFile =  $workingDir . \"/roads/chanMerged.tif\";\n",
    "  $cmd = \"gdal_translate -of AAIGrid \" . $inFile . \" \" . $outFile;\n",
    "  system($cmd);\n",
    "  echo(\"<br>Step 22:\" . $cmd . \"<br>------------------------<br>\");\n",
    "\n",
    " getSegmentElevations($workingDir);\n",
    "\n",
    "\n",
    " makeRoadProfileGraphs($workingDir);\n",
    "\n",
    "}\n"
   ]
  },
  {
   "cell_type": "code",
   "execution_count": null,
   "metadata": {},
   "outputs": [],
   "source": []
  }
 ],
 "metadata": {
  "kernelspec": {
   "display_name": "Python 3",
   "language": "python",
   "name": "python3"
  },
  "language_info": {
   "codemirror_mode": {
    "name": "ipython",
    "version": 3
   },
   "file_extension": ".py",
   "mimetype": "text/x-python",
   "name": "python",
   "nbconvert_exporter": "python",
   "pygments_lexer": "ipython3",
   "version": "3.6.9"
  }
 },
 "nbformat": 4,
 "nbformat_minor": 2
}
